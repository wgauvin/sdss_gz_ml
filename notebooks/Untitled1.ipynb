{
 "cells": [
  {
   "cell_type": "code",
   "execution_count": 1,
   "metadata": {},
   "outputs": [],
   "source": [
    "%load_ext autoreload\n",
    "%autoreload 2"
   ]
  },
  {
   "cell_type": "code",
   "execution_count": 3,
   "metadata": {},
   "outputs": [],
   "source": [
    "from __future__ import print_function\n",
    "\n",
    "import numpy as np\n",
    "import pandas as pd\n",
    "import csv\n",
    "import os"
   ]
  },
  {
   "cell_type": "code",
   "execution_count": 4,
   "metadata": {},
   "outputs": [
    {
     "name": "stdout",
     "output_type": "stream",
     "text": [
      "-rw-r--r--  1 will  staff  250484 19 May 20:20 data/cnn-results.csv.bz2\r\n"
     ]
    }
   ],
   "source": [
    "%ls -l data/*cnn*"
   ]
  },
  {
   "cell_type": "code",
   "execution_count": 9,
   "metadata": {},
   "outputs": [],
   "source": [
    "cnn_results = pd.read_csv('data/cnn-results.csv.bz2')\n",
    "y_test = cnn_results[['galaxy_type', 'z']]"
   ]
  },
  {
   "cell_type": "code",
   "execution_count": 12,
   "metadata": {},
   "outputs": [],
   "source": [
    "predictions = np.zeros((5, len(y_test), 2))\n",
    "\n",
    "for idx in range(1, 6):\n",
    "    curr_predictions = predictions[idx - 1]\n",
    "    curr_predictions[:,0] = cnn_results[f'pred_galaxy_type_val_{idx}']\n",
    "    curr_predictions[:,1] = cnn_results[f'pred_photoz_{idx}']  "
   ]
  },
  {
   "cell_type": "code",
   "execution_count": 13,
   "metadata": {},
   "outputs": [],
   "source": [
    "def get_y_results(predictions, y_test):\n",
    "    predictions_avg = np.mean(predictions, axis=0)\n",
    "    predictions_err = np.max(np.abs(predictions - predictions_avg), axis=0)\n",
    "    predictions_std = np.std(predictions, axis=0, ddof=1)\n",
    "    \n",
    "    galaxy_classification_preds = predictions.transpose()[0]\n",
    "    galaxy_classifications = np.count_nonzero(np.round(galaxy_classification_preds, 0), axis=1)\n",
    "    y_results = y_test.copy().reset_index()\n",
    "    y_results['galaxy_type_pred_raw'] = predictions_avg[:,0]\n",
    "    y_results['galaxy_type_pred_err'] = predictions_err[:,0]\n",
    "    y_results['galaxy_type_pred_std'] = predictions_std[:,0]\n",
    "    y_results['galaxy_type_pred'] = np.round(y_results.galaxy_type_pred_raw,0)\n",
    "    y_results['galaxy_type_pred'] = y_results['galaxy_type_pred'].astype(int, copy=False)\n",
    "    y_results['elliptical_votes'] = galaxy_classifications\n",
    "    y_results['galaxy_type_pred_votes'] = 0\n",
    "    y_results.loc[y_results.elliptical_votes >= 3, 'galaxy_type_pred_votes'] = 1\n",
    "    y_results['correct_votes'] = galaxy_classifications\n",
    "    y_results.loc[y_results.galaxy_type == 0,'correct_votes'] = 5 - y_results['correct_votes']\n",
    "    y_results['incorrect_votes'] = 5 - y_results['correct_votes']\n",
    "    y_results['photoz'] = predictions_avg[:,1]\n",
    "    y_results['photoz_err'] = (y_results['z'] - y_results['photoz'])/(1 + y_results['z'])\n",
    "    y_results['photoz_err_abs'] = np.abs(y_results['photoz_err'])\n",
    "    y_results['photoz_std'] = predictions_std[:,1]\n",
    "    y_results['galaxy_err'] = np.abs(y_results.galaxy_type - y_results.galaxy_type_pred_raw)\n",
    "    \n",
    "    return y_results, galaxy_classifications"
   ]
  },
  {
   "cell_type": "code",
   "execution_count": 14,
   "metadata": {},
   "outputs": [],
   "source": [
    "y_results, galaxy_classifications = get_y_results(predictions, y_test)"
   ]
  },
  {
   "cell_type": "code",
   "execution_count": null,
   "metadata": {},
   "outputs": [],
   "source": []
  }
 ],
 "metadata": {
  "kernelspec": {
   "display_name": "Python 3",
   "language": "python",
   "name": "python3"
  },
  "language_info": {
   "codemirror_mode": {
    "name": "ipython",
    "version": 3
   },
   "file_extension": ".py",
   "mimetype": "text/x-python",
   "name": "python",
   "nbconvert_exporter": "python",
   "pygments_lexer": "ipython3",
   "version": "3.7.1"
  }
 },
 "nbformat": 4,
 "nbformat_minor": 2
}
