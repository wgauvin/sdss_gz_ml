{
 "cells": [
  {
   "cell_type": "code",
   "execution_count": null,
   "metadata": {},
   "outputs": [],
   "source": [
    "import numpy as np\n",
    "from astropy.io import fits\n",
    "from astropy.io.fits import HDUList\n",
    "from astropy.wcs import WCS\n",
    "from numpy import arcsinh\n",
    "import matplotlib.pyplot as plt\n",
    "from astropy.visualization import astropy_mpl_style\n",
    "plt.style.use(astropy_mpl_style)\n",
    "from reproject import reproject_interp\n",
    "from aplpy.rgb import make_rgb_cube"
   ]
  },
  {
   "cell_type": "code",
   "execution_count": null,
   "metadata": {},
   "outputs": [],
   "source": [
    "%ls -l"
   ]
  },
  {
   "cell_type": "code",
   "execution_count": null,
   "metadata": {},
   "outputs": [],
   "source": [
    "def load_file(filename):\n",
    "    fits_data = fits.open(filename)\n",
    "    hdu = fits_data[0]\n",
    "    header = hdu.header\n",
    "    data = hdu.data\n",
    "    \n",
    "    return data, header, WCS(header), hdu\n",
    "\n",
    "def world2pix(ra, dec, wcs):\n",
    "    coords = np.array([[ra, dec]])\n",
    "    location = wcs.wcs_world2pix(coords, 0, ra_dec_order=True)\n",
    "    return location[0][0], location[0][1]"
   ]
  },
  {
   "cell_type": "code",
   "execution_count": null,
   "metadata": {},
   "outputs": [],
   "source": [
    "R_IDX = 0\n",
    "G_IDX = 1\n",
    "B_IDX = 2\n",
    "\n",
    "def scale_rgb(r, g, b, sigma=6, min=0, max=10000, gains=[0.9,1.1,1.8], gamma=0.1):\n",
    "    r = r.copy()\n",
    "    g = g.copy()\n",
    "    b = b.copy()\n",
    "\n",
    "    slope = 255 / arcsinh((max - min)/sigma)\n",
    "    max_x, max_y = r.shape\n",
    "\n",
    "    mean = (r + g + b)/3\n",
    "    mean[mean < min] = 0\n",
    "    r[mean == 0] = 0\n",
    "    g[mean == 0] = 0\n",
    "    b[mean == 0] = 0\n",
    "    \n",
    "    scale = slope * arcsinh((mean - min) / sigma) / mean\n",
    "\n",
    "    r = (r * scale).astype(int)\n",
    "    g = (g * scale).astype(int)\n",
    "    b = (b * scale).astype(int)\n",
    "    \n",
    "    r = (r * gains[R_IDX]).astype(int)\n",
    "    g = (g * gains[G_IDX]).astype(int)\n",
    "    b = (b * gains[B_IDX]).astype(int)\n",
    "    \n",
    "    r += (gamma * (r - g)).astype(int)\n",
    "    b += (gamma * (b - g)).astype(int)\n",
    "\n",
    "    r[r < 0] = 0\n",
    "    r[r > 255] = 255\n",
    "    g[g < 0] = 0\n",
    "    g[g > 255] = 255\n",
    "    b[b < 0] = 0\n",
    "    b[b > 255] = 255\n",
    "            \n",
    "    return r, g, b\n",
    "\n",
    "def cutout(data, wcs, ra, dec, x_size=100, y_size=100):\n",
    "    x_centre, y_centre = world2pix(ra, dec, wcs)\n",
    "    x_top = int(round(x_centre) - x_size/2)\n",
    "    y_top = int(round(y_centre) - y_size/2)\n",
    "    x_bottom = x_top + x_size\n",
    "    y_bottom = y_top + y_size\n",
    "    \n",
    "    return data[y_top:y_bottom, x_top:x_bottom]"
   ]
  },
  {
   "cell_type": "code",
   "execution_count": null,
   "metadata": {},
   "outputs": [],
   "source": [
    "u_data, u_header, u_wcs, u_hdu = load_file('frame-u-002141-3-0076.fits')\n",
    "g_data, g_header, g_wcs, g_hdu = load_file('frame-g-002141-3-0076.fits')\n",
    "r_data, r_header, r_wcs, r_hdu = load_file('frame-r-002141-3-0076.fits')\n",
    "i_data, i_header, i_wcs, i_hdu = load_file('frame-i-002141-3-0076.fits')\n",
    "z_data, z_header, z_wcs, z_hdu = load_file('frame-z-002141-3-0076.fits')"
   ]
  },
  {
   "cell_type": "code",
   "execution_count": null,
   "metadata": {},
   "outputs": [],
   "source": [
    "min((g_data.min(), r_data.min(), i_data.min()))"
   ]
  },
  {
   "cell_type": "code",
   "execution_count": null,
   "metadata": {},
   "outputs": [],
   "source": [
    "max((g_data.max(), r_data.max(), i_data.max()))"
   ]
  },
  {
   "cell_type": "code",
   "execution_count": null,
   "metadata": {},
   "outputs": [],
   "source": [
    "hdulist = HDUList([g_hdu, r_hdu, i_hdu])"
   ]
  },
  {
   "cell_type": "code",
   "execution_count": null,
   "metadata": {},
   "outputs": [],
   "source": [
    "i_hdu.header"
   ]
  },
  {
   "cell_type": "code",
   "execution_count": null,
   "metadata": {},
   "outputs": [],
   "source": [
    "data_array, footprint = reproject_interp(g_hdu, r_header)"
   ]
  },
  {
   "cell_type": "code",
   "execution_count": null,
   "metadata": {},
   "outputs": [],
   "source": [
    "g_data"
   ]
  },
  {
   "cell_type": "code",
   "execution_count": null,
   "metadata": {},
   "outputs": [],
   "source": [
    "plt.imshow(g_data)"
   ]
  },
  {
   "cell_type": "code",
   "execution_count": null,
   "metadata": {},
   "outputs": [],
   "source": [
    "data_array"
   ]
  },
  {
   "cell_type": "code",
   "execution_count": null,
   "metadata": {},
   "outputs": [],
   "source": [
    "plt.imshow(data_array)"
   ]
  },
  {
   "cell_type": "code",
   "execution_count": null,
   "metadata": {},
   "outputs": [],
   "source": [
    "ra, dec = (153.937453927558,-0.371692014858263)\n",
    "red_cutout = cutout(i_data, i_wcs, ra, dec, 50, 50)\n",
    "green_cutout = cutout(r_data, r_wcs, ra, dec, 50, 50)\n",
    "blue_cutout = cutout(g_data, g_wcs, ra, dec, 50, 50)"
   ]
  },
  {
   "cell_type": "code",
   "execution_count": null,
   "metadata": {},
   "outputs": [],
   "source": [
    "r, g, b = scale_rgb(red_cutout, green_cutout, blue_cutout)"
   ]
  },
  {
   "cell_type": "code",
   "execution_count": null,
   "metadata": {},
   "outputs": [],
   "source": [
    "grey = np.power((0.2126 * np.power(r, 2.2) + 0.7152 * np.power(g, 2.2) + 0.0722 + np.power(b, 2.2)), 1/2.2) # (0.2126×Red2.2 + 0.7152×Green2.2 + 0.0722×Blue2.2"
   ]
  },
  {
   "cell_type": "code",
   "execution_count": null,
   "metadata": {},
   "outputs": [],
   "source": [
    "grey *= 255/np.max(grey)"
   ]
  },
  {
   "cell_type": "code",
   "execution_count": null,
   "metadata": {},
   "outputs": [],
   "source": [
    "plt.figure(figsize=(20,20))\n",
    "plt.imshow(grey.T, cmap='Reds')\n",
    "plt.colorbar()"
   ]
  },
  {
   "cell_type": "code",
   "execution_count": null,
   "metadata": {},
   "outputs": [],
   "source": [
    "plt.figure(figsize=(20,20))\n",
    "plt.imshow(scaled_data[2], cmap='gray')\n",
    "plt.colorbar()"
   ]
  },
  {
   "cell_type": "code",
   "execution_count": null,
   "metadata": {},
   "outputs": [],
   "source": [
    "ra = 153.925821207403\n",
    "dec = -0.348890142024622"
   ]
  },
  {
   "cell_type": "code",
   "execution_count": null,
   "metadata": {},
   "outputs": [],
   "source": [
    "print(world2pix(ra, dec, g_wcs))\n",
    "print(world2pix(ra, dec, i_wcs))\n",
    "print(world2pix(ra, dec, r_wcs))\n",
    "print(world2pix(ra, dec, u_wcs))\n",
    "print(world2pix(ra, dec, z_wcs))\n"
   ]
  },
  {
   "cell_type": "code",
   "execution_count": null,
   "metadata": {},
   "outputs": [],
   "source": [
    "ra_centre = location[0][0]\n",
    "dec_centre = location[0][1]\n",
    "size = 40"
   ]
  },
  {
   "cell_type": "code",
   "execution_count": null,
   "metadata": {},
   "outputs": [],
   "source": [
    "print(ra_centre, dec_centre)"
   ]
  },
  {
   "cell_type": "code",
   "execution_count": null,
   "metadata": {},
   "outputs": [],
   "source": [
    "ra_top = int(ra_centre - size/2)\n",
    "dec_top = int(dec_centre - size/2)\n",
    "ra_bottom = ra_top + size\n",
    "dec_bottom = dec_top + size"
   ]
  },
  {
   "cell_type": "code",
   "execution_count": null,
   "metadata": {},
   "outputs": [],
   "source": [
    "fits_data[0].data.shape"
   ]
  },
  {
   "cell_type": "code",
   "execution_count": null,
   "metadata": {},
   "outputs": [],
   "source": [
    "image_data = fits_data[0].data[dec_top:dec_bottom, ra_top:ra_bottom]"
   ]
  },
  {
   "cell_type": "code",
   "execution_count": null,
   "metadata": {},
   "outputs": [],
   "source": [
    "image_data.size"
   ]
  },
  {
   "cell_type": "code",
   "execution_count": null,
   "metadata": {},
   "outputs": [],
   "source": [
    "plt.figure(figsize=(10,10))\n",
    "plt.imshow(image_data, cmap='gray')\n",
    "plt.colorbar()"
   ]
  },
  {
   "cell_type": "code",
   "execution_count": null,
   "metadata": {},
   "outputs": [],
   "source": []
  }
 ],
 "metadata": {
  "kernelspec": {
   "display_name": "Python 3",
   "language": "python",
   "name": "python3"
  },
  "language_info": {
   "codemirror_mode": {
    "name": "ipython",
    "version": 3
   },
   "file_extension": ".py",
   "mimetype": "text/x-python",
   "name": "python",
   "nbconvert_exporter": "python",
   "pygments_lexer": "ipython3",
   "version": "3.7.1"
  }
 },
 "nbformat": 4,
 "nbformat_minor": 2
}
