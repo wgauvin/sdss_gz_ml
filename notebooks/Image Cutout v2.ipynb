{
 "cells": [
  {
   "cell_type": "code",
   "execution_count": 1,
   "metadata": {},
   "outputs": [],
   "source": [
    "%load_ext autoreload\n",
    "%autoreload 2"
   ]
  },
  {
   "cell_type": "code",
   "execution_count": 2,
   "metadata": {},
   "outputs": [],
   "source": [
    "import random\n",
    "import logging\n",
    "import json\n",
    "import subprocess as sp\n",
    "import numpy as np\n",
    "\n",
    "from PIL import Image\n",
    "\n",
    "from astropy.io import fits\n",
    "\n",
    "from sdss_gz_data import scale_rgb"
   ]
  },
  {
   "cell_type": "code",
   "execution_count": 3,
   "metadata": {},
   "outputs": [],
   "source": [
    "PROJECT = 'astroml-ast80014'\n",
    "SUBSCRIPTION_NAME = 'cutout-fits-image'\n",
    "SUBSCRIPTION = f'projects/{PROJECT}/subscriptions/{SUBSCRIPTION_NAME}'\n",
    "BUCKET = 'wgauvin-astroml-ast80014'\n",
    "DATA_DIR = '/tmp'\n",
    "SIZING_RATIO = 7.8567420132\n",
    "CUTOUT_RATIO = 2 * SIZING_RATIO\n",
    "CUTOUT_PIXEL_SIZE = 72\n",
    "JPEG_SIZE = 144\n",
    "\n",
    "TOP_COORD = int(CUTOUT_PIXEL_SIZE / 4)\n",
    "BTTM_COORD = int(TOP_COORD + CUTOUT_PIXEL_SIZE / 2)"
   ]
  },
  {
   "cell_type": "code",
   "execution_count": 4,
   "metadata": {},
   "outputs": [],
   "source": [
    "def cleanup(msg):\n",
    "    import shutil\n",
    "\n",
    "    shutil.rmtree(msg['workdir'], ignore_errors=True)"
   ]
  },
  {
   "cell_type": "code",
   "execution_count": 5,
   "metadata": {},
   "outputs": [],
   "source": [
    "def save_fits(data, wcs, filename):\n",
    "    header = wcs.to_header()\n",
    "    hdu = fits.PrimaryHDU(data, header=header)\n",
    "    hdu.writeto(filename, overwrite=True)\n",
    "\n",
    "def save_cutout(cutout, filename):\n",
    "    save_fits(cutout.data, cutout.wcs, filename)"
   ]
  },
  {
   "cell_type": "code",
   "execution_count": 6,
   "metadata": {},
   "outputs": [],
   "source": [
    "def cutout_img_bands(msg):\n",
    "    from astropy.coordinates import SkyCoord, ICRS\n",
    "    import astropy.units as u\n",
    "    from astropy.wcs import WCS\n",
    "    from astropy.nddata import Cutout2D\n",
    "\n",
    "    run = msg['run']\n",
    "    camcol = msg['camcol']\n",
    "    field = msg['field']\n",
    "    objid = msg['objid']\n",
    "    ra = msg['ra']\n",
    "    dec = msg['dec']\n",
    "    petroRad_r = msg['petroRad_r']\n",
    "    workdir = msg['workdir']\n",
    "\n",
    "    angular_size = CUTOUT_RATIO * petroRad_r\n",
    "\n",
    "    bands = ['i', 'r', 'g']\n",
    "    cutout_filenames = np.empty(3, dtype=object)\n",
    "\n",
    "    position = SkyCoord(ra=ra, dec=dec, frame=ICRS, unit=u.deg)\n",
    "    cutout_size = u.Quantity((angular_size, angular_size), u.arcsec)\n",
    "\n",
    "    for idx, filename in enumerate(msg['filenames']):\n",
    "        band = bands[idx]\n",
    "        fits_file = fits.open(filename)\n",
    "        hdu = fits_file[0]\n",
    "        data = hdu.data\n",
    "        header = hdu.header\n",
    "        wcs = WCS(header, naxis=2)\n",
    "    \n",
    "        cutout = Cutout2D(data, position=position, size=cutout_size, wcs=wcs)\n",
    "\n",
    "        cutout_filename = f'{workdir}/obj-{objid}-{band}.fits.bz2'\n",
    "        save_cutout(cutout, cutout_filename)\n",
    "        cutout_filenames[idx] = cutout_filename\n",
    "\n",
    "    msg['cutout_filenames'] = cutout_filenames\n",
    "    \n",
    "    return msg"
   ]
  },
  {
   "cell_type": "code",
   "execution_count": 7,
   "metadata": {},
   "outputs": [],
   "source": [
    "# DONT COPY BACK\n",
    "def get_object_msgs(msg):\n",
    "    msgs = np.empty_like(msg['objects'])\n",
    "    \n",
    "    for idx, obj in enumerate(msg['objects']):\n",
    "        msgs[idx] = {\n",
    "            'run': msg['run'],\n",
    "            'camcol': msg['camcol'],\n",
    "            'field': msg['field'],\n",
    "            'objid': obj['objid'],\n",
    "            'ra': obj['ra'],\n",
    "            'dec': obj['dec'],\n",
    "            'petroRad_r': obj['petroRad_r'],\n",
    "            'filenames': msg['filenames'],\n",
    "            'workdir': msg['workdir']\n",
    "        }\n",
    "\n",
    "    return msgs"
   ]
  },
  {
   "cell_type": "code",
   "execution_count": 8,
   "metadata": {},
   "outputs": [],
   "source": [
    "def save_jpeg(msg, data, vmax):\n",
    "    \n",
    "    data = data.copy()\n",
    "\n",
    "    data = data[:, TOP_COORD:BTTM_COORD, TOP_COORD:BTTM_COORD]\n",
    "    jpeg_data = scale_rgb(data)\n",
    "\n",
    "    image = Image.fromarray(np.transpose(jpeg_data))\n",
    "    image = image.resize((JPEG_SIZE, JPEG_SIZE), Image.BICUBIC)\n",
    "    image = image.transpose(Image.ROTATE_90)\n",
    "    image.save(filename)\n",
    "\n",
    "    msg['jpeg_file'] = filename"
   ]
  },
  {
   "cell_type": "code",
   "execution_count": 9,
   "metadata": {},
   "outputs": [],
   "source": [
    "def create_jpeg(msg):\n",
    "    objid = msg['objid']\n",
    "    workdir = msg['workdir']\n",
    "\n",
    "    filename = f'{workdir}/obj-{objid}.jpeg'\n",
    "    \n",
    "    fits_file = fits.open(msg['fits_image'])\n",
    "    data = fits_file[0].data\n",
    "    \n",
    "    data = data[:, TOP_COORD:BTTM_COORD, TOP_COORD:BTTM_COORD]\n",
    "    jpeg_data = scale_rgb(data)\n",
    "\n",
    "    image = Image.fromarray(np.transpose(jpeg_data))\n",
    "    image = image.resize((JPEG_SIZE, JPEG_SIZE), Image.BICUBIC)\n",
    "    image = image.transpose(Image.ROTATE_90)\n",
    "    image.save(filename)\n",
    "\n",
    "    msg['jpeg_file'] = filename"
   ]
  },
  {
   "cell_type": "code",
   "execution_count": 24,
   "metadata": {},
   "outputs": [],
   "source": [
    "# CHANGED - migrate\n",
    "def create_data_cube(msg):\n",
    "    from aplpy.rgb import make_rgb_cube\n",
    "\n",
    "    workdir = msg['workdir']\n",
    "    objid = msg['objid']\n",
    "\n",
    "    cutout_filenames = np.empty(3, dtype=object)\n",
    "    \n",
    "    for idx, band in enumerate(['i', 'r', 'g']):\n",
    "        cutout_filenames[idx] = get_obj_filename(workdir, objid, band)\n",
    "    \n",
    "    outfile = get_obj_filename(workdir, objid)\n",
    "    make_rgb_cube(cutout_filenames, outfile)\n",
    "\n",
    "    msg['fits_image'] = outfile\n",
    "    return msg"
   ]
  },
  {
   "cell_type": "code",
   "execution_count": 21,
   "metadata": {},
   "outputs": [],
   "source": [
    "def create_workdir(msg):\n",
    "    import os\n",
    "\n",
    "    run = msg['run']\n",
    "    camcol = msg['camcol']\n",
    "    field = msg['field']\n",
    "\n",
    "    workdir = f'{DATA_DIR}/{run}-{camcol}-{field}'\n",
    "\n",
    "    try:\n",
    "        os.makedirs(workdir, exist_ok=True)\n",
    "    finally:\n",
    "        msg['workdir'] = workdir\n",
    "\n",
    "    return msg"
   ]
  },
  {
   "cell_type": "code",
   "execution_count": 12,
   "metadata": {},
   "outputs": [],
   "source": [
    "# def retrieve_fits_files(msg):\n",
    "#     from shutil import copy\n",
    "\n",
    "#     filenames = np.empty(3, dtype=object)\n",
    "\n",
    "#     get_file_from_gcs(msg, 0, 'i', filenames),\n",
    "#     get_file_from_gcs(msg, 1, 'r', filenames),\n",
    "#     get_file_from_gcs(msg, 2, 'g', filenames)\n",
    "\n",
    "#     msg['filenames'] = filenames\n",
    "#     return msg"
   ]
  },
  {
   "cell_type": "code",
   "execution_count": 13,
   "metadata": {},
   "outputs": [],
   "source": [
    "def get_file_from_gcs(msg, idx, band, filenames):\n",
    "    run = msg['run']\n",
    "    camcol = msg['camcol']\n",
    "    field = msg['field']\n",
    "    workdir = msg['workdir']\n",
    "\n",
    "    file_dir = f'fits/{run}/{camcol}/{field}'\n",
    "    filename = f'frame-{band}-{run:06d}-{camcol}-{field:04d}.fits.bz2'\n",
    "\n",
    "    infile = f'{file_dir}/{filename}'\n",
    "    outfile = f'{workdir}/{filename}'\n",
    "\n",
    "    print(f'Downloading {infile}')\n",
    "    cmd = f'gsutil cp gs://{BUCKET}/{infile} {outfile} > /dev/null 2>&1'\n",
    "    sp.run(cmd, shell=True, text=True, check=True)\n",
    "    filenames[idx] = outfile"
   ]
  },
  {
   "cell_type": "code",
   "execution_count": 15,
   "metadata": {},
   "outputs": [],
   "source": [
    "def fill_nan(data):\n",
    "    nans = np.isnan(data)\n",
    "    data = np.nan_to_num(data)\n",
    "    data[nans] = -100\n",
    "    \n",
    "    return data\n",
    "\n",
    "def resize(data, size):\n",
    "    return np.array(Image.fromarray(data).resize((size, size), Image.BICUBIC))\n",
    "\n",
    "def cutout_fits(msg):\n",
    "    from astropy.coordinates import SkyCoord, ICRS\n",
    "    import astropy.units as u\n",
    "    from astropy.wcs import WCS\n",
    "    from astropy.wcs.utils import skycoord_to_pixel\n",
    "    from astropy.nddata import Cutout2D\n",
    "\n",
    "    run = msg['run']\n",
    "    camcol = msg['camcol']\n",
    "    field = msg['field']\n",
    "    objid = msg['objid']\n",
    "    ra = msg['ra']\n",
    "    dec = msg['dec']\n",
    "    petroRad_r = msg['petroRad_r']\n",
    "    workdir = msg['workdir']\n",
    "    fits_image = msg['fits_image']\n",
    "\n",
    "    print(f'Creating cutout for - run: {run}, camcol: {camcol}, field: {field}, objid: {objid}, ra: {ra}, dec: {dec}, petroRad_r: {petroRad_r}')\n",
    "    \n",
    "    fits_file = fits.open(fits_image)\n",
    "    hdu = fits_file[0]\n",
    "    data = hdu.data\n",
    "    wcs = WCS(hdu.header, naxis=2)\n",
    "    \n",
    "    angular_size = SIZING_RATIO * petroRad_r\n",
    "\n",
    "    position = SkyCoord(ra=ra, dec=dec, frame=ICRS, unit=u.deg)\n",
    "    cutout_size = u.Quantity((angular_size, angular_size), u.arcsec)\n",
    "\n",
    "    out_data = np.empty((3, CUTOUT_PIXEL_SIZE, CUTOUT_PIXEL_SIZE))\n",
    "    cutout_wcs = WCS(naxis=3)\n",
    "\n",
    "    for idx in range(3):\n",
    "        cutout = Cutout2D(data[idx], position=position, size=cutout_size, wcs=wcs)\n",
    "        if (idx == 0):\n",
    "            curr_wcs = cutout.wcs.wcs\n",
    "            cutout_wcs.wcs.ctype = ['RA---TAN', 'DEC--TAN', '']\n",
    "            cutout_wcs.wcs.cdelt = np.array([curr_wcs.cdelt[0], curr_wcs.cdelt[1], 1.0])\n",
    "            cutout_wcs.wcs.crpix = [curr_wcs.crpix[0], curr_wcs.crpix[1], 0.0]\n",
    "            cutout_wcs.wcs.crval = [curr_wcs.crval[0], curr_wcs.crval[1], 0.0]\n",
    "        \n",
    "        temp_data = fill_nan(cutout.data)\n",
    "        out_data[idx] = resize(temp_data, CUTOUT_PIXEL_SIZE)\n",
    "\n",
    "    save_fits(out_data, cutout_wcs, fits_image)\n",
    "    \n",
    "    return msg"
   ]
  },
  {
   "cell_type": "code",
   "execution_count": 16,
   "metadata": {},
   "outputs": [],
   "source": [
    "msg = {\n",
    "    'run': 4678,\n",
    "    'camcol': 3,\n",
    "    'field': 162,\n",
    "    'objects': [\n",
    "        {\n",
    "            'objid': '1237665566074994868',\n",
    "            'ra': 225.965278271111,\n",
    "            'dec': 19.2838103331967,\n",
    "            'petroRad_r': 5.737516\n",
    "        },\n",
    "        {\n",
    "            'objid': '1237665566074994872',\n",
    "            'ra': 225.938960804469,\n",
    "            'dec': 19.1965682139844,\n",
    "            'petroRad_r': 7.560683\n",
    "        }\n",
    "    ]\n",
    "}"
   ]
  },
  {
   "cell_type": "code",
   "execution_count": 26,
   "metadata": {},
   "outputs": [],
   "source": [
    "def get_obj_filename(workdir, objid, band=None):\n",
    "    if (band is None):\n",
    "        return f'{workdir}/obj-{objid}.fits.bz2'\n",
    "    else:\n",
    "        return f'{workdir}/obj-{objid}-{band}.fits.bz2'\n",
    "\n",
    "def cutout_img_band(msg, obj_msg, idx, band, filename):\n",
    "    from astropy.coordinates import SkyCoord, ICRS\n",
    "    import astropy.units as u\n",
    "    from astropy.wcs import WCS\n",
    "    from astropy.nddata import Cutout2D\n",
    "\n",
    "    run = msg['run']\n",
    "    camcol = msg['camcol']\n",
    "    field = msg['field']\n",
    "    workdir = msg['workdir']\n",
    "\n",
    "    objid = obj_msg['objid']\n",
    "    ra = obj_msg['ra']\n",
    "    dec = obj_msg['dec']\n",
    "    petroRad_r = obj_msg['petroRad_r']\n",
    "\n",
    "    angular_size = CUTOUT_RATIO * petroRad_r\n",
    "\n",
    "    position = SkyCoord(ra=ra, dec=dec, frame=ICRS, unit=u.deg)\n",
    "    cutout_size = u.Quantity((angular_size, angular_size), u.arcsec)\n",
    "\n",
    "    fits_file = fits.open(filename)\n",
    "    hdu = fits_file[0]\n",
    "    data = hdu.data\n",
    "    header = hdu.header\n",
    "    wcs = WCS(header, naxis=2)\n",
    "\n",
    "    cutout = Cutout2D(data, position=position, size=cutout_size, wcs=wcs)\n",
    "\n",
    "    cutout_filename = get_obj_filename(workdir, objid, band)\n",
    "    save_cutout(cutout, cutout_filename)\n",
    "\n",
    "    return msg"
   ]
  },
  {
   "cell_type": "code",
   "execution_count": 31,
   "metadata": {},
   "outputs": [],
   "source": [
    "def get_object_msgs(msg):\n",
    "    for obj in msg['objects']:\n",
    "        obj_msg = {\n",
    "            'run': msg['run'],\n",
    "            'camcol': msg['camcol'],\n",
    "            'field': msg['field'],\n",
    "            'objid': obj['objid'],\n",
    "            'ra': obj['ra'],\n",
    "            'dec': obj['dec'],\n",
    "            'petroRad_r': obj['petroRad_r'],\n",
    "            'filenames': msg['filenames'],\n",
    "            'workdir': msg['workdir']\n",
    "        }\n",
    "        yield obj_msg"
   ]
  },
  {
   "cell_type": "code",
   "execution_count": 35,
   "metadata": {},
   "outputs": [],
   "source": [
    "def process_band(msg, idx, band):\n",
    "    filenames = msg['filenames']\n",
    "    get_file_from_gcs(msg, idx, band, filenames)\n",
    "    \n",
    "    for obj_msg in msg['objects']:\n",
    "        cutout_img_band(msg, obj_msg, idx, band, filenames[idx])"
   ]
  },
  {
   "cell_type": "code",
   "execution_count": 36,
   "metadata": {},
   "outputs": [
    {
     "name": "stdout",
     "output_type": "stream",
     "text": [
      "Downloading fits/4678/3/162/frame-i-004678-3-0162.fits.bz2\n",
      "Downloading fits/4678/3/162/frame-r-004678-3-0162.fits.bz2\n",
      "Downloading fits/4678/3/162/frame-g-004678-3-0162.fits.bz2\n"
     ]
    }
   ],
   "source": [
    "# DONT COPY BACK\n",
    "msg = create_workdir(msg)\n",
    "filenames = np.empty(3, dtype=object)\n",
    "msg['filenames'] = filenames\n",
    "\n",
    "for idx, band in enumerate(['i', 'r', 'g']):\n",
    "    process_band(msg, idx, band)\n",
    "\n",
    "# for idx, band in enumerate(['i', 'r', 'g']):\n",
    "#     get_file_from_gcs(msg, idx, band, filenames)\n",
    "    \n",
    "#     for obj_msg in msg['objects']:\n",
    "#         cutout_img_band(msg, obj_msg, idx, band, filenames[idx])\n",
    "\n",
    "# msg = retrieve_fits_files(msg)"
   ]
  },
  {
   "cell_type": "code",
   "execution_count": 37,
   "metadata": {},
   "outputs": [
    {
     "name": "stdout",
     "output_type": "stream",
     "text": [
      "Creating cutout for - run: 4678, camcol: 3, field: 162, objid: 1237665566074994868, ra: 225.965278271111, dec: 19.2838103331967, petroRad_r: 5.737516\n"
     ]
    },
    {
     "name": "stderr",
     "output_type": "stream",
     "text": [
      "/Users/will/Development/Astronomy/proposal/ENV/lib/python3.7/site-packages/sdss_gz_data/sdss_gz_data.py:391: RuntimeWarning: invalid value encountered in true_divide\n",
      "  scale = slope * arcsinh((mean - min) / sigma) / mean\n"
     ]
    },
    {
     "name": "stdout",
     "output_type": "stream",
     "text": [
      "Creating cutout for - run: 4678, camcol: 3, field: 162, objid: 1237665566074994872, ra: 225.938960804469, dec: 19.1965682139844, petroRad_r: 7.560683\n"
     ]
    }
   ],
   "source": [
    "for obj_msg in get_object_msgs(msg):\n",
    "    obj_msg = create_data_cube(obj_msg)\n",
    "    obj_msg = cutout_fits(obj_msg)\n",
    "    obj_msg = create_jpeg(obj_msg)"
   ]
  },
  {
   "cell_type": "code",
   "execution_count": null,
   "metadata": {},
   "outputs": [],
   "source": [
    "msg"
   ]
  },
  {
   "cell_type": "code",
   "execution_count": null,
   "metadata": {},
   "outputs": [],
   "source": [
    "obj_msg = {\n",
    "    'run': 4678,\n",
    "    'camcol': 3,\n",
    "    'field': 162,\n",
    "    'objid': '1237665566074994868',\n",
    "    'ra': 225.965278271111,\n",
    "    'dec': 19.2838103331967,\n",
    "    'petroRad_r': 5.737516,\n",
    "    'filenames': np.array([\n",
    "        '/tmp/4678-3-162/frame-i-004678-3-0162.fits.bz2',\n",
    "        '/tmp/4678-3-162/frame-r-004678-3-0162.fits.bz2',\n",
    "        '/tmp/4678-3-162/frame-g-004678-3-0162.fits.bz2'\n",
    "    ]),\n",
    "    'workdir': '/tmp/4678-3-162'\n",
    "}"
   ]
  },
  {
   "cell_type": "code",
   "execution_count": null,
   "metadata": {},
   "outputs": [],
   "source": [
    "obj_msg = cutout_img_bands(obj_msg)"
   ]
  },
  {
   "cell_type": "code",
   "execution_count": null,
   "metadata": {},
   "outputs": [],
   "source": [
    "obj_msg"
   ]
  },
  {
   "cell_type": "code",
   "execution_count": null,
   "metadata": {},
   "outputs": [],
   "source": [
    "i_fits = fits.open(obj_msg['cutout_filenames'][0])"
   ]
  },
  {
   "cell_type": "code",
   "execution_count": null,
   "metadata": {},
   "outputs": [],
   "source": [
    "i_fits_data = i_fits[0].data\n",
    "print(i_fits_data)\n",
    "print(np.min(i_fits_data), np.max(i_fits_data))"
   ]
  },
  {
   "cell_type": "code",
   "execution_count": null,
   "metadata": {},
   "outputs": [],
   "source": [
    "from astropy.wcs import WCS\n",
    "\n",
    "i_fits_wcs = WCS(i_fits[0].header)\n",
    "i_fits_wcs"
   ]
  },
  {
   "cell_type": "code",
   "execution_count": null,
   "metadata": {},
   "outputs": [],
   "source": [
    "r_fits = fits.open(obj_msg['cutout_filenames'][1])\n",
    "r_fits_data = r_fits[0].data\n",
    "print(r_fits_data)\n",
    "print(np.min(r_fits_data), np.max(r_fits_data))\n",
    "r_fits_wcs = WCS(r_fits[0].header)\n",
    "r_fits_wcs"
   ]
  },
  {
   "cell_type": "code",
   "execution_count": null,
   "metadata": {},
   "outputs": [],
   "source": [
    "g_fits = fits.open(obj_msg['cutout_filenames'][2])\n",
    "g_fits_data = g_fits[0].data\n",
    "print(i_fits_data)\n",
    "print(np.min(i_fits_data), np.max(i_fits_data))\n",
    "g_fits_wcs = WCS(g_fits[0].header)\n",
    "g_fits_wcs"
   ]
  },
  {
   "cell_type": "code",
   "execution_count": null,
   "metadata": {},
   "outputs": [],
   "source": [
    "obj_msg = create_data_cube(obj_msg)\n",
    "obj_msg"
   ]
  },
  {
   "cell_type": "code",
   "execution_count": null,
   "metadata": {},
   "outputs": [],
   "source": [
    "datacube_fits = fits.open(obj_msg['fits_image'])\n",
    "datacube_fits_data = datacube_fits[0].data\n",
    "datacube_fits_wcs = WCS(datacube_fits[0].header)\n",
    "datacube_fits_wcs"
   ]
  },
  {
   "cell_type": "code",
   "execution_count": null,
   "metadata": {},
   "outputs": [],
   "source": [
    "datacube_fits_data[0,30:-30,30:-30].shape"
   ]
  },
  {
   "cell_type": "code",
   "execution_count": null,
   "metadata": {},
   "outputs": [],
   "source": [
    "np.max(datacube_fits_data)"
   ]
  },
  {
   "cell_type": "code",
   "execution_count": null,
   "metadata": {},
   "outputs": [],
   "source": [
    "nans = np.isnan(datacube_fits_data)\n",
    "datacube_fits_data = np.nan_to_num(datacube_fits_data)\n",
    "datacube_fits_data[nans] = -100"
   ]
  },
  {
   "cell_type": "code",
   "execution_count": null,
   "metadata": {},
   "outputs": [],
   "source": [
    "datacube_fits_data"
   ]
  },
  {
   "cell_type": "code",
   "execution_count": null,
   "metadata": {},
   "outputs": [],
   "source": []
  }
 ],
 "metadata": {
  "kernelspec": {
   "display_name": "Python 3",
   "language": "python",
   "name": "python3"
  },
  "language_info": {
   "codemirror_mode": {
    "name": "ipython",
    "version": 3
   },
   "file_extension": ".py",
   "mimetype": "text/x-python",
   "name": "python",
   "nbconvert_exporter": "python",
   "pygments_lexer": "ipython3",
   "version": "3.7.1"
  }
 },
 "nbformat": 4,
 "nbformat_minor": 2
}
