{
 "cells": [
  {
   "cell_type": "code",
   "execution_count": 1,
   "metadata": {},
   "outputs": [],
   "source": [
    "%load_ext autoreload\n",
    "%autoreload 2"
   ]
  },
  {
   "cell_type": "code",
   "execution_count": 31,
   "metadata": {},
   "outputs": [],
   "source": [
    "import lightgbm as lgb\n",
    "import numpy as np\n",
    "import pandas as pd\n",
    "import csv\n",
    "\n",
    "from hyperopt import fmin\n",
    "from hyperopt import hp\n",
    "from hyperopt import tpe\n",
    "from hyperopt import Trials\n",
    "from hyperopt import STATUS_OK\n",
    "from hyperopt.pyll.stochastic import sample\n",
    "\n",
    "from sklearn.metrics import confusion_matrix\n",
    "from sklearn.model_selection import train_test_split\n",
    "from sklearn.model_selection import GridSearchCV\n",
    "from sklearn.model_selection import RandomizedSearchCV\n",
    "from sklearn.model_selection import KFold\n",
    "from sklearn.preprocessing import LabelBinarizer, PowerTransformer\n",
    "\n",
    "from timeit import default_timer as timer\n",
    "\n",
    "import sdss_gz_data as sgd\n",
    "from sdss_gz_data import SPIRIAL_GALAXY_TYPE\n",
    "from sdss_gz_data import ELLIPTICAL_GALAXY_TYPE\n",
    "from sdss_gz_data import UNKNOWN_GALAXY_TYPE\n",
    "\n",
    "from joblib import Parallel, delayed\n",
    "\n",
    "import matplotlib.pyplot as plt"
   ]
  },
  {
   "cell_type": "code",
   "execution_count": 3,
   "metadata": {},
   "outputs": [
    {
     "name": "stdout",
     "output_type": "stream",
     "text": [
      "total 1651496\r\n",
      "-rw-r--r--@ 1 will  staff      42029  6 Apr 20:34 1237648720693755918.png\r\n",
      "-rw-r--r--@ 1 will  staff      48342  6 Apr 20:34 1237648720693756035.png\r\n",
      "-rw-r--r--@ 1 will  staff      36069  6 Apr 20:34 1237648720693756115.png\r\n",
      "-rw-r--r--@ 1 will  staff      37825  6 Apr 20:34 1237648720693756163.png\r\n",
      "-rw-r--r--@ 1 will  staff      37626  6 Apr 20:34 1237648720693756176.png\r\n",
      "-rw-r--r--@ 1 will  staff  349816837 11 Mar 15:14 astromonical_data.csv.gz\r\n",
      "drwxr-xr-x  4 will  staff        128  6 Apr 16:18 \u001b[1m\u001b[36mfits\u001b[m\u001b[m/\r\n",
      "-rw-r--r--  1 will  staff   12208320  6 Apr 20:34 frame-g-000756-2-0427.fits\r\n",
      "-rw-r--r--  1 will  staff   12208320  6 Apr 20:34 frame-i-000756-2-0427.fits\r\n",
      "-rw-r--r--  1 will  staff   12208320  6 Apr 20:34 frame-r-000756-2-0427.fits\r\n",
      "-rw-r--r--@ 1 will  staff  319952110 31 Jan 20:01 input.csv\r\n",
      "-rw-r--r--  1 will  staff    4320000  6 Apr 20:34 obj-1237648720693755918.fits\r\n",
      "-rw-r--r--  1 will  staff    4320000  6 Apr 20:34 obj-1237648720693756035.fits\r\n",
      "-rw-r--r--  1 will  staff    4320000  6 Apr 20:34 obj-1237648720693756115.fits\r\n",
      "-rw-r--r--  1 will  staff    4320000  6 Apr 20:34 obj-1237648720693756163.fits\r\n",
      "-rw-r--r--  1 will  staff    4320000  6 Apr 20:34 obj-1237648720693756176.fits\r\n",
      "-rw-r--r--  1 will  staff   36904320  6 Apr 20:34 rgb-000756-2-0427.fits\r\n",
      "-rw-r--r--  1 will  staff   12303360  6 Apr 20:34 rgb-000756-2-0427_2d.fits\r\n",
      "-rw-r--r--  1 will  staff   36933120 20 Jan 17:16 rgb-002141-3-0076.fits\r\n",
      "-rw-r--r--  1 will  staff   12314880 20 Jan 17:16 rgb-002141-3-0076_2d.fits\r\n"
     ]
    }
   ],
   "source": [
    "%ls -l data/"
   ]
  },
  {
   "cell_type": "code",
   "execution_count": 4,
   "metadata": {},
   "outputs": [
    {
     "data": {
      "text/plain": [
       "['dered_u',\n",
       " 'petroRad_u',\n",
       " 'petroR50_u',\n",
       " 'petroR90_u',\n",
       " 'petro_R90_R50_ratio_u',\n",
       " 'petroMag_u',\n",
       " 'expRad_u',\n",
       " 'deVRad_u',\n",
       " 'psfMag_u',\n",
       " 'expMag_u',\n",
       " 'fiberMag_u',\n",
       " 'extinction_u',\n",
       " 'expAB_u',\n",
       " 'expPhi_u',\n",
       " 'deVAB_u',\n",
       " 'deVPhi_u',\n",
       " 'mag_u',\n",
       " 'stokes_q_u',\n",
       " 'stokes_u_u',\n",
       " 'dered_g',\n",
       " 'petroRad_g',\n",
       " 'petroR50_g',\n",
       " 'petroR90_g',\n",
       " 'petro_R90_R50_ratio_g',\n",
       " 'petroMag_g',\n",
       " 'expRad_g',\n",
       " 'deVRad_g',\n",
       " 'psfMag_g',\n",
       " 'expMag_g',\n",
       " 'fiberMag_g',\n",
       " 'extinction_g',\n",
       " 'expAB_g',\n",
       " 'expPhi_g',\n",
       " 'deVAB_g',\n",
       " 'deVPhi_g',\n",
       " 'mag_g',\n",
       " 'stokes_q_g',\n",
       " 'stokes_u_g',\n",
       " 'petro_g_u_colour_index',\n",
       " 'model_g_u_colour_index',\n",
       " 'psfMag_g_u_colour_index',\n",
       " 'dered_i',\n",
       " 'petroRad_i',\n",
       " 'petroR50_i',\n",
       " 'petroR90_i',\n",
       " 'petro_R90_R50_ratio_i',\n",
       " 'petroMag_i',\n",
       " 'expRad_i',\n",
       " 'deVRad_i',\n",
       " 'psfMag_i',\n",
       " 'expMag_i',\n",
       " 'fiberMag_i',\n",
       " 'extinction_i',\n",
       " 'expAB_i',\n",
       " 'expPhi_i',\n",
       " 'deVAB_i',\n",
       " 'deVPhi_i',\n",
       " 'mag_i',\n",
       " 'stokes_q_i',\n",
       " 'stokes_u_i',\n",
       " 'petro_i_r_colour_index',\n",
       " 'model_i_r_colour_index',\n",
       " 'psfMag_i_r_colour_index',\n",
       " 'dered_r',\n",
       " 'petroRad_r',\n",
       " 'petroR50_r',\n",
       " 'petroR90_r',\n",
       " 'petro_R90_R50_ratio_r',\n",
       " 'petroMag_r',\n",
       " 'expRad_r',\n",
       " 'deVRad_r',\n",
       " 'psfMag_r',\n",
       " 'expMag_r',\n",
       " 'fiberMag_r',\n",
       " 'extinction_r',\n",
       " 'expAB_r',\n",
       " 'expPhi_r',\n",
       " 'deVAB_r',\n",
       " 'deVPhi_r',\n",
       " 'mag_r',\n",
       " 'stokes_q_r',\n",
       " 'stokes_u_r',\n",
       " 'petro_r_g_colour_index',\n",
       " 'model_r_g_colour_index',\n",
       " 'psfMag_r_g_colour_index',\n",
       " 'dered_z',\n",
       " 'petroRad_z',\n",
       " 'petroR50_z',\n",
       " 'petroR90_z',\n",
       " 'petro_R90_R50_ratio_z',\n",
       " 'petroMag_z',\n",
       " 'expRad_z',\n",
       " 'deVRad_z',\n",
       " 'psfMag_z',\n",
       " 'expMag_z',\n",
       " 'fiberMag_z',\n",
       " 'extinction_z',\n",
       " 'expAB_z',\n",
       " 'expPhi_z',\n",
       " 'deVAB_z',\n",
       " 'deVPhi_z',\n",
       " 'mag_z',\n",
       " 'stokes_q_z',\n",
       " 'stokes_u_z',\n",
       " 'petro_z_i_colour_index',\n",
       " 'model_z_i_colour_index',\n",
       " 'psfMag_z_i_colour_index']"
      ]
     },
     "execution_count": 4,
     "metadata": {},
     "output_type": "execute_result"
    }
   ],
   "source": [
    "features = sgd.generate_features()\n",
    "features"
   ]
  },
  {
   "cell_type": "code",
   "execution_count": 5,
   "metadata": {},
   "outputs": [],
   "source": [
    "orig_data = sgd.load_data('data/astromonical_data.csv.gz')"
   ]
  },
  {
   "cell_type": "code",
   "execution_count": 6,
   "metadata": {},
   "outputs": [
    {
     "name": "stdout",
     "output_type": "stream",
     "text": [
      "Filtered out 3501 invalid records\n",
      "Number of high z galaxies = 231\n",
      "% elliptical:      0.13576908942272356\n",
      "% spiral:          0.2237143092857732\n",
      "% unknown:         0.6405166012915032\n",
      "% spiral of known: 0.6223216707350149\n"
     ]
    }
   ],
   "source": [
    "prepared_data = sgd.prepare_data(orig_data)"
   ]
  },
  {
   "cell_type": "code",
   "execution_count": 7,
   "metadata": {},
   "outputs": [],
   "source": [
    "transformed_data = sgd.transform_data(prepared_data)"
   ]
  },
  {
   "cell_type": "code",
   "execution_count": 8,
   "metadata": {},
   "outputs": [],
   "source": [
    "X = transformed_data[features]\n",
    "y = transformed_data['z']"
   ]
  },
  {
   "cell_type": "code",
   "execution_count": 219,
   "metadata": {},
   "outputs": [
    {
     "data": {
      "text/plain": [
       "533332"
      ]
     },
     "execution_count": 219,
     "metadata": {},
     "output_type": "execute_result"
    }
   ],
   "source": [
    "len(transformed_data)"
   ]
  },
  {
   "cell_type": "code",
   "execution_count": 220,
   "metadata": {},
   "outputs": [],
   "source": [
    "known_galaxy_type_idx = transformed_data.galaxy_type != sgd.UNKNOWN_GALAXY_TYPE\n",
    "\n",
    "X = X[known_galaxy_type_idx]\n",
    "y = y[known_galaxy_type_idx]"
   ]
  },
  {
   "cell_type": "code",
   "execution_count": 221,
   "metadata": {},
   "outputs": [
    {
     "data": {
      "text/plain": [
       "191724"
      ]
     },
     "execution_count": 221,
     "metadata": {},
     "output_type": "execute_result"
    }
   ],
   "source": [
    "len(X)"
   ]
  },
  {
   "cell_type": "code",
   "execution_count": 9,
   "metadata": {},
   "outputs": [],
   "source": [
    "def split_train(X, y, random_state=None, num_bins=24, min_y=-3, max_y=3, test_size=0.2):\n",
    "    # Need to stratify y, but should scale y to make it a better distribution\n",
    "    y_norm = y ** 1/3\n",
    "    \n",
    "    bins = np.linspace(min(y_norm - 1e-5), max(y_norm + 1e-5) , num_bins)\n",
    "    y_binned = np.digitize(y_norm, bins)\n",
    "\n",
    "    print(f'Min z:             {min(y)}')\n",
    "    print(f'Max z:             {max(y)}')\n",
    "    return train_test_split(X, y, test_size=test_size, random_state=random_state, stratify=y_binned)"
   ]
  },
  {
   "cell_type": "code",
   "execution_count": 222,
   "metadata": {},
   "outputs": [
    {
     "name": "stdout",
     "output_type": "stream",
     "text": [
      "Min z:             -0.0035549390000000004\n",
      "Max z:             0.3936197\n"
     ]
    }
   ],
   "source": [
    "X_train, X_test, y_train, y_test = split_train(X, y, random_state=42)"
   ]
  },
  {
   "cell_type": "code",
   "execution_count": 166,
   "metadata": {},
   "outputs": [],
   "source": [
    "def z_err(preds, train_data):\n",
    "    if hasattr(train_data,'label'):\n",
    "        train_data = train_data.label\n",
    "    train_data = train_data.ravel()\n",
    "    preds = preds.ravel()\n",
    "\n",
    "    error = np.abs((train_data - preds)/(1 + train_data)).mean()\n",
    "    return 'z_err', error, False\n",
    "\n",
    "def z_err_stats(actual, predicted):\n",
    "    err = np.abs((predicted - actual)/(1 + actual))\n",
    "    num_cat_failure = len(err[err > 0.15])\n",
    "    num_records = len(err)\n",
    "    \n",
    "    catastrophic_failure = num_cat_failure / num_records\n",
    "    \n",
    "    return err.mean(), np.std(err), np.min(err), np.max(err), catastrophic_failure"
   ]
  },
  {
   "cell_type": "markdown",
   "metadata": {},
   "source": [
    "## Hyperparamter Search"
   ]
  },
  {
   "cell_type": "code",
   "execution_count": 79,
   "metadata": {},
   "outputs": [],
   "source": [
    "N_FOLDS = 5\n",
    "\n",
    "hp_out_file = 'gbm_hp_trials.csv'\n",
    "of_connection = open(hp_out_file, 'w')\n",
    "writer = csv.writer(of_connection)\n",
    "\n",
    "# Write the headers to the file\n",
    "writer.writerow(['loss', 'params', 'iteration', 'estimators', 'train_time'])\n",
    "of_connection.close()\n",
    "\n",
    "def objective(X_train, y_train, random_state=42, stratified=True):\n",
    "    def _objective(params, n_folds=N_FOLDS):\n",
    "        # Keep track of evals\n",
    "        global ITERATION\n",
    "\n",
    "        ITERATION += 1\n",
    "\n",
    "        # Make sure parameters that need to be integers are integers\n",
    "        for parameter_name in ['num_leaves', 'subsample_for_bin', 'min_child_samples']:\n",
    "            params[parameter_name] = int(params[parameter_name])\n",
    "\n",
    "        params['boosting_type'] = 'gbdt'\n",
    "        train_set = lgb.Dataset(X_train, y_train)\n",
    "        \n",
    "        start = timer()\n",
    "        cv_results = lgb.cv(params, train_set, nfold=n_folds, num_boost_round=1000,\n",
    "                           early_stopping_rounds=100,\n",
    "                           metrics='mae', feval=z_err, seed=random_state, stratified=stratified)\n",
    "        run_time = timer() - start\n",
    "        \n",
    "        best_score = max(cv_results['z_err-mean'])\n",
    "\n",
    "        # need a function to minimise\n",
    "        loss = best_score\n",
    "        \n",
    "        # Boosting rounds that returned the highest cv score\n",
    "        n_estimators = int(np.argmax(cv_results['z_err-mean']) + 1)\n",
    "\n",
    "        if ITERATION % 10 == 0:\n",
    "            # Display the information\n",
    "            display('Iteration {}: {} Fold CV Z ERR ROC {:.5f}'.format(ITERATION, N_FOLDS, best_score))\n",
    "\n",
    "        of_connection = open(hp_out_file, 'a')\n",
    "        writer = csv.writer(of_connection)\n",
    "        writer.writerow([loss, params, ITERATION, n_estimators, run_time])\n",
    "        of_connection.close()\n",
    "\n",
    "        # Dictionary with information for evaluation\n",
    "        return {'loss': loss, 'params': params, 'iteration': ITERATION,\n",
    "                'estimators': n_estimators, \n",
    "                'train_time': run_time, 'status': STATUS_OK}\n",
    "\n",
    "    return _objective"
   ]
  },
  {
   "cell_type": "code",
   "execution_count": 80,
   "metadata": {},
   "outputs": [],
   "source": [
    "space = {\n",
    "    'num_leaves': hp.quniform('num_leaves', 30, 150, 1),\n",
    "    'learning_rate': hp.loguniform('learning_rate', np.log(0.001), np.log(0.3)),\n",
    "    'subsample_for_bin': hp.quniform('subsample_for_bin', 20000, 300000, 20000),\n",
    "    'min_child_samples': hp.quniform('min_child_samples', 20, 500, 5),\n",
    "    'reg_alpha': hp.uniform('reg_alpha', 0.0, 1.0),\n",
    "    'reg_lambda': hp.uniform('reg_lambda', 0.0, 1.0),\n",
    "    'colsample_bytree': hp.uniform('colsample_by_tree', 0.6, 1.0)\n",
    "}"
   ]
  },
  {
   "cell_type": "code",
   "execution_count": 81,
   "metadata": {},
   "outputs": [
    {
     "name": "stdout",
     "output_type": "stream",
     "text": [
      "  1%|          | 9/1000 [1:02:09<106:40:57, 387.55s/it, best loss: 0.03440363078067864]"
     ]
    },
    {
     "data": {
      "text/plain": [
       "'Iteration 10: 5 Fold CV Z ERR ROC 0.03809'"
      ]
     },
     "metadata": {},
     "output_type": "display_data"
    },
    {
     "name": "stdout",
     "output_type": "stream",
     "text": [
      "  2%|▏         | 19/1000 [2:03:19<98:52:44, 362.86s/it, best loss: 0.031225586963904022] "
     ]
    },
    {
     "data": {
      "text/plain": [
       "'Iteration 20: 5 Fold CV Z ERR ROC 0.03492'"
      ]
     },
     "metadata": {},
     "output_type": "display_data"
    },
    {
     "name": "stdout",
     "output_type": "stream",
     "text": [
      "  3%|▎         | 29/1000 [2:38:01<61:51:34, 229.35s/it, best loss: 0.0295904100164239]  "
     ]
    },
    {
     "data": {
      "text/plain": [
       "'Iteration 30: 5 Fold CV Z ERR ROC 0.03588'"
      ]
     },
     "metadata": {},
     "output_type": "display_data"
    },
    {
     "name": "stdout",
     "output_type": "stream",
     "text": [
      "  4%|▍         | 39/1000 [3:29:39<79:29:38, 297.79s/it, best loss: 0.0295904100164239]"
     ]
    },
    {
     "data": {
      "text/plain": [
       "'Iteration 40: 5 Fold CV Z ERR ROC 0.03781'"
      ]
     },
     "metadata": {},
     "output_type": "display_data"
    },
    {
     "name": "stdout",
     "output_type": "stream",
     "text": [
      "  5%|▍         | 49/1000 [4:21:02<95:24:51, 361.19s/it, best loss: 0.0295904100164239]"
     ]
    },
    {
     "data": {
      "text/plain": [
       "'Iteration 50: 5 Fold CV Z ERR ROC 0.03634'"
      ]
     },
     "metadata": {},
     "output_type": "display_data"
    },
    {
     "name": "stdout",
     "output_type": "stream",
     "text": [
      "  6%|▌         | 59/1000 [4:59:25<58:08:55, 222.46s/it, best loss: 0.0295904100164239]"
     ]
    },
    {
     "data": {
      "text/plain": [
       "'Iteration 60: 5 Fold CV Z ERR ROC 0.03621'"
      ]
     },
     "metadata": {},
     "output_type": "display_data"
    },
    {
     "name": "stdout",
     "output_type": "stream",
     "text": [
      "  7%|▋         | 69/1000 [5:38:06<43:48:25, 169.39s/it, best loss: 0.0295904100164239]"
     ]
    },
    {
     "data": {
      "text/plain": [
       "'Iteration 70: 5 Fold CV Z ERR ROC 0.03091'"
      ]
     },
     "metadata": {},
     "output_type": "display_data"
    },
    {
     "name": "stdout",
     "output_type": "stream",
     "text": [
      "  8%|▊         | 79/1000 [6:18:09<57:15:58, 223.84s/it, best loss: 0.0295904100164239]"
     ]
    },
    {
     "data": {
      "text/plain": [
       "'Iteration 80: 5 Fold CV Z ERR ROC 0.03819'"
      ]
     },
     "metadata": {},
     "output_type": "display_data"
    },
    {
     "name": "stdout",
     "output_type": "stream",
     "text": [
      "  9%|▉         | 89/1000 [7:03:09<77:25:24, 305.95s/it, best loss: 0.0295904100164239]"
     ]
    },
    {
     "data": {
      "text/plain": [
       "'Iteration 90: 5 Fold CV Z ERR ROC 0.03840'"
      ]
     },
     "metadata": {},
     "output_type": "display_data"
    },
    {
     "name": "stdout",
     "output_type": "stream",
     "text": [
      " 10%|▉         | 99/1000 [7:43:11<67:37:40, 270.21s/it, best loss: 0.029406148171989298]"
     ]
    },
    {
     "data": {
      "text/plain": [
       "'Iteration 100: 5 Fold CV Z ERR ROC 0.03255'"
      ]
     },
     "metadata": {},
     "output_type": "display_data"
    },
    {
     "name": "stdout",
     "output_type": "stream",
     "text": [
      " 11%|█         | 109/1000 [8:42:11<75:56:42, 306.85s/it, best loss: 0.029406148171989298] "
     ]
    },
    {
     "data": {
      "text/plain": [
       "'Iteration 110: 5 Fold CV Z ERR ROC 0.03490'"
      ]
     },
     "metadata": {},
     "output_type": "display_data"
    },
    {
     "name": "stdout",
     "output_type": "stream",
     "text": [
      " 12%|█▏        | 119/1000 [9:27:48<61:46:04, 252.40s/it, best loss: 0.029406148171989298]"
     ]
    },
    {
     "data": {
      "text/plain": [
       "'Iteration 120: 5 Fold CV Z ERR ROC 0.03418'"
      ]
     },
     "metadata": {},
     "output_type": "display_data"
    },
    {
     "name": "stdout",
     "output_type": "stream",
     "text": [
      " 13%|█▎        | 129/1000 [10:22:30<90:57:32, 375.95s/it, best loss: 0.029381319618255804]"
     ]
    },
    {
     "data": {
      "text/plain": [
       "'Iteration 130: 5 Fold CV Z ERR ROC 0.03700'"
      ]
     },
     "metadata": {},
     "output_type": "display_data"
    },
    {
     "name": "stdout",
     "output_type": "stream",
     "text": [
      " 14%|█▍        | 139/1000 [11:19:21<74:18:33, 310.70s/it, best loss: 0.029381319618255804]"
     ]
    },
    {
     "data": {
      "text/plain": [
       "'Iteration 140: 5 Fold CV Z ERR ROC 0.03511'"
      ]
     },
     "metadata": {},
     "output_type": "display_data"
    },
    {
     "name": "stdout",
     "output_type": "stream",
     "text": [
      " 15%|█▍        | 149/1000 [11:57:56<50:01:17, 211.61s/it, best loss: 0.029381319618255804]"
     ]
    },
    {
     "data": {
      "text/plain": [
       "'Iteration 150: 5 Fold CV Z ERR ROC 0.02973'"
      ]
     },
     "metadata": {},
     "output_type": "display_data"
    },
    {
     "name": "stdout",
     "output_type": "stream",
     "text": [
      " 16%|█▌        | 159/1000 [12:28:19<41:38:55, 178.28s/it, best loss: 0.029381319618255804]"
     ]
    },
    {
     "data": {
      "text/plain": [
       "'Iteration 160: 5 Fold CV Z ERR ROC 0.03574'"
      ]
     },
     "metadata": {},
     "output_type": "display_data"
    },
    {
     "name": "stdout",
     "output_type": "stream",
     "text": [
      " 17%|█▋        | 169/1000 [13:12:37<55:28:51, 240.35s/it, best loss: 0.029381319618255804]"
     ]
    },
    {
     "data": {
      "text/plain": [
       "'Iteration 170: 5 Fold CV Z ERR ROC 0.03242'"
      ]
     },
     "metadata": {},
     "output_type": "display_data"
    },
    {
     "name": "stdout",
     "output_type": "stream",
     "text": [
      " 18%|█▊        | 179/1000 [14:05:55<76:02:18, 333.42s/it, best loss: 0.029381319618255804]"
     ]
    },
    {
     "data": {
      "text/plain": [
       "'Iteration 180: 5 Fold CV Z ERR ROC 0.03443'"
      ]
     },
     "metadata": {},
     "output_type": "display_data"
    },
    {
     "name": "stdout",
     "output_type": "stream",
     "text": [
      " 19%|█▉        | 189/1000 [15:10:36<80:55:17, 359.21s/it, best loss: 0.029380648452877318] "
     ]
    },
    {
     "data": {
      "text/plain": [
       "'Iteration 190: 5 Fold CV Z ERR ROC 0.03871'"
      ]
     },
     "metadata": {},
     "output_type": "display_data"
    },
    {
     "name": "stdout",
     "output_type": "stream",
     "text": [
      " 20%|█▉        | 199/1000 [15:58:56<66:51:29, 300.49s/it, best loss: 0.029380648452877318]"
     ]
    },
    {
     "data": {
      "text/plain": [
       "'Iteration 200: 5 Fold CV Z ERR ROC 0.03823'"
      ]
     },
     "metadata": {},
     "output_type": "display_data"
    },
    {
     "name": "stdout",
     "output_type": "stream",
     "text": [
      " 21%|██        | 209/1000 [16:49:25<60:12:36, 274.03s/it, best loss: 0.029380648452877318]"
     ]
    },
    {
     "data": {
      "text/plain": [
       "'Iteration 210: 5 Fold CV Z ERR ROC 0.03257'"
      ]
     },
     "metadata": {},
     "output_type": "display_data"
    },
    {
     "name": "stdout",
     "output_type": "stream",
     "text": [
      " 22%|██▏       | 219/1000 [17:43:44<68:40:47, 316.58s/it, best loss: 0.029380648452877318]"
     ]
    },
    {
     "data": {
      "text/plain": [
       "'Iteration 220: 5 Fold CV Z ERR ROC 0.03878'"
      ]
     },
     "metadata": {},
     "output_type": "display_data"
    },
    {
     "name": "stdout",
     "output_type": "stream",
     "text": [
      " 23%|██▎       | 229/1000 [18:38:44<71:00:11, 331.53s/it, best loss: 0.029380648452877318]"
     ]
    },
    {
     "data": {
      "text/plain": [
       "'Iteration 230: 5 Fold CV Z ERR ROC 0.02952'"
      ]
     },
     "metadata": {},
     "output_type": "display_data"
    },
    {
     "name": "stdout",
     "output_type": "stream",
     "text": [
      " 24%|██▍       | 239/1000 [19:20:28<49:05:09, 232.21s/it, best loss: 0.029380648452877318]"
     ]
    },
    {
     "data": {
      "text/plain": [
       "'Iteration 240: 5 Fold CV Z ERR ROC 0.03874'"
      ]
     },
     "metadata": {},
     "output_type": "display_data"
    },
    {
     "name": "stdout",
     "output_type": "stream",
     "text": [
      " 25%|██▍       | 249/1000 [20:21:36<74:55:42, 359.18s/it, best loss: 0.029380648452877318]"
     ]
    },
    {
     "data": {
      "text/plain": [
       "'Iteration 250: 5 Fold CV Z ERR ROC 0.03164'"
      ]
     },
     "metadata": {},
     "output_type": "display_data"
    },
    {
     "name": "stdout",
     "output_type": "stream",
     "text": [
      " 25%|██▌       | 250/1000 [20:24:19<62:32:20, 300.19s/it, best loss: 0.029380648452877318]\n"
     ]
    },
    {
     "ename": "KeyboardInterrupt",
     "evalue": "",
     "output_type": "error",
     "traceback": [
      "\u001b[0;31m---------------------------------------------------------------------------\u001b[0m",
      "\u001b[0;31mKeyboardInterrupt\u001b[0m                         Traceback (most recent call last)",
      "\u001b[0;32m<ipython-input-81-a09086d897db>\u001b[0m in \u001b[0;36m<module>\u001b[0;34m\u001b[0m\n\u001b[1;32m      7\u001b[0m \u001b[0;31m# Optimize\u001b[0m\u001b[0;34m\u001b[0m\u001b[0;34m\u001b[0m\u001b[0;34m\u001b[0m\u001b[0m\n\u001b[1;32m      8\u001b[0m best = fmin(fn = objective(X_train, y_train, stratified=False), space = space, algo = tpe.suggest, \n\u001b[0;32m----> 9\u001b[0;31m             max_evals = MAX_EVALS, trials = bayes_trials)\n\u001b[0m",
      "\u001b[0;32m~/Development/Astronomy/proposal/ENV/lib/python3.7/site-packages/hyperopt/fmin.py\u001b[0m in \u001b[0;36mfmin\u001b[0;34m(fn, space, algo, max_evals, trials, rstate, allow_trials_fmin, pass_expr_memo_ctrl, catch_eval_exceptions, verbose, return_argmin, points_to_evaluate, max_queue_len, show_progressbar)\u001b[0m\n\u001b[1;32m    386\u001b[0m             \u001b[0mcatch_eval_exceptions\u001b[0m\u001b[0;34m=\u001b[0m\u001b[0mcatch_eval_exceptions\u001b[0m\u001b[0;34m,\u001b[0m\u001b[0;34m\u001b[0m\u001b[0;34m\u001b[0m\u001b[0m\n\u001b[1;32m    387\u001b[0m             \u001b[0mreturn_argmin\u001b[0m\u001b[0;34m=\u001b[0m\u001b[0mreturn_argmin\u001b[0m\u001b[0;34m,\u001b[0m\u001b[0;34m\u001b[0m\u001b[0;34m\u001b[0m\u001b[0m\n\u001b[0;32m--> 388\u001b[0;31m             \u001b[0mshow_progressbar\u001b[0m\u001b[0;34m=\u001b[0m\u001b[0mshow_progressbar\u001b[0m\u001b[0;34m,\u001b[0m\u001b[0;34m\u001b[0m\u001b[0;34m\u001b[0m\u001b[0m\n\u001b[0m\u001b[1;32m    389\u001b[0m         )\n\u001b[1;32m    390\u001b[0m \u001b[0;34m\u001b[0m\u001b[0m\n",
      "\u001b[0;32m~/Development/Astronomy/proposal/ENV/lib/python3.7/site-packages/hyperopt/base.py\u001b[0m in \u001b[0;36mfmin\u001b[0;34m(self, fn, space, algo, max_evals, rstate, verbose, pass_expr_memo_ctrl, catch_eval_exceptions, return_argmin, show_progressbar)\u001b[0m\n\u001b[1;32m    637\u001b[0m             \u001b[0mcatch_eval_exceptions\u001b[0m\u001b[0;34m=\u001b[0m\u001b[0mcatch_eval_exceptions\u001b[0m\u001b[0;34m,\u001b[0m\u001b[0;34m\u001b[0m\u001b[0;34m\u001b[0m\u001b[0m\n\u001b[1;32m    638\u001b[0m             \u001b[0mreturn_argmin\u001b[0m\u001b[0;34m=\u001b[0m\u001b[0mreturn_argmin\u001b[0m\u001b[0;34m,\u001b[0m\u001b[0;34m\u001b[0m\u001b[0;34m\u001b[0m\u001b[0m\n\u001b[0;32m--> 639\u001b[0;31m             show_progressbar=show_progressbar)\n\u001b[0m\u001b[1;32m    640\u001b[0m \u001b[0;34m\u001b[0m\u001b[0m\n\u001b[1;32m    641\u001b[0m \u001b[0;34m\u001b[0m\u001b[0m\n",
      "\u001b[0;32m~/Development/Astronomy/proposal/ENV/lib/python3.7/site-packages/hyperopt/fmin.py\u001b[0m in \u001b[0;36mfmin\u001b[0;34m(fn, space, algo, max_evals, trials, rstate, allow_trials_fmin, pass_expr_memo_ctrl, catch_eval_exceptions, verbose, return_argmin, points_to_evaluate, max_queue_len, show_progressbar)\u001b[0m\n\u001b[1;32m    405\u001b[0m                     show_progressbar=show_progressbar)\n\u001b[1;32m    406\u001b[0m     \u001b[0mrval\u001b[0m\u001b[0;34m.\u001b[0m\u001b[0mcatch_eval_exceptions\u001b[0m \u001b[0;34m=\u001b[0m \u001b[0mcatch_eval_exceptions\u001b[0m\u001b[0;34m\u001b[0m\u001b[0;34m\u001b[0m\u001b[0m\n\u001b[0;32m--> 407\u001b[0;31m     \u001b[0mrval\u001b[0m\u001b[0;34m.\u001b[0m\u001b[0mexhaust\u001b[0m\u001b[0;34m(\u001b[0m\u001b[0;34m)\u001b[0m\u001b[0;34m\u001b[0m\u001b[0;34m\u001b[0m\u001b[0m\n\u001b[0m\u001b[1;32m    408\u001b[0m     \u001b[0;32mif\u001b[0m \u001b[0mreturn_argmin\u001b[0m\u001b[0;34m:\u001b[0m\u001b[0;34m\u001b[0m\u001b[0;34m\u001b[0m\u001b[0m\n\u001b[1;32m    409\u001b[0m         \u001b[0;32mreturn\u001b[0m \u001b[0mtrials\u001b[0m\u001b[0;34m.\u001b[0m\u001b[0margmin\u001b[0m\u001b[0;34m\u001b[0m\u001b[0;34m\u001b[0m\u001b[0m\n",
      "\u001b[0;32m~/Development/Astronomy/proposal/ENV/lib/python3.7/site-packages/hyperopt/fmin.py\u001b[0m in \u001b[0;36mexhaust\u001b[0;34m(self)\u001b[0m\n\u001b[1;32m    260\u001b[0m     \u001b[0;32mdef\u001b[0m \u001b[0mexhaust\u001b[0m\u001b[0;34m(\u001b[0m\u001b[0mself\u001b[0m\u001b[0;34m)\u001b[0m\u001b[0;34m:\u001b[0m\u001b[0;34m\u001b[0m\u001b[0;34m\u001b[0m\u001b[0m\n\u001b[1;32m    261\u001b[0m         \u001b[0mn_done\u001b[0m \u001b[0;34m=\u001b[0m \u001b[0mlen\u001b[0m\u001b[0;34m(\u001b[0m\u001b[0mself\u001b[0m\u001b[0;34m.\u001b[0m\u001b[0mtrials\u001b[0m\u001b[0;34m)\u001b[0m\u001b[0;34m\u001b[0m\u001b[0;34m\u001b[0m\u001b[0m\n\u001b[0;32m--> 262\u001b[0;31m         \u001b[0mself\u001b[0m\u001b[0;34m.\u001b[0m\u001b[0mrun\u001b[0m\u001b[0;34m(\u001b[0m\u001b[0mself\u001b[0m\u001b[0;34m.\u001b[0m\u001b[0mmax_evals\u001b[0m \u001b[0;34m-\u001b[0m \u001b[0mn_done\u001b[0m\u001b[0;34m,\u001b[0m \u001b[0mblock_until_done\u001b[0m\u001b[0;34m=\u001b[0m\u001b[0mself\u001b[0m\u001b[0;34m.\u001b[0m\u001b[0masynchronous\u001b[0m\u001b[0;34m)\u001b[0m\u001b[0;34m\u001b[0m\u001b[0;34m\u001b[0m\u001b[0m\n\u001b[0m\u001b[1;32m    263\u001b[0m         \u001b[0mself\u001b[0m\u001b[0;34m.\u001b[0m\u001b[0mtrials\u001b[0m\u001b[0;34m.\u001b[0m\u001b[0mrefresh\u001b[0m\u001b[0;34m(\u001b[0m\u001b[0;34m)\u001b[0m\u001b[0;34m\u001b[0m\u001b[0;34m\u001b[0m\u001b[0m\n\u001b[1;32m    264\u001b[0m         \u001b[0;32mreturn\u001b[0m \u001b[0mself\u001b[0m\u001b[0;34m\u001b[0m\u001b[0;34m\u001b[0m\u001b[0m\n",
      "\u001b[0;32m~/Development/Astronomy/proposal/ENV/lib/python3.7/site-packages/hyperopt/fmin.py\u001b[0m in \u001b[0;36mrun\u001b[0;34m(self, N, block_until_done)\u001b[0m\n\u001b[1;32m    225\u001b[0m                     \u001b[0;32melse\u001b[0m\u001b[0;34m:\u001b[0m\u001b[0;34m\u001b[0m\u001b[0;34m\u001b[0m\u001b[0m\n\u001b[1;32m    226\u001b[0m                         \u001b[0;31m# -- loop over trials and do the jobs directly\u001b[0m\u001b[0;34m\u001b[0m\u001b[0;34m\u001b[0m\u001b[0;34m\u001b[0m\u001b[0m\n\u001b[0;32m--> 227\u001b[0;31m                         \u001b[0mself\u001b[0m\u001b[0;34m.\u001b[0m\u001b[0mserial_evaluate\u001b[0m\u001b[0;34m(\u001b[0m\u001b[0;34m)\u001b[0m\u001b[0;34m\u001b[0m\u001b[0;34m\u001b[0m\u001b[0m\n\u001b[0m\u001b[1;32m    228\u001b[0m \u001b[0;34m\u001b[0m\u001b[0m\n\u001b[1;32m    229\u001b[0m                     \u001b[0;32mtry\u001b[0m\u001b[0;34m:\u001b[0m\u001b[0;34m\u001b[0m\u001b[0;34m\u001b[0m\u001b[0m\n",
      "\u001b[0;32m~/Development/Astronomy/proposal/ENV/lib/python3.7/site-packages/hyperopt/fmin.py\u001b[0m in \u001b[0;36mserial_evaluate\u001b[0;34m(self, N)\u001b[0m\n\u001b[1;32m    139\u001b[0m                 \u001b[0mctrl\u001b[0m \u001b[0;34m=\u001b[0m \u001b[0mbase\u001b[0m\u001b[0;34m.\u001b[0m\u001b[0mCtrl\u001b[0m\u001b[0;34m(\u001b[0m\u001b[0mself\u001b[0m\u001b[0;34m.\u001b[0m\u001b[0mtrials\u001b[0m\u001b[0;34m,\u001b[0m \u001b[0mcurrent_trial\u001b[0m\u001b[0;34m=\u001b[0m\u001b[0mtrial\u001b[0m\u001b[0;34m)\u001b[0m\u001b[0;34m\u001b[0m\u001b[0;34m\u001b[0m\u001b[0m\n\u001b[1;32m    140\u001b[0m                 \u001b[0;32mtry\u001b[0m\u001b[0;34m:\u001b[0m\u001b[0;34m\u001b[0m\u001b[0;34m\u001b[0m\u001b[0m\n\u001b[0;32m--> 141\u001b[0;31m                     \u001b[0mresult\u001b[0m \u001b[0;34m=\u001b[0m \u001b[0mself\u001b[0m\u001b[0;34m.\u001b[0m\u001b[0mdomain\u001b[0m\u001b[0;34m.\u001b[0m\u001b[0mevaluate\u001b[0m\u001b[0;34m(\u001b[0m\u001b[0mspec\u001b[0m\u001b[0;34m,\u001b[0m \u001b[0mctrl\u001b[0m\u001b[0;34m)\u001b[0m\u001b[0;34m\u001b[0m\u001b[0;34m\u001b[0m\u001b[0m\n\u001b[0m\u001b[1;32m    142\u001b[0m                 \u001b[0;32mexcept\u001b[0m \u001b[0mException\u001b[0m \u001b[0;32mas\u001b[0m \u001b[0me\u001b[0m\u001b[0;34m:\u001b[0m\u001b[0;34m\u001b[0m\u001b[0;34m\u001b[0m\u001b[0m\n\u001b[1;32m    143\u001b[0m                     \u001b[0mlogger\u001b[0m\u001b[0;34m.\u001b[0m\u001b[0minfo\u001b[0m\u001b[0;34m(\u001b[0m\u001b[0;34m'job exception: %s'\u001b[0m \u001b[0;34m%\u001b[0m \u001b[0mstr\u001b[0m\u001b[0;34m(\u001b[0m\u001b[0me\u001b[0m\u001b[0;34m)\u001b[0m\u001b[0;34m)\u001b[0m\u001b[0;34m\u001b[0m\u001b[0;34m\u001b[0m\u001b[0m\n",
      "\u001b[0;32m~/Development/Astronomy/proposal/ENV/lib/python3.7/site-packages/hyperopt/base.py\u001b[0m in \u001b[0;36mevaluate\u001b[0;34m(self, config, ctrl, attach_attachments)\u001b[0m\n\u001b[1;32m    842\u001b[0m                 \u001b[0mmemo\u001b[0m\u001b[0;34m=\u001b[0m\u001b[0mmemo\u001b[0m\u001b[0;34m,\u001b[0m\u001b[0;34m\u001b[0m\u001b[0;34m\u001b[0m\u001b[0m\n\u001b[1;32m    843\u001b[0m                 print_node_on_error=self.rec_eval_print_node_on_error)\n\u001b[0;32m--> 844\u001b[0;31m             \u001b[0mrval\u001b[0m \u001b[0;34m=\u001b[0m \u001b[0mself\u001b[0m\u001b[0;34m.\u001b[0m\u001b[0mfn\u001b[0m\u001b[0;34m(\u001b[0m\u001b[0mpyll_rval\u001b[0m\u001b[0;34m)\u001b[0m\u001b[0;34m\u001b[0m\u001b[0;34m\u001b[0m\u001b[0m\n\u001b[0m\u001b[1;32m    845\u001b[0m \u001b[0;34m\u001b[0m\u001b[0m\n\u001b[1;32m    846\u001b[0m         \u001b[0;32mif\u001b[0m \u001b[0misinstance\u001b[0m\u001b[0;34m(\u001b[0m\u001b[0mrval\u001b[0m\u001b[0;34m,\u001b[0m \u001b[0;34m(\u001b[0m\u001b[0mfloat\u001b[0m\u001b[0;34m,\u001b[0m \u001b[0mint\u001b[0m\u001b[0;34m,\u001b[0m \u001b[0mnp\u001b[0m\u001b[0;34m.\u001b[0m\u001b[0mnumber\u001b[0m\u001b[0;34m)\u001b[0m\u001b[0;34m)\u001b[0m\u001b[0;34m:\u001b[0m\u001b[0;34m\u001b[0m\u001b[0;34m\u001b[0m\u001b[0m\n",
      "\u001b[0;32m<ipython-input-79-f34695e198fa>\u001b[0m in \u001b[0;36m_objective\u001b[0;34m(params, n_folds)\u001b[0m\n\u001b[1;32m     26\u001b[0m         cv_results = lgb.cv(params, train_set, nfold=n_folds, num_boost_round=1000,\n\u001b[1;32m     27\u001b[0m                            \u001b[0mearly_stopping_rounds\u001b[0m\u001b[0;34m=\u001b[0m\u001b[0;36m100\u001b[0m\u001b[0;34m,\u001b[0m\u001b[0;34m\u001b[0m\u001b[0;34m\u001b[0m\u001b[0m\n\u001b[0;32m---> 28\u001b[0;31m                            metrics='mae', feval=z_err, seed=random_state, stratified=stratified)\n\u001b[0m\u001b[1;32m     29\u001b[0m         \u001b[0mrun_time\u001b[0m \u001b[0;34m=\u001b[0m \u001b[0mtimer\u001b[0m\u001b[0;34m(\u001b[0m\u001b[0;34m)\u001b[0m \u001b[0;34m-\u001b[0m \u001b[0mstart\u001b[0m\u001b[0;34m\u001b[0m\u001b[0;34m\u001b[0m\u001b[0m\n\u001b[1;32m     30\u001b[0m \u001b[0;34m\u001b[0m\u001b[0m\n",
      "\u001b[0;32m~/Development/Astronomy/proposal/ENV/lib/python3.7/site-packages/lightgbm/engine.py\u001b[0m in \u001b[0;36mcv\u001b[0;34m(params, train_set, num_boost_round, folds, nfold, stratified, shuffle, metrics, fobj, feval, init_model, feature_name, categorical_feature, early_stopping_rounds, fpreproc, verbose_eval, show_stdv, seed, callbacks)\u001b[0m\n\u001b[1;32m    485\u001b[0m                                     \u001b[0mend_iteration\u001b[0m\u001b[0;34m=\u001b[0m\u001b[0mnum_boost_round\u001b[0m\u001b[0;34m,\u001b[0m\u001b[0;34m\u001b[0m\u001b[0;34m\u001b[0m\u001b[0m\n\u001b[1;32m    486\u001b[0m                                     evaluation_result_list=None))\n\u001b[0;32m--> 487\u001b[0;31m         \u001b[0mcvfolds\u001b[0m\u001b[0;34m.\u001b[0m\u001b[0mupdate\u001b[0m\u001b[0;34m(\u001b[0m\u001b[0mfobj\u001b[0m\u001b[0;34m=\u001b[0m\u001b[0mfobj\u001b[0m\u001b[0;34m)\u001b[0m\u001b[0;34m\u001b[0m\u001b[0;34m\u001b[0m\u001b[0m\n\u001b[0m\u001b[1;32m    488\u001b[0m         \u001b[0mres\u001b[0m \u001b[0;34m=\u001b[0m \u001b[0m_agg_cv_result\u001b[0m\u001b[0;34m(\u001b[0m\u001b[0mcvfolds\u001b[0m\u001b[0;34m.\u001b[0m\u001b[0meval_valid\u001b[0m\u001b[0;34m(\u001b[0m\u001b[0mfeval\u001b[0m\u001b[0;34m)\u001b[0m\u001b[0;34m)\u001b[0m\u001b[0;34m\u001b[0m\u001b[0;34m\u001b[0m\u001b[0m\n\u001b[1;32m    489\u001b[0m         \u001b[0;32mfor\u001b[0m \u001b[0m_\u001b[0m\u001b[0;34m,\u001b[0m \u001b[0mkey\u001b[0m\u001b[0;34m,\u001b[0m \u001b[0mmean\u001b[0m\u001b[0;34m,\u001b[0m \u001b[0m_\u001b[0m\u001b[0;34m,\u001b[0m \u001b[0mstd\u001b[0m \u001b[0;32min\u001b[0m \u001b[0mres\u001b[0m\u001b[0;34m:\u001b[0m\u001b[0;34m\u001b[0m\u001b[0;34m\u001b[0m\u001b[0m\n",
      "\u001b[0;32m~/Development/Astronomy/proposal/ENV/lib/python3.7/site-packages/lightgbm/engine.py\u001b[0m in \u001b[0;36mhandler_function\u001b[0;34m(*args, **kwargs)\u001b[0m\n\u001b[1;32m    261\u001b[0m             \u001b[0mret\u001b[0m \u001b[0;34m=\u001b[0m \u001b[0;34m[\u001b[0m\u001b[0;34m]\u001b[0m\u001b[0;34m\u001b[0m\u001b[0;34m\u001b[0m\u001b[0m\n\u001b[1;32m    262\u001b[0m             \u001b[0;32mfor\u001b[0m \u001b[0mbooster\u001b[0m \u001b[0;32min\u001b[0m \u001b[0mself\u001b[0m\u001b[0;34m.\u001b[0m\u001b[0mboosters\u001b[0m\u001b[0;34m:\u001b[0m\u001b[0;34m\u001b[0m\u001b[0;34m\u001b[0m\u001b[0m\n\u001b[0;32m--> 263\u001b[0;31m                 \u001b[0mret\u001b[0m\u001b[0;34m.\u001b[0m\u001b[0mappend\u001b[0m\u001b[0;34m(\u001b[0m\u001b[0mgetattr\u001b[0m\u001b[0;34m(\u001b[0m\u001b[0mbooster\u001b[0m\u001b[0;34m,\u001b[0m \u001b[0mname\u001b[0m\u001b[0;34m)\u001b[0m\u001b[0;34m(\u001b[0m\u001b[0;34m*\u001b[0m\u001b[0margs\u001b[0m\u001b[0;34m,\u001b[0m \u001b[0;34m**\u001b[0m\u001b[0mkwargs\u001b[0m\u001b[0;34m)\u001b[0m\u001b[0;34m)\u001b[0m\u001b[0;34m\u001b[0m\u001b[0;34m\u001b[0m\u001b[0m\n\u001b[0m\u001b[1;32m    264\u001b[0m             \u001b[0;32mreturn\u001b[0m \u001b[0mret\u001b[0m\u001b[0;34m\u001b[0m\u001b[0;34m\u001b[0m\u001b[0m\n\u001b[1;32m    265\u001b[0m         \u001b[0;32mreturn\u001b[0m \u001b[0mhandler_function\u001b[0m\u001b[0;34m\u001b[0m\u001b[0;34m\u001b[0m\u001b[0m\n",
      "\u001b[0;32m~/Development/Astronomy/proposal/ENV/lib/python3.7/site-packages/lightgbm/basic.py\u001b[0m in \u001b[0;36mupdate\u001b[0;34m(self, train_set, fobj)\u001b[0m\n\u001b[1;32m   1800\u001b[0m             _safe_call(_LIB.LGBM_BoosterUpdateOneIter(\n\u001b[1;32m   1801\u001b[0m                 \u001b[0mself\u001b[0m\u001b[0;34m.\u001b[0m\u001b[0mhandle\u001b[0m\u001b[0;34m,\u001b[0m\u001b[0;34m\u001b[0m\u001b[0;34m\u001b[0m\u001b[0m\n\u001b[0;32m-> 1802\u001b[0;31m                 ctypes.byref(is_finished)))\n\u001b[0m\u001b[1;32m   1803\u001b[0m             \u001b[0mself\u001b[0m\u001b[0;34m.\u001b[0m\u001b[0m__is_predicted_cur_iter\u001b[0m \u001b[0;34m=\u001b[0m \u001b[0;34m[\u001b[0m\u001b[0;32mFalse\u001b[0m \u001b[0;32mfor\u001b[0m \u001b[0m_\u001b[0m \u001b[0;32min\u001b[0m \u001b[0mrange_\u001b[0m\u001b[0;34m(\u001b[0m\u001b[0mself\u001b[0m\u001b[0;34m.\u001b[0m\u001b[0m__num_dataset\u001b[0m\u001b[0;34m)\u001b[0m\u001b[0;34m]\u001b[0m\u001b[0;34m\u001b[0m\u001b[0;34m\u001b[0m\u001b[0m\n\u001b[1;32m   1804\u001b[0m             \u001b[0;32mreturn\u001b[0m \u001b[0mis_finished\u001b[0m\u001b[0;34m.\u001b[0m\u001b[0mvalue\u001b[0m \u001b[0;34m==\u001b[0m \u001b[0;36m1\u001b[0m\u001b[0;34m\u001b[0m\u001b[0;34m\u001b[0m\u001b[0m\n",
      "\u001b[0;31mKeyboardInterrupt\u001b[0m: "
     ]
    }
   ],
   "source": [
    "ITERATION = 0\n",
    "MAX_EVALS = 1000\n",
    "\n",
    "tpe_algorithm = tpe.suggest\n",
    "bayes_trials = Trials()\n",
    "\n",
    "# Optimize\n",
    "best = fmin(fn = objective(X_train, y_train, stratified=False), space = space, algo = tpe.suggest, \n",
    "            max_evals = MAX_EVALS, trials = bayes_trials)"
   ]
  },
  {
   "cell_type": "code",
   "execution_count": 58,
   "metadata": {},
   "outputs": [
    {
     "ename": "NameError",
     "evalue": "name 'bayes_trials' is not defined",
     "output_type": "error",
     "traceback": [
      "\u001b[0;31m---------------------------------------------------------------------------\u001b[0m",
      "\u001b[0;31mNameError\u001b[0m                                 Traceback (most recent call last)",
      "\u001b[0;32m<ipython-input-58-d499ebf570a3>\u001b[0m in \u001b[0;36m<module>\u001b[0;34m\u001b[0m\n\u001b[0;32m----> 1\u001b[0;31m \u001b[0mhyperparams\u001b[0m \u001b[0;34m=\u001b[0m \u001b[0mbayes_trials\u001b[0m\u001b[0;34m.\u001b[0m\u001b[0mbest_trial\u001b[0m\u001b[0;34m[\u001b[0m\u001b[0;34m'result'\u001b[0m\u001b[0;34m]\u001b[0m\u001b[0;34m[\u001b[0m\u001b[0;34m'params'\u001b[0m\u001b[0;34m]\u001b[0m\u001b[0;34m.\u001b[0m\u001b[0mcopy\u001b[0m\u001b[0;34m(\u001b[0m\u001b[0;34m)\u001b[0m\u001b[0;34m\u001b[0m\u001b[0;34m\u001b[0m\u001b[0m\n\u001b[0m\u001b[1;32m      2\u001b[0m \u001b[0mhyperparams\u001b[0m\u001b[0;34m[\u001b[0m\u001b[0;34m'class_weight'\u001b[0m\u001b[0;34m]\u001b[0m \u001b[0;34m=\u001b[0m \u001b[0;32mNone\u001b[0m\u001b[0;34m\u001b[0m\u001b[0;34m\u001b[0m\u001b[0m\n\u001b[1;32m      3\u001b[0m \u001b[0mhyperparams\u001b[0m\u001b[0;34m\u001b[0m\u001b[0;34m\u001b[0m\u001b[0m\n",
      "\u001b[0;31mNameError\u001b[0m: name 'bayes_trials' is not defined"
     ]
    }
   ],
   "source": [
    "hyperparams = bayes_trials.best_trial['result']['params'].copy()\n",
    "hyperparams['class_weight'] = None\n",
    "hyperparams"
   ]
  },
  {
   "cell_type": "markdown",
   "metadata": {},
   "source": [
    "## K-Folds"
   ]
  },
  {
   "cell_type": "code",
   "execution_count": 12,
   "metadata": {},
   "outputs": [],
   "source": [
    "# hyperparams = {\n",
    "# #     'class_weight': 'balanced',\n",
    "#     'num_leaves': 150,\n",
    "#     'learning_rate': 0.1,\n",
    "# #    'subsample_for_bin': hp.quniform('subsample_for_bin', 20000, 300000, 20000),\n",
    "# #    'min_child_samples': hp.quniform('min_child_samples', 20, 500, 5),\n",
    "# #    'reg_alpha': hp.uniform('reg_alpha', 0.0, 1.0),\n",
    "# #    'reg_lambda': hp.uniform('reg_lambda', 0.0, 1.0),\n",
    "# #    'colsample_bytree': hp.uniform('colsample_by_tree', 0.6, 1.0)\n",
    "# }\n",
    "\n",
    "hyperparams = {\n",
    "    'colsample_bytree': 0.8692111259587726,\n",
    "    'learning_rate': 0.2971068599942397,\n",
    "    'min_child_samples': 115,\n",
    "    'num_leaves': 138,\n",
    "    'reg_alpha': 0.8091564930846249,\n",
    "    'reg_lambda': 0.7689270267722382,\n",
    "    'subsample_for_bin': 40000,\n",
    "    'boosting_type': 'gbdt',\n",
    "    'class_weight': None\n",
    "}"
   ]
  },
  {
   "cell_type": "code",
   "execution_count": 13,
   "metadata": {},
   "outputs": [],
   "source": [
    "def mae(y, y_pred):\n",
    "    y = y.ravel()\n",
    "    y_pred = y_pred.ravel()\n",
    "    return np.abs(y - y_pred).mean()"
   ]
  },
  {
   "cell_type": "code",
   "execution_count": 14,
   "metadata": {},
   "outputs": [],
   "source": [
    "def kfolds(x_train, x_test, y_train, y_test, n_splits=5, random_state=1138, verbose=True, features=None):\n",
    "    if (features is not None):\n",
    "        x_train = x_train[list(features)]\n",
    "        x_test = x_test[list(features)]\n",
    "\n",
    "    folds = KFold(n_splits=n_splits, shuffle=True, random_state=random_state)\n",
    "    oof_preds = np.zeros(X_train.shape[0])\n",
    "    predictions = np.zeros(X_test.shape[0])\n",
    "\n",
    "    models = []\n",
    "    \n",
    "    for n_fold, (train_index, validate_index) in enumerate(folds.split(x_train, y_train)):\n",
    "        X_t, X_v = x_train.iloc[train_index], x_train.iloc[validate_index]\n",
    "        y_t, y_v = y_train.iloc[train_index], y_train.iloc[validate_index]\n",
    "\n",
    "        clf = lgb.LGBMRegressor(**hyperparams)\n",
    "\n",
    "        clf.fit(X_t, y_t, eval_set=[(X_v, y_v)],\n",
    "                early_stopping_rounds=100,\n",
    "                eval_metric=z_err,\n",
    "                verbose=False,\n",
    "        )\n",
    "\n",
    "        oof_preds[validate_index] = clf.predict(X_v, num_iteration=clf.best_iteration_)\n",
    "        predictions += clf.predict(x_test, num_iteration=clf.best_iteration_)/n_splits\n",
    "\n",
    "        if (verbose):\n",
    "            print('Fold %2d Z err: %.6f, std: %.6f, min: %.6f, max: %.6f, cat. failure: %.6f' % (n_fold + 1, *z_err_stats(y_v, oof_preds[validate_index])))\n",
    "            \n",
    "        models.append(clf)\n",
    "        del clf, X_t, X_v, y_t, y_v\n",
    "\n",
    "    result, _, _, _, _ = z_err_stats(y_test, predictions)\n",
    "    if (verbose):\n",
    "        print('Full Z err: %.6f, std: %.6f, min: %.6f, max: %.6f, cat. failure: %.6f' % z_err_stats(y_test, predictions))\n",
    "    return result, models"
   ]
  },
  {
   "cell_type": "code",
   "execution_count": 27,
   "metadata": {},
   "outputs": [],
   "source": [
    "def predict(models, x_test, features=None):\n",
    "    if (features is not None):\n",
    "        x_test = x_test[features]\n",
    "\n",
    "    num_of_models = len(models)\n",
    "    predictions = np.zeros(x_test.shape[0])\n",
    "\n",
    "    for idx, model in enumerate(models):\n",
    "        predictions += model.predict(x_test, num_iteration=model.best_iteration_)/num_of_models\n",
    "\n",
    "    return predictions"
   ]
  },
  {
   "cell_type": "code",
   "execution_count": 16,
   "metadata": {},
   "outputs": [],
   "source": [
    "import multiprocessing\n",
    "\n",
    "num_cores = multiprocessing.cpu_count()\n",
    "\n",
    "NO_BEST_FEATURE = ''\n",
    "NO_BEST_Z_ERR = -1\n",
    "\n",
    "def get_feature_score(features):\n",
    "    z_err, models = kfolds(X_train[features], X_test[features], y_train, y_test, verbose=False)\n",
    "    return z_err\n",
    "\n",
    "# Model colour indexes are the base features. Everything else additional\n",
    "def determine_best_features(base_features, base_z_err, bad_features):\n",
    "\n",
    "    def best_z_err_results(results):\n",
    "        if (len(results) == 0):\n",
    "            return NO_BEST_FEATURE, NO_BEST_Z_ERR\n",
    "\n",
    "        best_feature, best_z_err = min(results.items(), key=lambda x:x[1])\n",
    "        return best_feature, best_z_err\n",
    "\n",
    "    def process(results):\n",
    "        def _process(feature):\n",
    "            print(f'Checking feature: {feature}')\n",
    "            run_features = base_features.copy()\n",
    "            run_features.add(feature)\n",
    "\n",
    "            curr_z_err = get_feature_score(run_features)\n",
    "\n",
    "            if (curr_z_err > base_z_err):\n",
    "                print(f'WARNING - {feature} reduces model accuracy!!!')\n",
    "                bad_features.add(feature)\n",
    "            else:\n",
    "                results[feature] = curr_z_err\n",
    "            \n",
    "                best_feature, best_z_err = best_z_err_results(results)\n",
    "                if (best_feature == feature):\n",
    "                    print(f'{feature} has best z_err score {curr_z_err:0.6f}')\n",
    "\n",
    "            return (curr_z_err, feature)\n",
    "\n",
    "        return _process\n",
    "    \n",
    "    print(f'Base z_err: {base_z_err:0.6f}')\n",
    "\n",
    "    features_to_scan = set(features)\n",
    "    features_to_scan = features_to_scan.difference(base_features).difference(bad_features)\n",
    "    \n",
    "    results = {}\n",
    "\n",
    "    print(f'Checking {len(features_to_scan)} features... this might take awhile')\n",
    "    process_feature = process(results)\n",
    "    _ = Parallel(n_jobs=num_cores, verbose=1, backend=\"threading\")(map(delayed(process_feature), features_to_scan))\n",
    "    \n",
    "    best_feature, best_z_err = best_z_err_results(results)\n",
    "\n",
    "    return results, best_z_err, best_feature"
   ]
  },
  {
   "cell_type": "code",
   "execution_count": 103,
   "metadata": {},
   "outputs": [
    {
     "name": "stdout",
     "output_type": "stream",
     "text": [
      "8 85333\n",
      "Fold  1 Z err: 0.010565, std: 0.010069, min: 0.000000, max: 0.209609, cat. failure: 0.000094\n",
      "5 85333\n",
      "Fold  2 Z err: 0.010612, std: 0.010102, min: 0.000000, max: 0.206871, cat. failure: 0.000059\n",
      "12 85333\n",
      "Fold  3 Z err: 0.010655, std: 0.010229, min: 0.000000, max: 0.244457, cat. failure: 0.000141\n",
      "15 85333\n",
      "Fold  4 Z err: 0.010666, std: 0.010245, min: 0.000000, max: 0.239890, cat. failure: 0.000176\n",
      "16 85333\n",
      "Fold  5 Z err: 0.010646, std: 0.010274, min: 0.000000, max: 0.260508, cat. failure: 0.000188\n",
      "12 106667\n"
     ]
    },
    {
     "ename": "ValueError",
     "evalue": "too many values to unpack (expected 4)",
     "output_type": "error",
     "traceback": [
      "\u001b[0;31m---------------------------------------------------------------------------\u001b[0m",
      "\u001b[0;31mValueError\u001b[0m                                Traceback (most recent call last)",
      "\u001b[0;32m<ipython-input-103-c0ee59ca6968>\u001b[0m in \u001b[0;36m<module>\u001b[0;34m\u001b[0m\n\u001b[0;32m----> 1\u001b[0;31m \u001b[0m_\u001b[0m \u001b[0;34m=\u001b[0m \u001b[0mkfolds\u001b[0m\u001b[0;34m(\u001b[0m\u001b[0mX_train\u001b[0m\u001b[0;34m,\u001b[0m \u001b[0mX_test\u001b[0m\u001b[0;34m,\u001b[0m \u001b[0my_train\u001b[0m\u001b[0;34m,\u001b[0m \u001b[0my_test\u001b[0m\u001b[0;34m)\u001b[0m\u001b[0;34m\u001b[0m\u001b[0;34m\u001b[0m\u001b[0m\n\u001b[0m",
      "\u001b[0;32m<ipython-input-99-8503b7f6a728>\u001b[0m in \u001b[0;36mkfolds\u001b[0;34m(x_train, x_test, y_train, y_test, n_splits, random_state, verbose, features)\u001b[0m\n\u001b[1;32m     31\u001b[0m         \u001b[0;32mdel\u001b[0m \u001b[0mclf\u001b[0m\u001b[0;34m,\u001b[0m \u001b[0mX_t\u001b[0m\u001b[0;34m,\u001b[0m \u001b[0mX_v\u001b[0m\u001b[0;34m,\u001b[0m \u001b[0my_t\u001b[0m\u001b[0;34m,\u001b[0m \u001b[0my_v\u001b[0m\u001b[0;34m\u001b[0m\u001b[0;34m\u001b[0m\u001b[0m\n\u001b[1;32m     32\u001b[0m \u001b[0;34m\u001b[0m\u001b[0m\n\u001b[0;32m---> 33\u001b[0;31m     \u001b[0mresult\u001b[0m\u001b[0;34m,\u001b[0m \u001b[0m_\u001b[0m\u001b[0;34m,\u001b[0m \u001b[0m_\u001b[0m\u001b[0;34m,\u001b[0m \u001b[0m_\u001b[0m \u001b[0;34m=\u001b[0m \u001b[0mz_err_stats\u001b[0m\u001b[0;34m(\u001b[0m\u001b[0my_test\u001b[0m\u001b[0;34m,\u001b[0m \u001b[0mpredictions\u001b[0m\u001b[0;34m)\u001b[0m\u001b[0;34m\u001b[0m\u001b[0;34m\u001b[0m\u001b[0m\n\u001b[0m\u001b[1;32m     34\u001b[0m     \u001b[0;32mif\u001b[0m \u001b[0;34m(\u001b[0m\u001b[0mverbose\u001b[0m\u001b[0;34m)\u001b[0m\u001b[0;34m:\u001b[0m\u001b[0;34m\u001b[0m\u001b[0;34m\u001b[0m\u001b[0m\n\u001b[1;32m     35\u001b[0m         \u001b[0mprint\u001b[0m\u001b[0;34m(\u001b[0m\u001b[0;34m'Full Z err: %.6f, std: %.6f, min: %.6f, max: %.6f, cat. failure: %.6f'\u001b[0m \u001b[0;34m%\u001b[0m \u001b[0mz_err_stats\u001b[0m\u001b[0;34m(\u001b[0m\u001b[0my_test\u001b[0m\u001b[0;34m,\u001b[0m \u001b[0mpredictions\u001b[0m\u001b[0;34m)\u001b[0m\u001b[0;34m)\u001b[0m\u001b[0;34m\u001b[0m\u001b[0;34m\u001b[0m\u001b[0m\n",
      "\u001b[0;31mValueError\u001b[0m: too many values to unpack (expected 4)"
     ]
    }
   ],
   "source": [
    "_ = kfolds(X_train, X_test, y_train, y_test)"
   ]
  },
  {
   "cell_type": "code",
   "execution_count": 29,
   "metadata": {},
   "outputs": [
    {
     "name": "stdout",
     "output_type": "stream",
     "text": [
      "Starting a round 0 to find best feature. Current extra features = []\n",
      "Base z_err: 1.000000\n",
      "Checking 107 features... this might take awhile\n",
      "Checking feature: psfMag_rChecking feature: petroR90_u\n",
      "Checking feature: petroR50_z\n",
      "Checking feature: psfMag_z\n",
      "\n"
     ]
    },
    {
     "name": "stderr",
     "output_type": "stream",
     "text": [
      "[Parallel(n_jobs=4)]: Using backend ThreadingBackend with 4 concurrent workers.\n"
     ]
    },
    {
     "name": "stdout",
     "output_type": "stream",
     "text": [
      "psfMag_z has best z_err score 0.032311\n",
      "Checking feature: petroR90_r\n",
      "Checking feature: mag_z\n",
      "Checking feature: fiberMag_r\n",
      "Checking feature: expPhi_r\n",
      "mag_z has best z_err score 0.032227\n",
      "Checking feature: expRad_u\n",
      "Checking feature: extinction_u\n",
      "Checking feature: expPhi_g\n",
      "Checking feature: dered_z\n",
      "Checking feature: deVAB_g\n",
      "Checking feature: psfMag_i_r_colour_index\n",
      "dered_z has best z_err score 0.032201\n",
      "Checking feature: deVRad_u\n",
      "Checking feature: stokes_q_r\n",
      "Checking feature: petroRad_u\n",
      "Checking feature: expPhi_i\n",
      "Checking feature: dered_g\n",
      "Checking feature: petro_i_r_colour_index\n",
      "dered_g has best z_err score 0.025349\n",
      "Checking feature: deVRad_r\n",
      "Checking feature: stokes_q_z\n",
      "Checking feature: dered_i\n",
      "Checking feature: petro_R90_R50_ratio_z\n",
      "Checking feature: petroR90_i\n",
      "Checking feature: petroR50_i\n",
      "Checking feature: petroMag_r\n",
      "Checking feature: petro_r_g_colour_index\n",
      "Checking feature: deVPhi_u\n",
      "Checking feature: psfMag_z_i_colour_index\n",
      "petro_r_g_colour_index has best z_err score 0.024217\n",
      "Checking feature: fiberMag_u\n",
      "Checking feature: psfMag_u\n",
      "Checking feature: expRad_i\n",
      "Checking feature: extinction_r\n",
      "Checking feature: fiberMag_z\n",
      "Checking feature: deVPhi_z\n",
      "Checking feature: stokes_q_g\n",
      "Checking feature: petro_R90_R50_ratio_u\n",
      "Checking feature: expAB_u\n",
      "Checking feature: expAB_r\n",
      "Checking feature: petroR50_g\n",
      "Checking feature: expAB_g\n",
      "Checking feature: model_z_i_colour_index\n",
      "Checking feature: stokes_u_r\n",
      "Checking feature: petroRad_r\n",
      "Checking feature: fiberMag_i\n"
     ]
    },
    {
     "name": "stderr",
     "output_type": "stream",
     "text": [
      "[Parallel(n_jobs=4)]: Done  42 tasks      | elapsed: 14.1min\n"
     ]
    },
    {
     "name": "stdout",
     "output_type": "stream",
     "text": [
      "Checking feature: deVRad_i\n",
      "Checking feature: deVPhi_r\n",
      "Checking feature: stokes_u_u\n",
      "Checking feature: deVAB_i\n",
      "Checking feature: dered_u\n",
      "Checking feature: extinction_z\n",
      "Checking feature: expRad_r\n",
      "Checking feature: deVAB_r\n",
      "Checking feature: mag_i\n",
      "Checking feature: mag_r\n",
      "Checking feature: stokes_u_i\n",
      "Checking feature: deVAB_z\n",
      "Checking feature: petro_R90_R50_ratio_i\n",
      "Checking feature: mag_u\n",
      "Checking feature: psfMag_g_u_colour_index\n",
      "Checking feature: stokes_u_g\n",
      "Checking feature: model_i_r_colour_index\n",
      "Checking feature: expAB_i\n",
      "Checking feature: petro_R90_R50_ratio_r\n",
      "Checking feature: expMag_u\n",
      "Checking feature: stokes_q_i\n",
      "Checking feature: petroR90_z\n",
      "Checking feature: extinction_g\n",
      "Checking feature: petroMag_g\n",
      "Checking feature: mag_g\n",
      "Checking feature: expMag_g\n",
      "Checking feature: expAB_z\n",
      "Checking feature: deVRad_z\n",
      "Checking feature: expRad_g\n",
      "Checking feature: deVAB_u\n",
      "Checking feature: expMag_z\n",
      "Checking feature: petro_R90_R50_ratio_g\n",
      "Checking feature: psfMag_g\n",
      "Checking feature: extinction_i\n",
      "Checking feature: deVRad_g\n",
      "Checking feature: dered_r\n",
      "Checking feature: stokes_q_u\n",
      "Checking feature: expMag_r\n",
      "Checking feature: deVPhi_g\n",
      "Checking feature: deVPhi_i\n",
      "Checking feature: petroR50_u\n",
      "Checking feature: petroR90_g\n",
      "Checking feature: expPhi_z\n",
      "Checking feature: petroRad_z\n",
      "Checking feature: model_r_g_colour_index\n",
      "Checking feature: psfMag_r_g_colour_index\n",
      "model_r_g_colour_index has best z_err score 0.022289\n",
      "Checking feature: model_g_u_colour_index\n",
      "Checking feature: petroRad_i\n",
      "Checking feature: petroRad_g\n",
      "Checking feature: petro_z_i_colour_index\n",
      "Checking feature: expMag_i\n",
      "Checking feature: petro_g_u_colour_index\n",
      "Checking feature: petroR50_r\n",
      "Checking feature: expRad_z\n",
      "Checking feature: stokes_u_z\n",
      "Checking feature: petroMag_z\n",
      "Checking feature: petroMag_i\n",
      "Checking feature: psfMag_i\n",
      "Checking feature: petroMag_u\n",
      "Checking feature: expPhi_u\n",
      "Checking feature: fiberMag_g\n"
     ]
    },
    {
     "name": "stderr",
     "output_type": "stream",
     "text": [
      "[Parallel(n_jobs=4)]: Done 107 out of 107 | elapsed: 33.5min finished\n",
      "[Parallel(n_jobs=4)]: Using backend ThreadingBackend with 4 concurrent workers.\n"
     ]
    },
    {
     "name": "stdout",
     "output_type": "stream",
     "text": [
      "Found model_r_g_colour_index as extra feature\n",
      "Starting a round 1 to find best feature. Current extra features = ['model_r_g_colour_index']\n",
      "Base z_err: 0.022289\n",
      "Checking 106 features... this might take awhile\n",
      "Checking feature: psfMag_rChecking feature: petroR90_u\n",
      "\n",
      "Checking feature: petroR50_z\n",
      "Checking feature: psfMag_z\n",
      "psfMag_z has best z_err score 0.018714\n",
      "Checking feature: petroR90_r\n",
      "Checking feature: mag_z\n",
      "Checking feature: fiberMag_r\n",
      "Checking feature: expPhi_r\n",
      "Checking feature: expRad_u\n",
      "Checking feature: extinction_u\n",
      "fiberMag_r has best z_err score 0.018582\n",
      "Checking feature: expPhi_g\n",
      "WARNING - expPhi_r reduces model accuracy!!!\n",
      "Checking feature: dered_z\n",
      "Checking feature: deVAB_g\n",
      "Checking feature: psfMag_i_r_colour_index\n",
      "WARNING - expPhi_g reduces model accuracy!!!\n",
      "Checking feature: deVRad_u\n",
      "Checking feature: stokes_q_r\n",
      "Checking feature: petroRad_u\n",
      "Checking feature: expPhi_i\n",
      "Checking feature: dered_g\n",
      "Checking feature: petro_i_r_colour_index\n",
      "Checking feature: deVRad_r\n",
      "Checking feature: stokes_q_z\n",
      "Checking feature: dered_i\n",
      "WARNING - expPhi_i reduces model accuracy!!!\n",
      "Checking feature: petro_R90_R50_ratio_z\n",
      "Checking feature: petroR90_i\n",
      "Checking feature: petroR50_i\n",
      "Checking feature: petroMag_r\n",
      "Checking feature: petro_r_g_colour_index\n",
      "WARNING - petro_r_g_colour_index reduces model accuracy!!!\n",
      "Checking feature: deVPhi_u\n",
      "Checking feature: psfMag_z_i_colour_index\n",
      "Checking feature: fiberMag_u\n",
      "Checking feature: psfMag_u\n",
      "Checking feature: expRad_i\n",
      "Checking feature: extinction_r\n",
      "Checking feature: fiberMag_z\n",
      "WARNING - deVPhi_u reduces model accuracy!!!\n",
      "Checking feature: deVPhi_z\n",
      "fiberMag_z has best z_err score 0.018246\n",
      "Checking feature: stokes_q_g\n",
      "Checking feature: petro_R90_R50_ratio_u\n",
      "Checking feature: expAB_u\n",
      "WARNING - deVPhi_z reduces model accuracy!!!\n",
      "Checking feature: expAB_r\n",
      "Checking feature: petroR50_g\n",
      "Checking feature: expAB_g\n",
      "Checking feature: model_z_i_colour_index\n",
      "Checking feature: stokes_u_r\n",
      "Checking feature: petroRad_r\n"
     ]
    },
    {
     "name": "stderr",
     "output_type": "stream",
     "text": [
      "[Parallel(n_jobs=4)]: Done  42 tasks      | elapsed: 12.3min\n"
     ]
    },
    {
     "name": "stdout",
     "output_type": "stream",
     "text": [
      "Checking feature: fiberMag_i\n",
      "Checking feature: deVRad_i\n",
      "Checking feature: deVPhi_r\n",
      "Checking feature: stokes_u_u\n",
      "Checking feature: deVAB_i\n",
      "Checking feature: dered_u\n",
      "Checking feature: extinction_z\n",
      "WARNING - deVPhi_r reduces model accuracy!!!\n",
      "Checking feature: expRad_r\n",
      "Checking feature: deVAB_r\n",
      "Checking feature: mag_i\n",
      "Checking feature: mag_r\n",
      "Checking feature: stokes_u_i\n",
      "Checking feature: deVAB_z\n",
      "Checking feature: petro_R90_R50_ratio_i\n",
      "Checking feature: mag_u\n",
      "Checking feature: psfMag_g_u_colour_index\n",
      "Checking feature: stokes_u_g\n",
      "Checking feature: model_i_r_colour_index\n",
      "Checking feature: expAB_i\n",
      "Checking feature: petro_R90_R50_ratio_r\n",
      "Checking feature: expMag_u\n",
      "Checking feature: stokes_q_i\n",
      "Checking feature: petroR90_z\n",
      "Checking feature: extinction_g\n",
      "Checking feature: petroMag_g\n",
      "Checking feature: mag_g\n",
      "Checking feature: expMag_g\n",
      "Checking feature: expAB_z\n",
      "Checking feature: deVRad_z\n",
      "Checking feature: expRad_g\n",
      "Checking feature: deVAB_u\n",
      "Checking feature: expMag_z\n",
      "Checking feature: petro_R90_R50_ratio_g\n",
      "Checking feature: psfMag_g\n",
      "Checking feature: extinction_i\n",
      "Checking feature: deVRad_g\n",
      "Checking feature: dered_r\n",
      "Checking feature: stokes_q_u\n",
      "Checking feature: expMag_r\n",
      "Checking feature: deVPhi_g\n",
      "Checking feature: deVPhi_i\n",
      "WARNING - stokes_q_u reduces model accuracy!!!\n",
      "Checking feature: petroR50_u\n",
      "Checking feature: petroR90_g\n",
      "Checking feature: expPhi_z\n",
      "WARNING - deVPhi_g reduces model accuracy!!!\n",
      "Checking feature: petroRad_z\n",
      "WARNING - deVPhi_i reduces model accuracy!!!\n",
      "Checking feature: psfMag_r_g_colour_index\n",
      "Checking feature: model_g_u_colour_index\n",
      "Checking feature: petroRad_i\n",
      "model_g_u_colour_index has best z_err score 0.017539\n",
      "Checking feature: petroRad_g\n",
      "WARNING - expPhi_z reduces model accuracy!!!\n",
      "Checking feature: petro_z_i_colour_index\n",
      "Checking feature: expMag_i\n",
      "Checking feature: petro_g_u_colour_index\n",
      "Checking feature: petroR50_r\n",
      "Checking feature: expRad_z\n",
      "Checking feature: stokes_u_z\n",
      "Checking feature: petroMag_z\n",
      "Checking feature: petroMag_i\n",
      "Checking feature: psfMag_i\n",
      "Checking feature: petroMag_u\n",
      "Checking feature: expPhi_u\n",
      "Checking feature: fiberMag_g\n",
      "WARNING - expPhi_u reduces model accuracy!!!\n"
     ]
    },
    {
     "name": "stderr",
     "output_type": "stream",
     "text": [
      "[Parallel(n_jobs=4)]: Done 106 out of 106 | elapsed: 27.7min finished\n",
      "[Parallel(n_jobs=4)]: Using backend ThreadingBackend with 4 concurrent workers.\n"
     ]
    },
    {
     "name": "stdout",
     "output_type": "stream",
     "text": [
      "Found model_g_u_colour_index as extra feature\n",
      "Starting a round 2 to find best feature. Current extra features = ['model_r_g_colour_index', 'model_g_u_colour_index']\n",
      "Base z_err: 0.017539\n",
      "Checking 93 features... this might take awhile\n",
      "Checking feature: psfMag_r\n",
      "Checking feature: petroR90_uChecking feature: petroR50_z\n",
      "\n",
      "Checking feature: psfMag_z\n",
      "petroR50_z has best z_err score 0.015611\n",
      "Checking feature: petroR90_r\n",
      "psfMag_r has best z_err score 0.014959\n",
      "Checking feature: mag_z\n",
      "Checking feature: fiberMag_r\n",
      "psfMag_z has best z_err score 0.014824\n",
      "Checking feature: expRad_u\n",
      "fiberMag_r has best z_err score 0.014657\n",
      "Checking feature: extinction_u\n",
      "Checking feature: dered_z\n",
      "mag_z has best z_err score 0.014648\n",
      "Checking feature: deVAB_g\n",
      "Checking feature: psfMag_i_r_colour_index\n",
      "Checking feature: deVRad_u\n",
      "Checking feature: stokes_q_r\n",
      "Checking feature: petroRad_u\n",
      "Checking feature: dered_g\n",
      "Checking feature: petro_i_r_colour_index\n",
      "Checking feature: deVRad_r\n",
      "Checking feature: stokes_q_z\n",
      "Checking feature: dered_i\n",
      "Checking feature: petro_R90_R50_ratio_z\n",
      "Checking feature: petroR90_i\n",
      "Checking feature: petroR50_i\n",
      "Checking feature: petroMag_r\n",
      "Checking feature: psfMag_z_i_colour_index\n",
      "Checking feature: fiberMag_u\n",
      "Checking feature: psfMag_u\n",
      "Checking feature: expRad_i\n",
      "Checking feature: extinction_r\n",
      "Checking feature: fiberMag_z\n",
      "Checking feature: stokes_q_g\n",
      "Checking feature: petro_R90_R50_ratio_u\n",
      "Checking feature: expAB_u\n",
      "fiberMag_z has best z_err score 0.014477\n",
      "Checking feature: expAB_r\n",
      "Checking feature: petroR50_g\n",
      "Checking feature: expAB_g\n",
      "Checking feature: model_z_i_colour_index\n",
      "Checking feature: stokes_u_r\n",
      "Checking feature: petroRad_r\n",
      "Checking feature: fiberMag_i\n",
      "Checking feature: deVRad_i\n",
      "Checking feature: stokes_u_u\n",
      "Checking feature: deVAB_i\n",
      "Checking feature: dered_u\n",
      "Checking feature: extinction_z\n"
     ]
    },
    {
     "name": "stderr",
     "output_type": "stream",
     "text": [
      "[Parallel(n_jobs=4)]: Done  42 tasks      | elapsed: 20.3min\n"
     ]
    },
    {
     "name": "stdout",
     "output_type": "stream",
     "text": [
      "Checking feature: expRad_r\n",
      "Checking feature: deVAB_r\n",
      "Checking feature: mag_i\n",
      "Checking feature: mag_r\n",
      "Checking feature: stokes_u_i\n",
      "Checking feature: deVAB_z\n",
      "Checking feature: petro_R90_R50_ratio_i\n",
      "Checking feature: mag_u\n",
      "Checking feature: psfMag_g_u_colour_index\n",
      "Checking feature: stokes_u_g\n",
      "Checking feature: model_i_r_colour_index\n",
      "Checking feature: expAB_i\n",
      "Checking feature: petro_R90_R50_ratio_r\n",
      "Checking feature: expMag_u\n",
      "Checking feature: stokes_q_i\n",
      "Checking feature: petroR90_z\n",
      "Checking feature: extinction_g\n",
      "Checking feature: petroMag_g\n",
      "Checking feature: mag_g\n",
      "Checking feature: expMag_g\n",
      "Checking feature: expAB_z\n",
      "Checking feature: deVRad_z\n",
      "Checking feature: expRad_g\n",
      "Checking feature: deVAB_u\n",
      "Checking feature: expMag_z\n",
      "Checking feature: petro_R90_R50_ratio_g\n",
      "Checking feature: psfMag_g\n",
      "Checking feature: extinction_i\n",
      "Checking feature: deVRad_g\n",
      "Checking feature: dered_r\n",
      "Checking feature: expMag_r\n",
      "Checking feature: petroR50_u\n",
      "Checking feature: petroR90_g\n",
      "Checking feature: petroRad_z\n",
      "Checking feature: psfMag_r_g_colour_index\n",
      "Checking feature: petroRad_i\n",
      "Checking feature: petroRad_g\n",
      "Checking feature: petro_z_i_colour_index\n",
      "Checking feature: expMag_i\n",
      "Checking feature: petro_g_u_colour_index\n",
      "Checking feature: petroR50_r\n",
      "Checking feature: expRad_z\n",
      "Checking feature: stokes_u_z\n",
      "Checking feature: petroMag_z\n",
      "Checking feature: petroMag_i\n",
      "Checking feature: psfMag_i\n",
      "Checking feature: petroMag_u\n",
      "Checking feature: fiberMag_g\n"
     ]
    },
    {
     "name": "stderr",
     "output_type": "stream",
     "text": [
      "[Parallel(n_jobs=4)]: Done  93 out of  93 | elapsed: 43.1min finished\n",
      "[Parallel(n_jobs=4)]: Using backend ThreadingBackend with 4 concurrent workers.\n"
     ]
    },
    {
     "name": "stdout",
     "output_type": "stream",
     "text": [
      "Found fiberMag_z as extra feature\n",
      "Starting a round 3 to find best feature. Current extra features = ['model_r_g_colour_index', 'model_g_u_colour_index', 'fiberMag_z']\n",
      "Base z_err: 0.014477\n",
      "Checking 92 features... this might take awhile\n",
      "Checking feature: psfMag_rChecking feature: petroR90_u\n",
      "Checking feature: petroR50_z\n",
      "\n",
      "Checking feature: psfMag_z\n",
      "psfMag_z has best z_err score 0.014354\n",
      "Checking feature: petroR90_r\n",
      "petroR50_z has best z_err score 0.013955\n",
      "Checking feature: mag_z\n",
      "Checking feature: fiberMag_r\n",
      "Checking feature: expRad_u\n",
      "petroR90_r has best z_err score 0.013821\n",
      "Checking feature: extinction_u\n",
      "Checking feature: dered_z\n",
      "fiberMag_r has best z_err score 0.013813\n",
      "Checking feature: deVAB_g\n",
      "expRad_u has best z_err score 0.013808\n",
      "Checking feature: psfMag_i_r_colour_index\n",
      "Checking feature: deVRad_u\n",
      "Checking feature: stokes_q_r\n",
      "Checking feature: petroRad_u\n",
      "Checking feature: dered_g\n",
      "Checking feature: petro_i_r_colour_index\n",
      "Checking feature: deVRad_r\n",
      "Checking feature: stokes_q_z\n",
      "Checking feature: dered_i\n",
      "petro_i_r_colour_index has best z_err score 0.013743\n",
      "Checking feature: petro_R90_R50_ratio_z\n",
      "deVRad_r has best z_err score 0.013690\n",
      "Checking feature: petroR90_i\n",
      "Checking feature: petroR50_i\n",
      "Checking feature: petroMag_r\n",
      "Checking feature: psfMag_z_i_colour_index\n",
      "Checking feature: fiberMag_u\n",
      "Checking feature: psfMag_u\n",
      "Checking feature: expRad_i\n",
      "Checking feature: extinction_r\n",
      "Checking feature: stokes_q_g\n",
      "Checking feature: petro_R90_R50_ratio_u\n",
      "expRad_i has best z_err score 0.013549\n",
      "Checking feature: expAB_u\n",
      "Checking feature: expAB_r\n",
      "Checking feature: petroR50_g\n",
      "Checking feature: expAB_g\n",
      "Checking feature: model_z_i_colour_index\n",
      "Checking feature: stokes_u_r\n",
      "Checking feature: petroRad_r\n",
      "Checking feature: fiberMag_i\n",
      "Checking feature: deVRad_i\n",
      "Checking feature: stokes_u_u\n",
      "Checking feature: deVAB_i\n",
      "Checking feature: dered_u\n",
      "Checking feature: extinction_z\n",
      "Checking feature: expRad_r\n",
      "Checking feature: deVAB_r\n"
     ]
    },
    {
     "name": "stderr",
     "output_type": "stream",
     "text": [
      "[Parallel(n_jobs=4)]: Done  42 tasks      | elapsed: 19.7min\n"
     ]
    },
    {
     "name": "stdout",
     "output_type": "stream",
     "text": [
      "Checking feature: mag_i\n",
      "Checking feature: mag_r\n",
      "Checking feature: stokes_u_i\n",
      "Checking feature: deVAB_z\n",
      "Checking feature: petro_R90_R50_ratio_i\n",
      "Checking feature: mag_u\n",
      "Checking feature: psfMag_g_u_colour_index\n",
      "Checking feature: stokes_u_g\n",
      "Checking feature: model_i_r_colour_index\n",
      "Checking feature: expAB_i\n",
      "Checking feature: petro_R90_R50_ratio_r\n",
      "Checking feature: expMag_u\n",
      "model_i_r_colour_index has best z_err score 0.012979\n",
      "Checking feature: stokes_q_i\n",
      "Checking feature: petroR90_z\n",
      "Checking feature: extinction_g\n",
      "Checking feature: petroMag_g\n",
      "Checking feature: mag_g\n",
      "Checking feature: expMag_g\n",
      "Checking feature: expAB_z\n",
      "Checking feature: deVRad_z\n",
      "Checking feature: expRad_g\n",
      "Checking feature: deVAB_u\n",
      "Checking feature: expMag_z\n",
      "Checking feature: petro_R90_R50_ratio_g\n",
      "Checking feature: psfMag_g\n",
      "Checking feature: extinction_i\n",
      "Checking feature: deVRad_g\n",
      "Checking feature: dered_r\n",
      "Checking feature: expMag_r\n",
      "Checking feature: petroR50_u\n",
      "Checking feature: petroR90_g\n",
      "Checking feature: petroRad_z\n",
      "Checking feature: psfMag_r_g_colour_index\n",
      "Checking feature: petroRad_i\n",
      "Checking feature: petroRad_g\n",
      "Checking feature: petro_z_i_colour_index\n",
      "Checking feature: expMag_i\n",
      "Checking feature: petro_g_u_colour_index\n",
      "Checking feature: petroR50_r\n",
      "Checking feature: expRad_z\n",
      "Checking feature: stokes_u_z\n",
      "Checking feature: petroMag_z\n",
      "Checking feature: petroMag_i\n",
      "Checking feature: psfMag_i\n",
      "Checking feature: petroMag_u\n",
      "Checking feature: fiberMag_g\n"
     ]
    },
    {
     "name": "stderr",
     "output_type": "stream",
     "text": [
      "[Parallel(n_jobs=4)]: Done  92 out of  92 | elapsed: 41.1min finished\n",
      "[Parallel(n_jobs=4)]: Using backend ThreadingBackend with 4 concurrent workers.\n"
     ]
    },
    {
     "name": "stdout",
     "output_type": "stream",
     "text": [
      "Found model_i_r_colour_index as extra feature\n",
      "Starting a round 4 to find best feature. Current extra features = ['model_r_g_colour_index', 'model_g_u_colour_index', 'fiberMag_z', 'model_i_r_colour_index']\n",
      "Base z_err: 0.012979\n",
      "Checking 91 features... this might take awhile\n",
      "Checking feature: psfMag_rChecking feature: petroR90_u\n",
      "Checking feature: petroR50_z\n",
      "\n",
      "Checking feature: psfMag_z\n",
      "psfMag_z has best z_err score 0.012903\n",
      "Checking feature: petroR90_r\n",
      "psfMag_r has best z_err score 0.012879\n",
      "Checking feature: mag_z\n",
      "petroR90_u has best z_err score 0.012678\n",
      "Checking feature: fiberMag_r\n",
      "petroR50_z has best z_err score 0.012633\n",
      "Checking feature: expRad_u\n",
      "Checking feature: extinction_u\n",
      "petroR90_r has best z_err score 0.012554\n",
      "Checking feature: dered_z\n",
      "Checking feature: deVAB_g\n",
      "expRad_u has best z_err score 0.012490\n",
      "Checking feature: psfMag_i_r_colour_index\n",
      "Checking feature: deVRad_u\n",
      "Checking feature: stokes_q_r\n",
      "deVAB_g has best z_err score 0.012294\n",
      "Checking feature: petroRad_u\n",
      "Checking feature: dered_g\n",
      "Checking feature: petro_i_r_colour_index\n",
      "Checking feature: deVRad_r\n",
      "Checking feature: stokes_q_z\n",
      "Checking feature: dered_i\n",
      "Checking feature: petro_R90_R50_ratio_z\n",
      "Checking feature: petroR90_i\n",
      "Checking feature: petroR50_i\n",
      "Checking feature: petroMag_r\n",
      "Checking feature: psfMag_z_i_colour_index\n",
      "Checking feature: fiberMag_u\n",
      "Checking feature: psfMag_u\n",
      "Checking feature: expRad_i\n",
      "Checking feature: extinction_r\n",
      "Checking feature: stokes_q_g\n",
      "Checking feature: petro_R90_R50_ratio_u\n",
      "Checking feature: expAB_u\n",
      "Checking feature: expAB_r\n",
      "Checking feature: petroR50_g\n",
      "Checking feature: expAB_g\n",
      "Checking feature: model_z_i_colour_index\n",
      "expAB_r has best z_err score 0.012266\n",
      "Checking feature: stokes_u_r\n",
      "Checking feature: petroRad_r\n",
      "Checking feature: fiberMag_i\n",
      "Checking feature: deVRad_i\n",
      "Checking feature: stokes_u_u\n",
      "Checking feature: deVAB_i\n",
      "Checking feature: dered_u\n",
      "Checking feature: extinction_z\n",
      "Checking feature: expRad_r\n",
      "deVAB_i has best z_err score 0.012262\n",
      "Checking feature: deVAB_r\n"
     ]
    },
    {
     "name": "stderr",
     "output_type": "stream",
     "text": [
      "[Parallel(n_jobs=4)]: Done  42 tasks      | elapsed: 23.1min\n"
     ]
    },
    {
     "name": "stdout",
     "output_type": "stream",
     "text": [
      "Checking feature: mag_i\n",
      "Checking feature: mag_r\n",
      "Checking feature: stokes_u_i\n",
      "Checking feature: deVAB_z\n",
      "Checking feature: petro_R90_R50_ratio_i\n",
      "Checking feature: mag_u\n",
      "Checking feature: psfMag_g_u_colour_index\n",
      "deVAB_z has best z_err score 0.012254\n",
      "Checking feature: stokes_u_g\n",
      "Checking feature: expAB_i\n",
      "Checking feature: petro_R90_R50_ratio_r\n",
      "Checking feature: expMag_u\n",
      "Checking feature: stokes_q_i\n",
      "expAB_i has best z_err score 0.012254\n",
      "Checking feature: petroR90_z\n",
      "Checking feature: extinction_g\n",
      "Checking feature: petroMag_g\n",
      "Checking feature: mag_g\n",
      "Checking feature: expMag_g\n",
      "Checking feature: expAB_z\n",
      "Checking feature: deVRad_z\n",
      "Checking feature: expRad_g\n",
      "Checking feature: deVAB_u\n",
      "expAB_z has best z_err score 0.012246\n",
      "Checking feature: expMag_z\n",
      "Checking feature: petro_R90_R50_ratio_g\n",
      "Checking feature: psfMag_g\n",
      "Checking feature: extinction_i\n",
      "Checking feature: deVRad_g\n",
      "Checking feature: dered_r\n",
      "Checking feature: expMag_r\n",
      "Checking feature: petroR50_u\n",
      "Checking feature: petroR90_g\n",
      "Checking feature: petroRad_z\n",
      "Checking feature: psfMag_r_g_colour_index\n",
      "Checking feature: petroRad_i\n",
      "Checking feature: petroRad_g\n",
      "Checking feature: petro_z_i_colour_index\n",
      "Checking feature: expMag_i\n",
      "Checking feature: petro_g_u_colour_index\n",
      "Checking feature: petroR50_r\n",
      "Checking feature: expRad_z\n",
      "Checking feature: stokes_u_z\n",
      "Checking feature: petroMag_z\n",
      "Checking feature: petroMag_i\n",
      "Checking feature: psfMag_i\n",
      "Checking feature: petroMag_u\n",
      "Checking feature: fiberMag_g\n"
     ]
    },
    {
     "name": "stderr",
     "output_type": "stream",
     "text": [
      "[Parallel(n_jobs=4)]: Done  91 out of  91 | elapsed: 46.4min finished\n",
      "[Parallel(n_jobs=4)]: Using backend ThreadingBackend with 4 concurrent workers.\n"
     ]
    },
    {
     "name": "stdout",
     "output_type": "stream",
     "text": [
      "Found expAB_z as extra feature\n",
      "Starting a round 5 to find best feature. Current extra features = ['model_r_g_colour_index', 'model_g_u_colour_index', 'fiberMag_z', 'model_i_r_colour_index', 'expAB_z']\n",
      "Base z_err: 0.012246\n",
      "Checking 90 features... this might take awhile\n",
      "Checking feature: psfMag_rChecking feature: petroR90_u\n",
      "Checking feature: petroR50_zChecking feature: psfMag_z\n",
      "\n",
      "\n",
      "petroR50_z has best z_err score 0.011954\n",
      "Checking feature: petroR90_r\n",
      "Checking feature: mag_z\n",
      "Checking feature: fiberMag_r\n",
      "Checking feature: expRad_u\n",
      "petroR90_r has best z_err score 0.011934\n",
      "Checking feature: extinction_u\n",
      "Checking feature: dered_z\n",
      "Checking feature: deVAB_g\n",
      "expRad_u has best z_err score 0.011886\n",
      "Checking feature: psfMag_i_r_colour_index\n",
      "Checking feature: deVRad_u\n",
      "Checking feature: stokes_q_r\n",
      "Checking feature: petroRad_u\n",
      "Checking feature: dered_g\n",
      "Checking feature: petro_i_r_colour_index\n",
      "Checking feature: deVRad_r\n",
      "Checking feature: stokes_q_z\n",
      "Checking feature: dered_i\n",
      "Checking feature: petro_R90_R50_ratio_z\n",
      "deVRad_r has best z_err score 0.011869\n",
      "Checking feature: petroR90_i\n",
      "WARNING - stokes_q_z reduces model accuracy!!!\n",
      "Checking feature: petroR50_i\n",
      "Checking feature: petroMag_r\n",
      "Checking feature: psfMag_z_i_colour_index\n",
      "Checking feature: fiberMag_u\n",
      "Checking feature: psfMag_u\n",
      "Checking feature: expRad_i\n",
      "Checking feature: extinction_r\n",
      "Checking feature: stokes_q_g\n",
      "Checking feature: petro_R90_R50_ratio_u\n",
      "expRad_i has best z_err score 0.011846\n",
      "Checking feature: expAB_u\n",
      "Checking feature: expAB_r\n",
      "Checking feature: petroR50_g\n",
      "Checking feature: expAB_g\n",
      "Checking feature: model_z_i_colour_index\n",
      "Checking feature: stokes_u_r\n",
      "Checking feature: petroRad_r\n",
      "Checking feature: fiberMag_i\n",
      "model_z_i_colour_index has best z_err score 0.011812\n",
      "Checking feature: deVRad_i\n",
      "Checking feature: stokes_u_u\n",
      "Checking feature: deVAB_i\n",
      "Checking feature: dered_u\n",
      "Checking feature: extinction_z\n",
      "Checking feature: expRad_r\n",
      "Checking feature: deVAB_r\n"
     ]
    },
    {
     "name": "stderr",
     "output_type": "stream",
     "text": [
      "[Parallel(n_jobs=4)]: Done  42 tasks      | elapsed: 23.2min\n"
     ]
    },
    {
     "name": "stdout",
     "output_type": "stream",
     "text": [
      "Checking feature: mag_i\n",
      "Checking feature: mag_r\n",
      "Checking feature: stokes_u_i\n",
      "Checking feature: deVAB_z\n",
      "Checking feature: petro_R90_R50_ratio_i\n",
      "Checking feature: mag_u\n",
      "Checking feature: psfMag_g_u_colour_index\n",
      "Checking feature: stokes_u_g\n",
      "Checking feature: expAB_i\n",
      "Checking feature: petro_R90_R50_ratio_r\n",
      "Checking feature: expMag_u\n",
      "Checking feature: stokes_q_i\n",
      "Checking feature: petroR90_z\n",
      "Checking feature: extinction_g\n",
      "Checking feature: petroMag_g\n",
      "Checking feature: mag_g\n",
      "Checking feature: expMag_g\n",
      "Checking feature: deVRad_z\n",
      "Checking feature: expRad_g\n",
      "Checking feature: deVAB_u\n",
      "Checking feature: expMag_z\n",
      "Checking feature: petro_R90_R50_ratio_g\n",
      "Checking feature: psfMag_g\n",
      "Checking feature: extinction_i\n",
      "Checking feature: deVRad_g\n",
      "Checking feature: dered_r\n",
      "Checking feature: expMag_r\n",
      "Checking feature: petroR50_u\n",
      "Checking feature: petroR90_g\n",
      "Checking feature: petroRad_z\n",
      "Checking feature: psfMag_r_g_colour_index\n",
      "Checking feature: petroRad_i\n",
      "Checking feature: petroRad_g\n",
      "Checking feature: petro_z_i_colour_index\n",
      "Checking feature: expMag_i\n",
      "Checking feature: petro_g_u_colour_index\n",
      "Checking feature: petroR50_r\n",
      "Checking feature: expRad_z\n",
      "Checking feature: stokes_u_z\n",
      "Checking feature: petroMag_z\n",
      "Checking feature: petroMag_i\n",
      "Checking feature: psfMag_i\n",
      "Checking feature: petroMag_u\n",
      "Checking feature: fiberMag_g\n"
     ]
    },
    {
     "name": "stderr",
     "output_type": "stream",
     "text": [
      "[Parallel(n_jobs=4)]: Done  90 out of  90 | elapsed: 44.5min finished\n",
      "[Parallel(n_jobs=4)]: Using backend ThreadingBackend with 4 concurrent workers.\n"
     ]
    },
    {
     "name": "stdout",
     "output_type": "stream",
     "text": [
      "Found model_z_i_colour_index as extra feature\n",
      "Starting a round 6 to find best feature. Current extra features = ['model_r_g_colour_index', 'model_g_u_colour_index', 'fiberMag_z', 'model_i_r_colour_index', 'expAB_z', 'model_z_i_colour_index']\n",
      "Base z_err: 0.011812\n",
      "Checking 88 features... this might take awhile\n",
      "Checking feature: psfMag_rChecking feature: petroR90_u\n",
      "\n",
      "Checking feature: petroR50_z\n",
      "Checking feature: psfMag_z\n",
      "psfMag_r has best z_err score 0.011744\n",
      "Checking feature: petroR90_r\n",
      "Checking feature: mag_z\n",
      "petroR50_z has best z_err score 0.011487\n",
      "Checking feature: fiberMag_r\n",
      "Checking feature: expRad_u\n",
      "Checking feature: extinction_u\n",
      "Checking feature: dered_z\n",
      "Checking feature: deVAB_g\n",
      "expRad_u has best z_err score 0.011436\n",
      "Checking feature: psfMag_i_r_colour_index\n",
      "Checking feature: deVRad_u\n",
      "Checking feature: stokes_q_r\n",
      "Checking feature: petroRad_u\n",
      "Checking feature: dered_g\n",
      "Checking feature: petro_i_r_colour_index\n",
      "Checking feature: deVRad_r\n",
      "Checking feature: dered_i\n",
      "Checking feature: petro_R90_R50_ratio_z\n",
      "Checking feature: petroR90_i\n",
      "Checking feature: petroR50_i\n",
      "Checking feature: petroMag_r\n",
      "Checking feature: psfMag_z_i_colour_index\n",
      "Checking feature: fiberMag_u\n",
      "Checking feature: psfMag_u\n",
      "Checking feature: expRad_i\n",
      "Checking feature: extinction_r\n",
      "Checking feature: stokes_q_g\n",
      "Checking feature: petro_R90_R50_ratio_u\n",
      "expRad_i has best z_err score 0.011398\n",
      "Checking feature: expAB_u\n",
      "Checking feature: expAB_r\n",
      "Checking feature: petroR50_g\n",
      "Checking feature: expAB_g\n",
      "Checking feature: stokes_u_r\n",
      "Checking feature: petroRad_r\n",
      "Checking feature: fiberMag_i\n",
      "Checking feature: deVRad_i\n",
      "Checking feature: stokes_u_u\n",
      "Checking feature: deVAB_i\n",
      "Checking feature: dered_u\n",
      "Checking feature: extinction_z\n",
      "Checking feature: expRad_r\n",
      "Checking feature: deVAB_r\n",
      "Checking feature: mag_i\n"
     ]
    },
    {
     "name": "stderr",
     "output_type": "stream",
     "text": [
      "[Parallel(n_jobs=4)]: Done  42 tasks      | elapsed: 21.7min\n"
     ]
    },
    {
     "name": "stdout",
     "output_type": "stream",
     "text": [
      "Checking feature: mag_r\n",
      "Checking feature: stokes_u_i\n",
      "Checking feature: deVAB_z\n",
      "Checking feature: petro_R90_R50_ratio_i\n",
      "Checking feature: mag_u\n",
      "Checking feature: psfMag_g_u_colour_index\n",
      "Checking feature: stokes_u_g\n",
      "Checking feature: expAB_i\n",
      "Checking feature: petro_R90_R50_ratio_r\n",
      "Checking feature: expMag_u\n",
      "Checking feature: stokes_q_i\n",
      "Checking feature: petroR90_z\n",
      "Checking feature: extinction_g\n",
      "Checking feature: petroMag_g\n",
      "Checking feature: mag_g\n",
      "Checking feature: expMag_g\n",
      "Checking feature: deVRad_z\n",
      "Checking feature: expRad_g\n",
      "Checking feature: deVAB_u\n",
      "Checking feature: expMag_z\n",
      "Checking feature: petro_R90_R50_ratio_g\n",
      "expRad_g has best z_err score 0.011392\n",
      "Checking feature: psfMag_g\n",
      "Checking feature: extinction_i\n",
      "Checking feature: deVRad_g\n",
      "Checking feature: dered_r\n",
      "Checking feature: expMag_r\n",
      "Checking feature: petroR50_u\n",
      "Checking feature: petroR90_g\n",
      "Checking feature: petroRad_z\n",
      "Checking feature: psfMag_r_g_colour_index\n",
      "Checking feature: petroRad_i\n",
      "Checking feature: petroRad_g\n",
      "Checking feature: petro_z_i_colour_index\n",
      "Checking feature: expMag_i\n",
      "Checking feature: petro_g_u_colour_index\n",
      "Checking feature: petroR50_r\n",
      "Checking feature: expRad_z\n",
      "Checking feature: stokes_u_z\n",
      "Checking feature: petroMag_z\n",
      "Checking feature: petroMag_i\n",
      "Checking feature: psfMag_i\n",
      "Checking feature: petroMag_u\n",
      "Checking feature: fiberMag_g\n"
     ]
    },
    {
     "name": "stderr",
     "output_type": "stream",
     "text": [
      "[Parallel(n_jobs=4)]: Done  88 out of  88 | elapsed: 47.4min finished\n",
      "[Parallel(n_jobs=4)]: Using backend ThreadingBackend with 4 concurrent workers.\n"
     ]
    },
    {
     "name": "stdout",
     "output_type": "stream",
     "text": [
      "Found expRad_g as extra feature\n",
      "Starting a round 7 to find best feature. Current extra features = ['model_r_g_colour_index', 'model_g_u_colour_index', 'fiberMag_z', 'model_i_r_colour_index', 'expAB_z', 'model_z_i_colour_index', 'expRad_g']\n",
      "Base z_err: 0.011392\n",
      "Checking 87 features... this might take awhile\n",
      "Checking feature: psfMag_rChecking feature: petroR90_uChecking feature: petroR50_z\n",
      "\n",
      "\n",
      "Checking feature: psfMag_z\n",
      "WARNING - psfMag_z reduces model accuracy!!!\n",
      "Checking feature: petroR90_r\n",
      "WARNING - psfMag_r reduces model accuracy!!!\n",
      "Checking feature: mag_z\n",
      "petroR90_u has best z_err score 0.011364\n",
      "Checking feature: fiberMag_r\n",
      "petroR50_z has best z_err score 0.011239\n",
      "Checking feature: expRad_u\n",
      "Checking feature: extinction_u\n",
      "Checking feature: dered_z\n",
      "Checking feature: deVAB_g\n",
      "Checking feature: psfMag_i_r_colour_index\n",
      "WARNING - extinction_u reduces model accuracy!!!\n",
      "Checking feature: deVRad_u\n",
      "Checking feature: stokes_q_r\n",
      "WARNING - deVAB_g reduces model accuracy!!!\n",
      "Checking feature: petroRad_u\n",
      "WARNING - psfMag_i_r_colour_index reduces model accuracy!!!\n",
      "Checking feature: dered_g\n",
      "Checking feature: petro_i_r_colour_index\n",
      "WARNING - stokes_q_r reduces model accuracy!!!\n",
      "Checking feature: deVRad_r\n",
      "WARNING - petroRad_u reduces model accuracy!!!\n",
      "Checking feature: dered_i\n",
      "dered_g has best z_err score 0.011233\n",
      "Checking feature: petro_R90_R50_ratio_z\n",
      "Checking feature: petroR90_i\n",
      "Checking feature: petroR50_i\n",
      "Checking feature: petroMag_r\n",
      "Checking feature: psfMag_z_i_colour_index\n",
      "Checking feature: fiberMag_u\n",
      "petroR50_i has best z_err score 0.011121\n",
      "Checking feature: psfMag_u\n",
      "Checking feature: expRad_i\n",
      "WARNING - psfMag_z_i_colour_index reduces model accuracy!!!\n",
      "Checking feature: extinction_r\n",
      "Checking feature: stokes_q_g\n",
      "Checking feature: petro_R90_R50_ratio_u\n",
      "expRad_i has best z_err score 0.011041\n",
      "Checking feature: expAB_u\n",
      "WARNING - extinction_r reduces model accuracy!!!\n",
      "Checking feature: expAB_r\n",
      "WARNING - stokes_q_g reduces model accuracy!!!\n",
      "Checking feature: petroR50_g\n",
      "Checking feature: expAB_g\n",
      "WARNING - expAB_u reduces model accuracy!!!\n",
      "Checking feature: stokes_u_r\n",
      "WARNING - expAB_r reduces model accuracy!!!\n",
      "Checking feature: petroRad_r\n",
      "WARNING - expAB_g reduces model accuracy!!!WARNING - petroR50_g reduces model accuracy!!!\n",
      "Checking feature: fiberMag_i\n",
      "\n",
      "Checking feature: deVRad_i\n",
      "WARNING - stokes_u_r reduces model accuracy!!!\n",
      "Checking feature: stokes_u_u\n",
      "Checking feature: deVAB_i\n",
      "WARNING - fiberMag_i reduces model accuracy!!!\n",
      "Checking feature: dered_u\n",
      "Checking feature: extinction_z\n",
      "WARNING - stokes_u_u reduces model accuracy!!!\n",
      "Checking feature: expRad_r\n",
      "WARNING - deVAB_i reduces model accuracy!!!\n",
      "Checking feature: deVAB_r\n",
      "Checking feature: mag_i\n",
      "WARNING - extinction_z reduces model accuracy!!!\n",
      "Checking feature: mag_r\n"
     ]
    },
    {
     "name": "stderr",
     "output_type": "stream",
     "text": [
      "[Parallel(n_jobs=4)]: Done  42 tasks      | elapsed: 26.1min\n"
     ]
    },
    {
     "name": "stdout",
     "output_type": "stream",
     "text": [
      "Checking feature: stokes_u_i\n",
      "WARNING - deVAB_r reduces model accuracy!!!\n",
      "Checking feature: deVAB_z\n",
      "Checking feature: petro_R90_R50_ratio_i\n",
      "Checking feature: mag_u\n",
      "WARNING - stokes_u_i reduces model accuracy!!!\n",
      "Checking feature: psfMag_g_u_colour_index\n",
      "WARNING - deVAB_z reduces model accuracy!!!\n",
      "Checking feature: stokes_u_g\n",
      "Checking feature: expAB_i\n",
      "Checking feature: petro_R90_R50_ratio_r\n",
      "Checking feature: expMag_u\n",
      "WARNING - stokes_u_g reduces model accuracy!!!\n",
      "Checking feature: stokes_q_i\n",
      "WARNING - expAB_i reduces model accuracy!!!\n",
      "Checking feature: petroR90_z\n",
      "Checking feature: extinction_g\n",
      "WARNING - expMag_u reduces model accuracy!!!\n",
      "Checking feature: petroMag_g\n",
      "WARNING - stokes_q_i reduces model accuracy!!!\n",
      "Checking feature: mag_g\n",
      "Checking feature: expMag_g\n",
      "WARNING - extinction_g reduces model accuracy!!!\n",
      "Checking feature: deVRad_z\n",
      "Checking feature: deVAB_u\n",
      "Checking feature: expMag_z\n",
      "Checking feature: petro_R90_R50_ratio_g\n",
      "Checking feature: psfMag_g\n",
      "WARNING - deVAB_u reduces model accuracy!!!\n",
      "Checking feature: extinction_i\n",
      "Checking feature: deVRad_g\n",
      "Checking feature: dered_r\n",
      "WARNING - psfMag_g reduces model accuracy!!!\n",
      "Checking feature: expMag_r\n",
      "WARNING - extinction_i reduces model accuracy!!!\n",
      "Checking feature: petroR50_u\n",
      "WARNING - deVRad_g reduces model accuracy!!!\n",
      "Checking feature: petroR90_g\n",
      "Checking feature: petroRad_z\n",
      "Checking feature: psfMag_r_g_colour_index\n",
      "Checking feature: petroRad_i\n",
      "Checking feature: petroRad_g\n",
      "Checking feature: petro_z_i_colour_index\n",
      "Checking feature: expMag_i\n",
      "Checking feature: petro_g_u_colour_index\n",
      "WARNING - petroRad_g reduces model accuracy!!!\n",
      "Checking feature: petroR50_r\n",
      "WARNING - petro_z_i_colour_index reduces model accuracy!!!\n",
      "Checking feature: expRad_z\n",
      "Checking feature: stokes_u_z\n",
      "WARNING - petro_g_u_colour_index reduces model accuracy!!!\n",
      "Checking feature: petroMag_z\n",
      "Checking feature: petroMag_i\n",
      "Checking feature: psfMag_i\n",
      "WARNING - stokes_u_z reduces model accuracy!!!\n",
      "Checking feature: petroMag_u\n",
      "Checking feature: fiberMag_g\n",
      "WARNING - psfMag_i reduces model accuracy!!!\n",
      "WARNING - petroMag_u reduces model accuracy!!!\n"
     ]
    },
    {
     "name": "stderr",
     "output_type": "stream",
     "text": [
      "[Parallel(n_jobs=4)]: Done  87 out of  87 | elapsed: 49.2min finished\n",
      "[Parallel(n_jobs=4)]: Using backend ThreadingBackend with 4 concurrent workers.\n"
     ]
    },
    {
     "name": "stdout",
     "output_type": "stream",
     "text": [
      "Found expRad_i as extra feature\n",
      "Starting a round 8 to find best feature. Current extra features = ['model_r_g_colour_index', 'model_g_u_colour_index', 'fiberMag_z', 'model_i_r_colour_index', 'expAB_z', 'model_z_i_colour_index', 'expRad_g', 'expRad_i']\n",
      "Base z_err: 0.011041\n",
      "Checking 49 features... this might take awhile\n",
      "Checking feature: petroR90_uChecking feature: petroR50_zChecking feature: petro_R90_R50_ratio_i\n",
      "\n",
      "Checking feature: mag_u\n",
      "\n",
      "petro_R90_R50_ratio_i has best z_err score 0.010809\n",
      "Checking feature: petroR90_r\n",
      "Checking feature: psfMag_g_u_colour_index\n",
      "Checking feature: mag_z\n",
      "Checking feature: petro_R90_R50_ratio_r\n",
      "Checking feature: fiberMag_r\n",
      "petroR90_r has best z_err score 0.010800\n",
      "Checking feature: petroR90_z\n",
      "Checking feature: expRad_u\n",
      "petro_R90_R50_ratio_r has best z_err score 0.010796\n",
      "Checking feature: petroMag_g\n",
      "Checking feature: mag_g\n",
      "Checking feature: expMag_g\n",
      "Checking feature: dered_z\n",
      "Checking feature: deVRad_u\n",
      "Checking feature: deVRad_z\n",
      "Checking feature: petro_i_r_colour_index\n",
      "Checking feature: dered_g\n",
      "Checking feature: deVRad_r\n",
      "Checking feature: expMag_z\n",
      "Checking feature: petro_R90_R50_ratio_g\n",
      "Checking feature: dered_i\n",
      "Checking feature: petro_R90_R50_ratio_z\n",
      "Checking feature: petroMag_r\n",
      "petro_R90_R50_ratio_g has best z_err score 0.010750\n",
      "Checking feature: petroR90_i\n",
      "Checking feature: petroR50_i\n",
      "Checking feature: fiberMag_u\n",
      "Checking feature: dered_r\n",
      "Checking feature: expMag_r\n",
      "Checking feature: psfMag_u\n",
      "Checking feature: petroR50_u\n",
      "Checking feature: petroR90_g\n",
      "Checking feature: petro_R90_R50_ratio_u\n",
      "Checking feature: petroRad_z\n",
      "Checking feature: psfMag_r_g_colour_index\n",
      "Checking feature: petroRad_r\n",
      "Checking feature: petroRad_i\n",
      "Checking feature: expMag_i\n",
      "Checking feature: deVRad_i\n",
      "Checking feature: petroR50_r\n",
      "Checking feature: expRad_z\n",
      "Checking feature: dered_u\n",
      "Checking feature: expRad_r\n",
      "Checking feature: mag_r\n",
      "Checking feature: mag_i\n"
     ]
    },
    {
     "name": "stderr",
     "output_type": "stream",
     "text": [
      "[Parallel(n_jobs=4)]: Done  42 tasks      | elapsed: 26.0min\n"
     ]
    },
    {
     "name": "stdout",
     "output_type": "stream",
     "text": [
      "Checking feature: petroMag_z\n",
      "Checking feature: petroMag_i\n",
      "Checking feature: fiberMag_g\n"
     ]
    },
    {
     "name": "stderr",
     "output_type": "stream",
     "text": [
      "[Parallel(n_jobs=4)]: Done  49 out of  49 | elapsed: 29.5min finished\n",
      "[Parallel(n_jobs=4)]: Using backend ThreadingBackend with 4 concurrent workers.\n"
     ]
    },
    {
     "name": "stdout",
     "output_type": "stream",
     "text": [
      "Found petro_R90_R50_ratio_g as extra feature\n",
      "Starting a round 9 to find best feature. Current extra features = ['model_r_g_colour_index', 'model_g_u_colour_index', 'fiberMag_z', 'model_i_r_colour_index', 'expAB_z', 'model_z_i_colour_index', 'expRad_g', 'expRad_i', 'petro_R90_R50_ratio_g']\n",
      "Base z_err: 0.010750\n",
      "Checking 48 features... this might take awhile\n",
      "Checking feature: petroR90_u\n",
      "Checking feature: petroR50_zChecking feature: petro_R90_R50_ratio_i\n",
      "Checking feature: mag_u\n",
      "\n",
      "petro_R90_R50_ratio_i has best z_err score 0.010749\n",
      "Checking feature: petroR90_r\n",
      "petroR50_z has best z_err score 0.010714\n",
      "Checking feature: psfMag_g_u_colour_index\n",
      "petroR90_u has best z_err score 0.010704\n",
      "Checking feature: mag_z\n",
      "Checking feature: petro_R90_R50_ratio_r\n",
      "Checking feature: fiberMag_r\n",
      "petroR90_r has best z_err score 0.010695\n",
      "Checking feature: petroR90_z\n",
      "Checking feature: expRad_u\n",
      "Checking feature: petroMag_g\n",
      "Checking feature: mag_g\n",
      "Checking feature: expMag_g\n",
      "Checking feature: dered_z\n",
      "Checking feature: deVRad_u\n",
      "Checking feature: deVRad_z\n",
      "WARNING - expMag_g reduces model accuracy!!!\n",
      "Checking feature: petro_i_r_colour_index\n",
      "Checking feature: dered_g\n",
      "Checking feature: deVRad_r\n",
      "Checking feature: expMag_z\n",
      "Checking feature: dered_i\n",
      "Checking feature: petro_R90_R50_ratio_z\n",
      "Checking feature: petroMag_r\n",
      "Checking feature: petroR90_i\n",
      "Checking feature: petroR50_i\n",
      "Checking feature: fiberMag_u\n",
      "Checking feature: dered_r\n",
      "Checking feature: expMag_r\n",
      "petroR50_i has best z_err score 0.010690\n",
      "Checking feature: psfMag_u\n",
      "Checking feature: petroR50_u\n",
      "Checking feature: petroR90_g\n",
      "Checking feature: petro_R90_R50_ratio_u\n",
      "Checking feature: petroRad_z\n",
      "petroR50_u has best z_err score 0.010689\n",
      "Checking feature: psfMag_r_g_colour_index\n",
      "Checking feature: petroRad_r\n",
      "Checking feature: petroRad_i\n",
      "Checking feature: expMag_i\n",
      "Checking feature: deVRad_i\n",
      "Checking feature: petroR50_r\n",
      "Checking feature: expRad_z\n",
      "Checking feature: dered_u\n",
      "Checking feature: expRad_r\n",
      "Checking feature: mag_r\n",
      "Checking feature: mag_i\n",
      "Checking feature: petroMag_z\n",
      "Checking feature: petroMag_i\n",
      "Checking feature: fiberMag_g\n",
      "fiberMag_g has best z_err score 0.010688\n",
      "Found fiberMag_g as extra feature\n",
      "Starting a round 10 to find best feature. Current extra features = ['model_r_g_colour_index', 'model_g_u_colour_index', 'fiberMag_z', 'model_i_r_colour_index', 'expAB_z', 'model_z_i_colour_index', 'expRad_g', 'expRad_i', 'petro_R90_R50_ratio_g', 'fiberMag_g']\n",
      "Base z_err: 0.010688\n",
      "Checking 46 features... this might take awhile\n",
      "Checking feature: petroR90_uChecking feature: petroR50_z\n",
      "Checking feature: petro_R90_R50_ratio_i\n"
     ]
    },
    {
     "name": "stderr",
     "output_type": "stream",
     "text": [
      "[Parallel(n_jobs=4)]: Done  48 out of  48 | elapsed: 32.4min finished\n",
      "[Parallel(n_jobs=4)]: Using backend ThreadingBackend with 4 concurrent workers.\n"
     ]
    },
    {
     "name": "stdout",
     "output_type": "stream",
     "text": [
      "Checking feature: mag_u\n",
      "\n",
      "petroR50_z has best z_err score 0.010682\n",
      "Checking feature: petroR90_r\n",
      "Checking feature: psfMag_g_u_colour_index\n",
      "WARNING - mag_u reduces model accuracy!!!\n",
      "Checking feature: mag_z\n",
      "petroR90_u has best z_err score 0.010676\n",
      "Checking feature: petro_R90_R50_ratio_r\n",
      "Checking feature: fiberMag_r\n",
      "petroR90_r has best z_err score 0.010667\n",
      "Checking feature: petroR90_z\n",
      "mag_z has best z_err score 0.010666\n",
      "Checking feature: expRad_u\n",
      "Checking feature: petroMag_g\n",
      "fiberMag_r has best z_err score 0.010652\n",
      "Checking feature: mag_g\n",
      "WARNING - petroR90_z reduces model accuracy!!!\n",
      "Checking feature: dered_z\n",
      "expRad_u has best z_err score 0.010650\n",
      "Checking feature: deVRad_u\n",
      "WARNING - petroMag_g reduces model accuracy!!!\n",
      "Checking feature: deVRad_z\n",
      "WARNING - mag_g reduces model accuracy!!!\n",
      "Checking feature: petro_i_r_colour_index\n",
      "WARNING - dered_z reduces model accuracy!!!\n",
      "Checking feature: dered_g\n",
      "Checking feature: deVRad_r\n",
      "Checking feature: expMag_z\n",
      "Checking feature: dered_i\n",
      "WARNING - dered_g reduces model accuracy!!!\n",
      "Checking feature: petro_R90_R50_ratio_z\n",
      "Checking feature: petroMag_r\n",
      "WARNING - expMag_z reduces model accuracy!!!\n",
      "Checking feature: petroR90_i\n",
      "Checking feature: petroR50_i\n",
      "Checking feature: fiberMag_u\n",
      "WARNING - petroMag_r reduces model accuracy!!!\n",
      "Checking feature: dered_r\n",
      "petroR90_i has best z_err score 0.010643\n",
      "Checking feature: expMag_r\n",
      "fiberMag_u has best z_err score 0.010639\n",
      "Checking feature: psfMag_u\n",
      "Checking feature: petroR50_u\n",
      "WARNING - dered_r reduces model accuracy!!!\n",
      "Checking feature: petroR90_g\n",
      "WARNING - expMag_r reduces model accuracy!!!\n",
      "Checking feature: petro_R90_R50_ratio_u\n",
      "Checking feature: petroRad_z\n",
      "WARNING - psfMag_u reduces model accuracy!!!\n",
      "Checking feature: psfMag_r_g_colour_index\n",
      "Checking feature: petroRad_r\n",
      "Checking feature: petroRad_i\n",
      "Checking feature: expMag_i\n",
      "WARNING - psfMag_r_g_colour_index reduces model accuracy!!!\n",
      "Checking feature: deVRad_i\n",
      "Checking feature: petroR50_r\n",
      "Checking feature: expRad_z\n",
      "WARNING - expMag_i reduces model accuracy!!!\n",
      "Checking feature: dered_u\n",
      "WARNING - deVRad_i reduces model accuracy!!!\n",
      "Checking feature: expRad_r\n",
      "Checking feature: mag_r\n",
      "Checking feature: mag_i\n",
      "Checking feature: petroMag_z\n",
      "Checking feature: petroMag_i\n",
      "WARNING - mag_r reduces model accuracy!!!\n",
      "WARNING - petroMag_i reduces model accuracy!!!\n",
      "Found fiberMag_u as extra feature\n",
      "Starting a round 11 to find best feature. Current extra features = ['model_r_g_colour_index', 'model_g_u_colour_index', 'fiberMag_z', 'model_i_r_colour_index', 'expAB_z', 'model_z_i_colour_index', 'expRad_g', 'expRad_i', 'petro_R90_R50_ratio_g', 'fiberMag_g', 'fiberMag_u']\n",
      "Base z_err: 0.010639\n",
      "Checking 29 features... this might take awhile\n",
      "Checking feature: petroR90_uChecking feature: petroR50_zChecking feature: petro_R90_R50_ratio_i\n",
      "\n",
      "Checking feature: petroR90_r\n",
      "\n"
     ]
    },
    {
     "name": "stderr",
     "output_type": "stream",
     "text": [
      "[Parallel(n_jobs=4)]: Done  46 out of  46 | elapsed: 32.5min finished\n",
      "[Parallel(n_jobs=4)]: Using backend ThreadingBackend with 4 concurrent workers.\n"
     ]
    },
    {
     "name": "stdout",
     "output_type": "stream",
     "text": [
      "petro_R90_R50_ratio_i has best z_err score 0.010635\n",
      "Checking feature: psfMag_g_u_colour_index\n",
      "petroR90_u has best z_err score 0.010614\n",
      "Checking feature: mag_z\n",
      "Checking feature: petro_R90_R50_ratio_r\n",
      "petroR90_r has best z_err score 0.010604\n",
      "Checking feature: fiberMag_r\n",
      "Checking feature: expRad_u\n",
      "Checking feature: deVRad_u\n",
      "Checking feature: deVRad_z\n",
      "fiberMag_r has best z_err score 0.010599\n",
      "Checking feature: petro_i_r_colour_index\n",
      "Checking feature: deVRad_r\n",
      "Checking feature: dered_i\n",
      "Checking feature: petro_R90_R50_ratio_z\n",
      "Checking feature: petroR90_i\n",
      "Checking feature: petroR50_i\n",
      "Checking feature: petroR50_u\n",
      "WARNING - petro_R90_R50_ratio_z reduces model accuracy!!!\n",
      "Checking feature: petroR90_g\n",
      "Checking feature: petro_R90_R50_ratio_u\n",
      "petroR50_i has best z_err score 0.010598\n",
      "Checking feature: petroRad_z\n",
      "Checking feature: petroRad_r\n",
      "Checking feature: petroRad_i\n",
      "Checking feature: petroR50_r\n",
      "Checking feature: expRad_z\n",
      "Checking feature: dered_u\n",
      "Checking feature: expRad_r\n",
      "Checking feature: petroMag_z\n",
      "Checking feature: mag_i\n"
     ]
    },
    {
     "name": "stderr",
     "output_type": "stream",
     "text": [
      "[Parallel(n_jobs=4)]: Done  29 out of  29 | elapsed: 22.4min finished\n",
      "[Parallel(n_jobs=4)]: Using backend ThreadingBackend with 4 concurrent workers.\n"
     ]
    },
    {
     "name": "stdout",
     "output_type": "stream",
     "text": [
      "Found petroR50_i as extra feature\n",
      "Starting a round 12 to find best feature. Current extra features = ['model_r_g_colour_index', 'model_g_u_colour_index', 'fiberMag_z', 'model_i_r_colour_index', 'expAB_z', 'model_z_i_colour_index', 'expRad_g', 'expRad_i', 'petro_R90_R50_ratio_g', 'fiberMag_g', 'fiberMag_u', 'petroR50_i']\n",
      "Base z_err: 0.010598\n",
      "Checking 27 features... this might take awhile\n",
      "Checking feature: petroR90_uChecking feature: petroR50_z\n",
      "Checking feature: petro_R90_R50_ratio_i\n",
      "Checking feature: petroR90_r\n",
      "\n",
      "petroR90_u has best z_err score 0.010596\n",
      "Checking feature: psfMag_g_u_colour_index\n",
      "WARNING - petroR90_r reduces model accuracy!!!\n",
      "Checking feature: mag_z\n",
      "petroR50_z has best z_err score 0.010594\n",
      "Checking feature: petro_R90_R50_ratio_r\n",
      "WARNING - petro_R90_R50_ratio_i reduces model accuracy!!!\n",
      "Checking feature: fiberMag_r\n",
      "WARNING - mag_z reduces model accuracy!!!\n",
      "Checking feature: expRad_u\n",
      "Checking feature: deVRad_u\n",
      "petro_R90_R50_ratio_r has best z_err score 0.010588\n",
      "Checking feature: deVRad_z\n",
      "fiberMag_r has best z_err score 0.010568\n",
      "Checking feature: petro_i_r_colour_index\n",
      "Checking feature: deVRad_r\n",
      "Checking feature: dered_i\n",
      "Checking feature: petroR90_i\n",
      "Checking feature: petroR50_u\n",
      "Checking feature: petroR90_g\n",
      "Checking feature: petro_R90_R50_ratio_u\n",
      "Checking feature: petroRad_z\n",
      "WARNING - petroR50_u reduces model accuracy!!!\n",
      "Checking feature: petroRad_r\n",
      "WARNING - petroR90_g reduces model accuracy!!!\n",
      "Checking feature: petroRad_i\n",
      "Checking feature: petroR50_r\n",
      "WARNING - petroRad_z reduces model accuracy!!!\n",
      "Checking feature: expRad_z\n",
      "WARNING - petroRad_r reduces model accuracy!!!\n",
      "Checking feature: dered_u\n",
      "WARNING - petroRad_i reduces model accuracy!!!\n",
      "Checking feature: expRad_r\n",
      "WARNING - petroR50_r reduces model accuracy!!!\n",
      "Checking feature: petroMag_z\n",
      "Checking feature: mag_i\n",
      "WARNING - dered_u reduces model accuracy!!!\n"
     ]
    },
    {
     "name": "stderr",
     "output_type": "stream",
     "text": [
      "[Parallel(n_jobs=4)]: Done  27 out of  27 | elapsed: 19.0min finished\n",
      "[Parallel(n_jobs=4)]: Using backend ThreadingBackend with 4 concurrent workers.\n"
     ]
    },
    {
     "name": "stdout",
     "output_type": "stream",
     "text": [
      "Found fiberMag_r as extra feature\n",
      "Starting a round 13 to find best feature. Current extra features = ['model_r_g_colour_index', 'model_g_u_colour_index', 'fiberMag_z', 'model_i_r_colour_index', 'expAB_z', 'model_z_i_colour_index', 'expRad_g', 'expRad_i', 'petro_R90_R50_ratio_g', 'fiberMag_g', 'fiberMag_u', 'petroR50_i', 'fiberMag_r']\n",
      "Base z_err: 0.010568\n",
      "Checking 16 features... this might take awhile\n",
      "Checking feature: petroR90_uChecking feature: petroR50_z\n",
      "Checking feature: deVRad_u\n",
      "Checking feature: deVRad_z\n",
      "\n",
      "deVRad_u has best z_err score 0.010543\n",
      "Checking feature: expRad_z\n",
      "Checking feature: petro_i_r_colour_index\n",
      "Checking feature: psfMag_g_u_colour_index\n",
      "Checking feature: deVRad_r\n",
      "WARNING - petro_i_r_colour_index reduces model accuracy!!!\n",
      "Checking feature: expRad_r\n",
      "Checking feature: petroMag_z\n",
      "Checking feature: petro_R90_R50_ratio_u\n",
      "Checking feature: mag_i\n",
      "Checking feature: petro_R90_R50_ratio_r\n",
      "WARNING - petroMag_z reduces model accuracy!!!\n",
      "Checking feature: dered_i\n",
      "Checking feature: expRad_u\n",
      "WARNING - mag_i reduces model accuracy!!!\n",
      "Checking feature: petroR90_i\n",
      "WARNING - dered_i reduces model accuracy!!!\n",
      "expRad_u has best z_err score 0.010534\n",
      "WARNING - petroR90_i reduces model accuracy!!!\n",
      "Found expRad_u as extra feature\n",
      "Starting a round 14 to find best feature. Current extra features = ['model_r_g_colour_index', 'model_g_u_colour_index', 'fiberMag_z', 'model_i_r_colour_index', 'expAB_z', 'model_z_i_colour_index', 'expRad_g', 'expRad_i', 'petro_R90_R50_ratio_g', 'fiberMag_g', 'fiberMag_u', 'petroR50_i', 'fiberMag_r', 'expRad_u']\n",
      "Base z_err: 0.010534\n",
      "Checking 10 features... this might take awhile\n",
      "Checking feature: petroR90_u\n",
      "Checking feature: petroR50_z"
     ]
    },
    {
     "name": "stderr",
     "output_type": "stream",
     "text": [
      "[Parallel(n_jobs=4)]: Done  16 out of  16 | elapsed: 11.8min finished\n",
      "[Parallel(n_jobs=4)]: Using backend ThreadingBackend with 4 concurrent workers.\n"
     ]
    },
    {
     "name": "stdout",
     "output_type": "stream",
     "text": [
      "Checking feature: deVRad_u\n",
      "Checking feature: deVRad_z\n",
      "\n",
      "deVRad_z has best z_err score 0.010518\n",
      "Checking feature: expRad_z\n",
      "Checking feature: psfMag_g_u_colour_index\n",
      "Checking feature: deVRad_r\n",
      "WARNING - deVRad_u reduces model accuracy!!!\n",
      "Checking feature: expRad_r\n",
      "Checking feature: petro_R90_R50_ratio_u\n",
      "Checking feature: petro_R90_R50_ratio_r\n",
      "expRad_z has best z_err score 0.010510\n",
      "WARNING - psfMag_g_u_colour_index reduces model accuracy!!!\n"
     ]
    },
    {
     "name": "stderr",
     "output_type": "stream",
     "text": [
      "[Parallel(n_jobs=4)]: Done  10 out of  10 | elapsed:  7.9min finished\n"
     ]
    },
    {
     "name": "stdout",
     "output_type": "stream",
     "text": [
      "Found expRad_z as extra feature\n",
      "Final extra features = ['model_r_g_colour_index', 'model_g_u_colour_index', 'fiberMag_z', 'model_i_r_colour_index', 'expAB_z', 'model_z_i_colour_index', 'expRad_g', 'expRad_i', 'petro_R90_R50_ratio_g', 'fiberMag_g', 'fiberMag_u', 'petroR50_i', 'fiberMag_r', 'expRad_u', 'expRad_z']\n"
     ]
    }
   ],
   "source": [
    "base_features = set([\n",
    "#     'psfMag_r',\n",
    "#     'psfMag_g_u_colour_index',\n",
    "#     'psfMag_r_g_colour_index',\n",
    "#     'psfMag_i_r_colour_index',\n",
    "#     'psfMag_z_i_colour_index',\n",
    "#     'dered_r',\n",
    "#     'model_g_u_colour_index',\n",
    "#     'model_r_g_colour_index',\n",
    "#     'model_i_r_colour_index',\n",
    "#     'model_z_i_colour_index',\n",
    "])\n",
    "base_z_err = 1.0 #get_feature_score(list(base_features))\n",
    "\n",
    "extra_base_features = []\n",
    "all_bad_features = set([])\n",
    "\n",
    "for idx in range(15):\n",
    "    base_features.update(extra_base_features)\n",
    "    print(f'Starting a round {idx} to find best feature. Current extra features = {extra_base_features}')\n",
    "    feature_results, best_z_err, best_feature = determine_best_features(base_features, base_z_err, all_bad_features)\n",
    "    \n",
    "    if (best_feature == NO_BEST_FEATURE):\n",
    "        print('No new feature found. Exiting')\n",
    "        break\n",
    "    \n",
    "    print(f'Found {best_feature} as extra feature')\n",
    "    extra_base_features.append(best_feature)\n",
    "    base_z_err = best_z_err\n",
    "\n",
    "base_features.update(extra_base_features)\n",
    "print(f'Final extra features = {extra_base_features}')"
   ]
  },
  {
   "cell_type": "code",
   "execution_count": 31,
   "metadata": {},
   "outputs": [
    {
     "data": {
      "text/plain": [
       "{'expAB_z',\n",
       " 'expRad_g',\n",
       " 'expRad_i',\n",
       " 'expRad_u',\n",
       " 'expRad_z',\n",
       " 'fiberMag_g',\n",
       " 'fiberMag_r',\n",
       " 'fiberMag_u',\n",
       " 'fiberMag_z',\n",
       " 'model_g_u_colour_index',\n",
       " 'model_i_r_colour_index',\n",
       " 'model_r_g_colour_index',\n",
       " 'model_z_i_colour_index',\n",
       " 'petroR50_i',\n",
       " 'petro_R90_R50_ratio_g'}"
      ]
     },
     "execution_count": 31,
     "metadata": {},
     "output_type": "execute_result"
    }
   ],
   "source": [
    "base_features"
   ]
  },
  {
   "cell_type": "code",
   "execution_count": 238,
   "metadata": {},
   "outputs": [
    {
     "name": "stderr",
     "output_type": "stream",
     "text": [
      "[autoreload of sdss_gz_data failed: Traceback (most recent call last):\n",
      "  File \"/Users/will/Development/Astronomy/proposal/ENV/lib/python3.7/site-packages/IPython/extensions/autoreload.py\", line 244, in check\n",
      "    superreload(m, reload, self.old_objects)\n",
      "  File \"/Users/will/Development/Astronomy/proposal/ENV/lib/python3.7/site-packages/IPython/extensions/autoreload.py\", line 378, in superreload\n",
      "    module = reload(module)\n",
      "  File \"/usr/local/Cellar/python/3.7.1/Frameworks/Python.framework/Versions/3.7/lib/python3.7/imp.py\", line 314, in reload\n",
      "    return importlib.reload(module)\n",
      "  File \"/usr/local/Cellar/python/3.7.1/Frameworks/Python.framework/Versions/3.7/lib/python3.7/importlib/__init__.py\", line 169, in reload\n",
      "    _bootstrap._exec(spec, module)\n",
      "  File \"<frozen importlib._bootstrap>\", line 630, in _exec\n",
      "  File \"<frozen importlib._bootstrap_external>\", line 728, in exec_module\n",
      "  File \"<frozen importlib._bootstrap>\", line 219, in _call_with_frames_removed\n",
      "  File \"/Users/will/Development/Astronomy/proposal/python/sdss_gz_data_pkg/sdss_gz_data/__init__.py\", line 9, in <module>\n",
      "    from .sdss_gz_data import binnify\n",
      "ImportError: cannot import name 'binnify' from 'sdss_gz_data.sdss_gz_data' (/Users/will/Development/Astronomy/proposal/python/sdss_gz_data_pkg/sdss_gz_data/sdss_gz_data.py)\n",
      "]\n"
     ]
    }
   ],
   "source": [
    "base_features = set([\n",
    "    'expAB_z',\n",
    "    'expRad_g',\n",
    "    'expRad_i',\n",
    "    'expRad_u',\n",
    "    'expRad_z',\n",
    "    'fiberMag_g',\n",
    "    'fiberMag_r',\n",
    "    'fiberMag_u',\n",
    "    'fiberMag_z',\n",
    "    'model_g_u_colour_index',\n",
    "    'model_i_r_colour_index',\n",
    "    'model_r_g_colour_index',\n",
    "    'model_z_i_colour_index',\n",
    "    'petroR50_i',\n",
    "    'petro_R90_R50_ratio_g',\n",
    "    'dered_r'\n",
    "])"
   ]
  },
  {
   "cell_type": "code",
   "execution_count": 275,
   "metadata": {},
   "outputs": [
    {
     "data": {
      "text/plain": [
       "{'deVAB_i',\n",
       " 'expAB_g',\n",
       " 'expAB_i',\n",
       " 'expAB_z',\n",
       " 'expRad_g',\n",
       " 'expRad_u',\n",
       " 'expRad_z',\n",
       " 'fiberMag_g',\n",
       " 'fiberMag_u',\n",
       " 'fiberMag_z',\n",
       " 'model_g_u_colour_index',\n",
       " 'model_i_r_colour_index',\n",
       " 'model_r_g_colour_index',\n",
       " 'model_z_i_colour_index',\n",
       " 'petroRad_r',\n",
       " 'petro_R90_R50_ratio_g',\n",
       " 'petro_R90_R50_ratio_i',\n",
       " 'petro_r_g_colour_index',\n",
       " 'psfMag_r'}"
      ]
     },
     "execution_count": 275,
     "metadata": {},
     "output_type": "execute_result"
    }
   ],
   "source": [
    "# selected_features = base_features.copy()\n",
    "# selected_features.update([\n",
    "#     'deVAB_i',\n",
    "#     'deVRad_i',\n",
    "#     'expAB_g',\n",
    "#     'expAB_i',\n",
    "#     'expAB_z',\n",
    "#     'expRad_g',\n",
    "#     'mag_g',\n",
    "#     'model_g_u_colour_index',\n",
    "#     'model_i_r_colour_index',\n",
    "#     'petroR90_i',\n",
    "#     'petroRad_r',\n",
    "#     'petro_R90_R50_ratio_g',\n",
    "#     'petro_R90_R50_ratio_i',\n",
    "#     'petro_r_g_colour_index',\n",
    "#     'psfMag_r'\n",
    "# ])\n",
    "selected_features = set([\n",
    "    'deVAB_i',\n",
    "    'expAB_g',\n",
    "    'expAB_i',\n",
    "    'expAB_z',\n",
    "    'expRad_g',\n",
    "    'expRad_u',\n",
    "    'expRad_z',\n",
    "    'fiberMag_g',\n",
    "    'fiberMag_u',\n",
    "    'fiberMag_z',\n",
    "    'model_g_u_colour_index',\n",
    "    'model_i_r_colour_index',\n",
    "    'model_r_g_colour_index',\n",
    "    'model_z_i_colour_index',\n",
    "    'petroRad_r',\n",
    "    'petro_R90_R50_ratio_g',\n",
    "    'petro_R90_R50_ratio_i',\n",
    "    'petro_r_g_colour_index',\n",
    "    'psfMag_r'\n",
    "])\n",
    "selected_features"
   ]
  },
  {
   "cell_type": "code",
   "execution_count": 276,
   "metadata": {},
   "outputs": [
    {
     "name": "stdout",
     "output_type": "stream",
     "text": [
      "Fold  1 Z err: 0.009803, std: 0.008999, min: 0.000000, max: 0.161925, cat. failure: 0.000033\n",
      "Fold  2 Z err: 0.009815, std: 0.009250, min: 0.000000, max: 0.221214, cat. failure: 0.000098\n",
      "Fold  3 Z err: 0.009743, std: 0.008836, min: 0.000000, max: 0.122662, cat. failure: 0.000000\n",
      "Fold  4 Z err: 0.009795, std: 0.009138, min: 0.000001, max: 0.221352, cat. failure: 0.000098\n",
      "Fold  5 Z err: 0.009766, std: 0.008961, min: 0.000000, max: 0.193651, cat. failure: 0.000033\n",
      "Full Z err: 0.009532, std: 0.008930, min: 0.000001, max: 0.206145, cat. failure: 0.000026\n"
     ]
    }
   ],
   "source": [
    "_, models = kfolds(X_train, X_test, y_train, y_test, features=selected_features)"
   ]
  },
  {
   "cell_type": "code",
   "execution_count": 277,
   "metadata": {},
   "outputs": [
    {
     "data": {
      "text/plain": [
       "array([0.02883965, 0.05065882, 0.16185808, ..., 0.21263491, 0.10766427,\n",
       "       0.09363587])"
      ]
     },
     "execution_count": 277,
     "metadata": {},
     "output_type": "execute_result"
    }
   ],
   "source": [
    "predictions = predict(models, X_test, features=selected_features)\n",
    "predictions"
   ]
  },
  {
   "cell_type": "code",
   "execution_count": null,
   "metadata": {},
   "outputs": [],
   "source": []
  },
  {
   "cell_type": "code",
   "execution_count": 278,
   "metadata": {},
   "outputs": [],
   "source": [
    "y_test_reindex = y_test.reset_index(drop=True)"
   ]
  },
  {
   "cell_type": "code",
   "execution_count": 255,
   "metadata": {},
   "outputs": [
    {
     "data": {
      "text/plain": [
       "13188   -0.000170\n",
       "15672    0.000353\n",
       "19293   -0.000062\n",
       "20951    0.000021\n",
       "23173   -0.000036\n",
       "28330    0.000011\n",
       "29887    0.000083\n",
       "38210   -0.000236\n",
       "Name: z, dtype: float64"
      ]
     },
     "execution_count": 255,
     "metadata": {},
     "output_type": "execute_result"
    }
   ],
   "source": [
    "low_z = np.abs(y_test_reindex) < 0.001\n",
    "y_test_low_z = y_test_reindex[low_z]\n",
    "y_test_low_z"
   ]
  },
  {
   "cell_type": "code",
   "execution_count": 256,
   "metadata": {},
   "outputs": [
    {
     "data": {
      "text/plain": [
       "array([0.11056353, 0.12131538, 0.20240572, 0.03051212, 0.06592752,\n",
       "       0.04126007, 0.0696696 , 0.05403577])"
      ]
     },
     "execution_count": 256,
     "metadata": {},
     "output_type": "execute_result"
    }
   ],
   "source": [
    "low_z_pred = predictions[low_z]\n",
    "low_z_pred"
   ]
  },
  {
   "cell_type": "code",
   "execution_count": 257,
   "metadata": {},
   "outputs": [
    {
     "data": {
      "text/plain": [
       "array([0.03204881, 0.05063096, 0.16200019, ..., 0.21063116, 0.10828693,\n",
       "       0.0924968 ])"
      ]
     },
     "execution_count": 257,
     "metadata": {},
     "output_type": "execute_result"
    }
   ],
   "source": [
    "predictions"
   ]
  },
  {
   "cell_type": "code",
   "execution_count": 279,
   "metadata": {},
   "outputs": [
    {
     "data": {
      "text/plain": [
       "<matplotlib.collections.PathCollection at 0x13a75ba90>"
      ]
     },
     "execution_count": 279,
     "metadata": {},
     "output_type": "execute_result"
    },
    {
     "data": {
      "image/png": "[encoded data removed]",
      "text/plain": [
       "<Figure size 432x288 with 1 Axes>"
      ]
     },
     "metadata": {
      "needs_background": "light"
     },
     "output_type": "display_data"
    }
   ],
   "source": [
    "err = (predictions - y_test)/(1 + y_test)\n",
    "plt.scatter(y_test, err)"
   ]
  },
  {
   "cell_type": "code",
   "execution_count": 259,
   "metadata": {},
   "outputs": [
    {
     "data": {
      "text/plain": [
       "<matplotlib.collections.PathCollection at 0x1374ca0f0>"
      ]
     },
     "execution_count": 259,
     "metadata": {},
     "output_type": "execute_result"
    },
    {
     "data": {
      "image/png": "[encoded data removed]",
      "text/plain": [
       "<Figure size 432x288 with 1 Axes>"
      ]
     },
     "metadata": {
      "needs_background": "light"
     },
     "output_type": "display_data"
    }
   ],
   "source": [
    "low_z_err = (low_z_pred - y_test_low_z)/(1 + y_test_low_z)\n",
    "plt.scatter(y_test_low_z, low_z_err)"
   ]
  },
  {
   "cell_type": "code",
   "execution_count": 260,
   "metadata": {},
   "outputs": [
    {
     "data": {
      "text/plain": [
       "<matplotlib.collections.PathCollection at 0x13826d940>"
      ]
     },
     "execution_count": 260,
     "metadata": {},
     "output_type": "execute_result"
    },
    {
     "data": {
      "image/png": "[encoded data removed]",
      "text/plain": [
       "<Figure size 432x288 with 1 Axes>"
      ]
     },
     "metadata": {
      "needs_background": "light"
     },
     "output_type": "display_data"
    }
   ],
   "source": [
    "plt.scatter(y_test_low_z, low_z_pred)"
   ]
  },
  {
   "cell_type": "code",
   "execution_count": 261,
   "metadata": {},
   "outputs": [
    {
     "data": {
      "text/plain": [
       "<matplotlib.collections.PathCollection at 0x13a54e208>"
      ]
     },
     "execution_count": 261,
     "metadata": {},
     "output_type": "execute_result"
    },
    {
     "data": {
      "image/png": "[encoded data removed]",
      "text/plain": [
       "<Figure size 432x288 with 1 Axes>"
      ]
     },
     "metadata": {
      "needs_background": "light"
     },
     "output_type": "display_data"
    }
   ],
   "source": [
    "plt.scatter(y_test, predictions)"
   ]
  },
  {
   "cell_type": "code",
   "execution_count": 262,
   "metadata": {},
   "outputs": [],
   "source": [
    "import matplotlib.pyplot as plt\n",
    "import seaborn as sns"
   ]
  },
  {
   "cell_type": "code",
   "execution_count": 263,
   "metadata": {},
   "outputs": [
    {
     "data": {
      "image/png": "[encoded data removed]",
      "text/plain": [
       "<Figure size 1440x720 with 1 Axes>"
      ]
     },
     "metadata": {
      "needs_background": "light"
     },
     "output_type": "display_data"
    }
   ],
   "source": [
    "feature_importances = pd.DataFrame(sorted(zip(X_train[selected_features].columns, np.zeros(len(selected_features)))), columns=['Feature', 'Value'])\n",
    "#feature_importances\n",
    "#pd.DataFrame(sorted(zip(x_train[selected_features].columns, model.feature_importances_)), columns=['Feature', 'Value'])\n",
    "\n",
    "# feature_importances = np.empty((len(models), len(selected_features), 2), dtype=object)\n",
    "for idx, model in enumerate(models):\n",
    "    feature_importance = pd.DataFrame(sorted(zip(X_train[selected_features].columns, model.feature_importances_)), columns=['Feature','Value'])\n",
    "    feature_importances['Value'] += feature_importance['Value']/len(models)\n",
    "\n",
    "plt.figure(figsize=(20, 10))\n",
    "sns.barplot(x=\"Value\", y=\"Feature\", data=feature_importances.sort_values(by=\"Value\", ascending=False))\n",
    "plt.title('LightGBM Features (avg over folds)')\n",
    "plt.tight_layout()\n",
    "plt.show()"
   ]
  },
  {
   "cell_type": "code",
   "execution_count": 265,
   "metadata": {},
   "outputs": [
    {
     "data": {
      "text/plain": [
       "16    model_i_r_colour_index\n",
       "17    model_r_g_colour_index\n",
       "15    model_g_u_colour_index\n",
       "18    model_z_i_colour_index\n",
       "22     petro_R90_R50_ratio_g\n",
       "24    petro_r_g_colour_index\n",
       "10                fiberMag_g\n",
       "8                   expRad_u\n",
       "12                fiberMag_u\n",
       "23     petro_R90_R50_ratio_i\n",
       "13                fiberMag_z\n",
       "9                   expRad_z\n",
       "3                    expAB_g\n",
       "5                    expAB_z\n",
       "6                   expRad_g\n",
       "25                  psfMag_r\n",
       "14                     mag_g\n",
       "0                    deVAB_i\n",
       "21                petroRad_r\n",
       "1                   deVRad_i\n",
       "11                fiberMag_r\n",
       "4                    expAB_i\n",
       "20                petroR90_i\n",
       "2                    dered_r\n",
       "19                petroR50_i\n",
       "7                   expRad_i\n",
       "Name: Feature, dtype: object"
      ]
     },
     "execution_count": 265,
     "metadata": {},
     "output_type": "execute_result"
    }
   ],
   "source": [
    "feature_importances.sort_values(by=\"Value\", ascending=False)['Feature']"
   ]
  },
  {
   "cell_type": "code",
   "execution_count": 270,
   "metadata": {},
   "outputs": [
    {
     "data": {
      "text/html": [
       "<div>\n",
       "<style scoped>\n",
       "    .dataframe tbody tr th:only-of-type {\n",
       "        vertical-align: middle;\n",
       "    }\n",
       "\n",
       "    .dataframe tbody tr th {\n",
       "        vertical-align: top;\n",
       "    }\n",
       "\n",
       "    .dataframe thead th {\n",
       "        text-align: right;\n",
       "    }\n",
       "</style>\n",
       "<table border=\"1\" class=\"dataframe\">\n",
       "  <thead>\n",
       "    <tr style=\"text-align: right;\">\n",
       "      <th></th>\n",
       "      <th>Feature</th>\n",
       "      <th>Value</th>\n",
       "    </tr>\n",
       "  </thead>\n",
       "  <tbody>\n",
       "    <tr>\n",
       "      <th>17</th>\n",
       "      <td>model_r_g_colour_index</td>\n",
       "      <td>935.0</td>\n",
       "    </tr>\n",
       "    <tr>\n",
       "      <th>18</th>\n",
       "      <td>model_z_i_colour_index</td>\n",
       "      <td>724.8</td>\n",
       "    </tr>\n",
       "    <tr>\n",
       "      <th>24</th>\n",
       "      <td>petro_r_g_colour_index</td>\n",
       "      <td>685.0</td>\n",
       "    </tr>\n",
       "    <tr>\n",
       "      <th>10</th>\n",
       "      <td>fiberMag_g</td>\n",
       "      <td>596.4</td>\n",
       "    </tr>\n",
       "    <tr>\n",
       "      <th>8</th>\n",
       "      <td>expRad_u</td>\n",
       "      <td>556.4</td>\n",
       "    </tr>\n",
       "    <tr>\n",
       "      <th>12</th>\n",
       "      <td>fiberMag_u</td>\n",
       "      <td>556.2</td>\n",
       "    </tr>\n",
       "    <tr>\n",
       "      <th>23</th>\n",
       "      <td>petro_R90_R50_ratio_i</td>\n",
       "      <td>548.0</td>\n",
       "    </tr>\n",
       "    <tr>\n",
       "      <th>13</th>\n",
       "      <td>fiberMag_z</td>\n",
       "      <td>525.0</td>\n",
       "    </tr>\n",
       "    <tr>\n",
       "      <th>9</th>\n",
       "      <td>expRad_z</td>\n",
       "      <td>514.6</td>\n",
       "    </tr>\n",
       "    <tr>\n",
       "      <th>3</th>\n",
       "      <td>expAB_g</td>\n",
       "      <td>473.0</td>\n",
       "    </tr>\n",
       "    <tr>\n",
       "      <th>25</th>\n",
       "      <td>psfMag_r</td>\n",
       "      <td>467.4</td>\n",
       "    </tr>\n",
       "    <tr>\n",
       "      <th>14</th>\n",
       "      <td>mag_g</td>\n",
       "      <td>443.6</td>\n",
       "    </tr>\n",
       "    <tr>\n",
       "      <th>0</th>\n",
       "      <td>deVAB_i</td>\n",
       "      <td>407.6</td>\n",
       "    </tr>\n",
       "    <tr>\n",
       "      <th>21</th>\n",
       "      <td>petroRad_r</td>\n",
       "      <td>402.4</td>\n",
       "    </tr>\n",
       "    <tr>\n",
       "      <th>1</th>\n",
       "      <td>deVRad_i</td>\n",
       "      <td>373.6</td>\n",
       "    </tr>\n",
       "    <tr>\n",
       "      <th>11</th>\n",
       "      <td>fiberMag_r</td>\n",
       "      <td>357.4</td>\n",
       "    </tr>\n",
       "    <tr>\n",
       "      <th>4</th>\n",
       "      <td>expAB_i</td>\n",
       "      <td>355.6</td>\n",
       "    </tr>\n",
       "    <tr>\n",
       "      <th>20</th>\n",
       "      <td>petroR90_i</td>\n",
       "      <td>348.4</td>\n",
       "    </tr>\n",
       "    <tr>\n",
       "      <th>2</th>\n",
       "      <td>dered_r</td>\n",
       "      <td>347.4</td>\n",
       "    </tr>\n",
       "    <tr>\n",
       "      <th>19</th>\n",
       "      <td>petroR50_i</td>\n",
       "      <td>334.6</td>\n",
       "    </tr>\n",
       "    <tr>\n",
       "      <th>7</th>\n",
       "      <td>expRad_i</td>\n",
       "      <td>274.0</td>\n",
       "    </tr>\n",
       "  </tbody>\n",
       "</table>\n",
       "</div>"
      ],
      "text/plain": [
       "                   Feature  Value\n",
       "17  model_r_g_colour_index  935.0\n",
       "18  model_z_i_colour_index  724.8\n",
       "24  petro_r_g_colour_index  685.0\n",
       "10              fiberMag_g  596.4\n",
       "8                 expRad_u  556.4\n",
       "12              fiberMag_u  556.2\n",
       "23   petro_R90_R50_ratio_i  548.0\n",
       "13              fiberMag_z  525.0\n",
       "9                 expRad_z  514.6\n",
       "3                  expAB_g  473.0\n",
       "25                psfMag_r  467.4\n",
       "14                   mag_g  443.6\n",
       "0                  deVAB_i  407.6\n",
       "21              petroRad_r  402.4\n",
       "1                 deVRad_i  373.6\n",
       "11              fiberMag_r  357.4\n",
       "4                  expAB_i  355.6\n",
       "20              petroR90_i  348.4\n",
       "2                  dered_r  347.4\n",
       "19              petroR50_i  334.6\n",
       "7                 expRad_i  274.0"
      ]
     },
     "execution_count": 270,
     "metadata": {},
     "output_type": "execute_result"
    }
   ],
   "source": [
    "common_features = [\n",
    "    'expAB_z',\n",
    "    'expRad_g',\n",
    "    'model_g_u_colour_index',\n",
    "    'model_i_r_colour_index',\n",
    "    'petro_R90_R50_ratio_g'\n",
    "]\n",
    "non_common_features_importance = feature_importances[np.invert(feature_importances.Feature.isin(common_features))]\n",
    "non_common_features_importance.sort_values(by=\"Value\", ascending=False)"
   ]
  },
  {
   "cell_type": "code",
   "execution_count": 274,
   "metadata": {},
   "outputs": [
    {
     "data": {
      "text/plain": [
       "{'deVAB_i',\n",
       " 'expAB_g',\n",
       " 'expAB_i',\n",
       " 'expAB_z',\n",
       " 'expRad_g',\n",
       " 'expRad_u',\n",
       " 'expRad_z',\n",
       " 'fiberMag_g',\n",
       " 'fiberMag_u',\n",
       " 'fiberMag_z',\n",
       " 'model_g_u_colour_index',\n",
       " 'model_i_r_colour_index',\n",
       " 'model_r_g_colour_index',\n",
       " 'model_z_i_colour_index',\n",
       " 'petroRad_r',\n",
       " 'petro_R90_R50_ratio_g',\n",
       " 'petro_R90_R50_ratio_i',\n",
       " 'petro_r_g_colour_index',\n",
       " 'psfMag_r'}"
      ]
     },
     "execution_count": 274,
     "metadata": {},
     "output_type": "execute_result"
    }
   ],
   "source": [
    "selected_set = set([\n",
    "    'petro_r_g_colour_index',\n",
    "    'petroRad_r',\n",
    "    'deVAB_i',\n",
    "    'psfMag_r',\n",
    "    'petro_R90_R50_ratio_i',\n",
    "    'expAB_g',\n",
    "    'expRad_u',\n",
    "    'model_r_g_colour_index',\n",
    "    'expAB_i',\n",
    "    'expRad_z',\n",
    "    'model_z_i_colour_index',\n",
    "    'model_r_g_colour_index',\n",
    "    'model_z_i_colour_index',\n",
    "    'petro_r_g_colour_index',\n",
    "    'fiberMag_g',\n",
    "    'expRad_u',\n",
    "    'fiberMag_u',\n",
    "    'petro_R90_R50_ratio_i',\n",
    "    'fiberMag_z',\n",
    "    'expRad_z',\n",
    "    'expAB_g',\n",
    "])\n",
    "selected_set.update(common_features)\n",
    "selected_set"
   ]
  },
  {
   "cell_type": "code",
   "execution_count": 280,
   "metadata": {},
   "outputs": [
    {
     "data": {
      "text/plain": [
       "493965   -0.000062\n",
       "Name: z, dtype: float64"
      ]
     },
     "execution_count": 280,
     "metadata": {},
     "output_type": "execute_result"
    }
   ],
   "source": [
    "y_test[np.abs((y_test - predictions)/(1 + y_test)) > 0.15]"
   ]
  },
  {
   "cell_type": "code",
   "execution_count": 44,
   "metadata": {},
   "outputs": [
    {
     "data": {
      "image/png": "[encoded data removed]",
      "text/plain": [
       "<Figure size 1440x720 with 1 Axes>"
      ]
     },
     "metadata": {
      "needs_background": "light"
     },
     "output_type": "display_data"
    }
   ],
   "source": [
    "plt.figure(figsize=(20, 10))\n",
    "sns.barplot(x=\"Value\", y=\"Feature\", data=feature_importance.sort_values(by=\"Value\", ascending=False))\n",
    "plt.title('LightGBM Features (avg over folds)')\n",
    "plt.tight_layout()\n",
    "plt.show()"
   ]
  },
  {
   "cell_type": "code",
   "execution_count": null,
   "metadata": {},
   "outputs": [],
   "source": []
  }
 ],
 "metadata": {
  "kernelspec": {
   "display_name": "Python 3",
   "language": "python",
   "name": "python3"
  },
  "language_info": {
   "codemirror_mode": {
    "name": "ipython",
    "version": 3
   },
   "file_extension": ".py",
   "mimetype": "text/x-python",
   "name": "python",
   "nbconvert_exporter": "python",
   "pygments_lexer": "ipython3",
   "version": "3.7.1"
  }
 },
 "nbformat": 4,
 "nbformat_minor": 2
}
