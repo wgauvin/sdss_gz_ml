{
 "cells": [
  {
   "cell_type": "code",
   "execution_count": 3,
   "metadata": {},
   "outputs": [],
   "source": [
    "import numpy as np\n",
    "from astropy.io import fits\n",
    "from astropy.io.fits import HDUList\n",
    "from astropy.wcs import WCS\n",
    "from numpy import arcsinh\n",
    "import matplotlib.pyplot as plt\n",
    "from astropy.visualization import astropy_mpl_style\n",
    "from reproject import reproject_interp\n",
    "import aplpy\n",
    "from aplpy.rgb import make_rgb_cube\n",
    "import matplotlib.pyplot as pyplot\n",
    "from PIL import Image\n",
    "plt.rcParams.update(plt.rcParamsDefault)"
   ]
  },
  {
   "cell_type": "code",
   "execution_count": 5,
   "metadata": {},
   "outputs": [
    {
     "name": "stdout",
     "output_type": "stream",
     "text": [
      "total 1611656\r\n",
      "-rw-r--r--@ 1 will  staff  349816837 11 Mar 15:14 astromonical_data.csv.gz\r\n",
      "drwxr-xr-x  4 will  staff        128  6 Apr 16:18 \u001b[1m\u001b[36mfits\u001b[m\u001b[m/\r\n",
      "-rw-r--r--  1 will  staff   12447360  6 Apr 16:52 frame-g-000756-2-0427.fits\r\n",
      "-rw-r--r--  1 will  staff   12447360  6 Apr 16:52 frame-i-000756-2-0427.fits\r\n",
      "-rw-r--r--  1 will  staff   12447360  6 Apr 16:52 frame-r-000756-2-0427.fits\r\n",
      "-rw-r--r--@ 1 will  staff  319952110 31 Jan 20:01 input.csv\r\n",
      "-rw-r--r--  1 will  staff   36979200 11 Feb 19:42 rgb-000756-2-0427.fits\r\n",
      "-rw-r--r--  1 will  staff   12329280 11 Feb 19:42 rgb-000756-2-0427_2d.fits\r\n",
      "-rw-r--r--  1 will  staff   36933120 20 Jan 17:16 rgb-002141-3-0076.fits\r\n",
      "-rw-r--r--  1 will  staff   12314880 20 Jan 17:16 rgb-002141-3-0076_2d.fits\r\n"
     ]
    }
   ],
   "source": [
    "%ls -l data/"
   ]
  },
  {
   "cell_type": "code",
   "execution_count": 6,
   "metadata": {},
   "outputs": [],
   "source": [
    "fits_files = ['./data/frame-i-000756-2-0427.fits', './data/frame-r-000756-2-0427.fits', './data/frame-g-000756-2-0427.fits']"
   ]
  },
  {
   "cell_type": "code",
   "execution_count": 7,
   "metadata": {},
   "outputs": [],
   "source": [
    "output = './data/rgb-000756-2-0427.fits'"
   ]
  },
  {
   "cell_type": "code",
   "execution_count": 8,
   "metadata": {},
   "outputs": [
    {
     "ename": "ValueError",
     "evalue": "More than one HDU is present, please specify HDU to use with ``hdu_in=`` option",
     "output_type": "error",
     "traceback": [
      "\u001b[0;31m---------------------------------------------------------------------------\u001b[0m",
      "\u001b[0;31mValueError\u001b[0m                                Traceback (most recent call last)",
      "\u001b[0;32m<ipython-input-8-331927237970>\u001b[0m in \u001b[0;36m<module>\u001b[0;34m\u001b[0m\n\u001b[0;32m----> 1\u001b[0;31m \u001b[0mmake_rgb_cube\u001b[0m\u001b[0;34m(\u001b[0m\u001b[0mfits_files\u001b[0m\u001b[0;34m,\u001b[0m \u001b[0moutput\u001b[0m\u001b[0;34m)\u001b[0m\u001b[0;34m\u001b[0m\u001b[0;34m\u001b[0m\u001b[0m\n\u001b[0m",
      "\u001b[0;32m~/Development/Astronomy/proposal/ENV/lib/python3.7/site-packages/aplpy/rgb.py\u001b[0m in \u001b[0;36mmake_rgb_cube\u001b[0;34m(files, output, north)\u001b[0m\n\u001b[1;32m    276\u001b[0m \u001b[0;34m\u001b[0m\u001b[0m\n\u001b[1;32m    277\u001b[0m     \u001b[0;31m# Find optimal WCS and shape based on input images\u001b[0m\u001b[0;34m\u001b[0m\u001b[0;34m\u001b[0m\u001b[0;34m\u001b[0m\u001b[0m\n\u001b[0;32m--> 278\u001b[0;31m     \u001b[0mwcs\u001b[0m\u001b[0;34m,\u001b[0m \u001b[0mshape\u001b[0m \u001b[0;34m=\u001b[0m \u001b[0mfind_optimal_celestial_wcs\u001b[0m\u001b[0;34m(\u001b[0m\u001b[0mfiles\u001b[0m\u001b[0;34m,\u001b[0m \u001b[0mframe\u001b[0m\u001b[0;34m=\u001b[0m\u001b[0mframe\u001b[0m\u001b[0;34m,\u001b[0m \u001b[0mauto_rotate\u001b[0m\u001b[0;34m=\u001b[0m\u001b[0mauto_rotate\u001b[0m\u001b[0;34m)\u001b[0m\u001b[0;34m\u001b[0m\u001b[0;34m\u001b[0m\u001b[0m\n\u001b[0m\u001b[1;32m    279\u001b[0m     \u001b[0mheader\u001b[0m \u001b[0;34m=\u001b[0m \u001b[0mwcs\u001b[0m\u001b[0;34m.\u001b[0m\u001b[0mto_header\u001b[0m\u001b[0;34m(\u001b[0m\u001b[0;34m)\u001b[0m\u001b[0;34m\u001b[0m\u001b[0;34m\u001b[0m\u001b[0m\n\u001b[1;32m    280\u001b[0m \u001b[0;34m\u001b[0m\u001b[0m\n",
      "\u001b[0;32m~/Development/Astronomy/proposal/ENV/lib/python3.7/site-packages/reproject/mosaicking.py\u001b[0m in \u001b[0;36mfind_optimal_celestial_wcs\u001b[0;34m(input_data, frame, auto_rotate, projection, resolution, reference)\u001b[0m\n\u001b[1;32m     58\u001b[0m     \u001b[0;31m# TODO: take into account NaN values when determining the extent of the final WCS\u001b[0m\u001b[0;34m\u001b[0m\u001b[0;34m\u001b[0m\u001b[0;34m\u001b[0m\u001b[0m\n\u001b[1;32m     59\u001b[0m \u001b[0;34m\u001b[0m\u001b[0m\n\u001b[0;32m---> 60\u001b[0;31m     \u001b[0minput_data\u001b[0m \u001b[0;34m=\u001b[0m \u001b[0;34m[\u001b[0m\u001b[0mparse_input_data\u001b[0m\u001b[0;34m(\u001b[0m\u001b[0mdata\u001b[0m\u001b[0;34m)\u001b[0m \u001b[0;32mfor\u001b[0m \u001b[0mdata\u001b[0m \u001b[0;32min\u001b[0m \u001b[0minput_data\u001b[0m\u001b[0;34m]\u001b[0m\u001b[0;34m\u001b[0m\u001b[0;34m\u001b[0m\u001b[0m\n\u001b[0m\u001b[1;32m     61\u001b[0m \u001b[0;34m\u001b[0m\u001b[0m\n\u001b[1;32m     62\u001b[0m     \u001b[0;31m# We start off by looping over images, checking that they are indeed\u001b[0m\u001b[0;34m\u001b[0m\u001b[0;34m\u001b[0m\u001b[0;34m\u001b[0m\u001b[0m\n",
      "\u001b[0;32m~/Development/Astronomy/proposal/ENV/lib/python3.7/site-packages/reproject/mosaicking.py\u001b[0m in \u001b[0;36m<listcomp>\u001b[0;34m(.0)\u001b[0m\n\u001b[1;32m     58\u001b[0m     \u001b[0;31m# TODO: take into account NaN values when determining the extent of the final WCS\u001b[0m\u001b[0;34m\u001b[0m\u001b[0;34m\u001b[0m\u001b[0;34m\u001b[0m\u001b[0m\n\u001b[1;32m     59\u001b[0m \u001b[0;34m\u001b[0m\u001b[0m\n\u001b[0;32m---> 60\u001b[0;31m     \u001b[0minput_data\u001b[0m \u001b[0;34m=\u001b[0m \u001b[0;34m[\u001b[0m\u001b[0mparse_input_data\u001b[0m\u001b[0;34m(\u001b[0m\u001b[0mdata\u001b[0m\u001b[0;34m)\u001b[0m \u001b[0;32mfor\u001b[0m \u001b[0mdata\u001b[0m \u001b[0;32min\u001b[0m \u001b[0minput_data\u001b[0m\u001b[0;34m]\u001b[0m\u001b[0;34m\u001b[0m\u001b[0;34m\u001b[0m\u001b[0m\n\u001b[0m\u001b[1;32m     61\u001b[0m \u001b[0;34m\u001b[0m\u001b[0m\n\u001b[1;32m     62\u001b[0m     \u001b[0;31m# We start off by looping over images, checking that they are indeed\u001b[0m\u001b[0;34m\u001b[0m\u001b[0;34m\u001b[0m\u001b[0;34m\u001b[0m\u001b[0m\n",
      "\u001b[0;32m~/Development/Astronomy/proposal/ENV/lib/python3.7/site-packages/reproject/utils.py\u001b[0m in \u001b[0;36mparse_input_data\u001b[0;34m(input_data, hdu_in)\u001b[0m\n\u001b[1;32m     13\u001b[0m \u001b[0;34m\u001b[0m\u001b[0m\n\u001b[1;32m     14\u001b[0m     \u001b[0;32mif\u001b[0m \u001b[0misinstance\u001b[0m\u001b[0;34m(\u001b[0m\u001b[0minput_data\u001b[0m\u001b[0;34m,\u001b[0m \u001b[0msix\u001b[0m\u001b[0;34m.\u001b[0m\u001b[0mstring_types\u001b[0m\u001b[0;34m)\u001b[0m\u001b[0;34m:\u001b[0m\u001b[0;34m\u001b[0m\u001b[0;34m\u001b[0m\u001b[0m\n\u001b[0;32m---> 15\u001b[0;31m         \u001b[0;32mreturn\u001b[0m \u001b[0mparse_input_data\u001b[0m\u001b[0;34m(\u001b[0m\u001b[0mfits\u001b[0m\u001b[0;34m.\u001b[0m\u001b[0mopen\u001b[0m\u001b[0;34m(\u001b[0m\u001b[0minput_data\u001b[0m\u001b[0;34m)\u001b[0m\u001b[0;34m,\u001b[0m \u001b[0mhdu_in\u001b[0m\u001b[0;34m=\u001b[0m\u001b[0mhdu_in\u001b[0m\u001b[0;34m)\u001b[0m\u001b[0;34m\u001b[0m\u001b[0;34m\u001b[0m\u001b[0m\n\u001b[0m\u001b[1;32m     16\u001b[0m     \u001b[0;32melif\u001b[0m \u001b[0misinstance\u001b[0m\u001b[0;34m(\u001b[0m\u001b[0minput_data\u001b[0m\u001b[0;34m,\u001b[0m \u001b[0mHDUList\u001b[0m\u001b[0;34m)\u001b[0m\u001b[0;34m:\u001b[0m\u001b[0;34m\u001b[0m\u001b[0;34m\u001b[0m\u001b[0m\n\u001b[1;32m     17\u001b[0m         \u001b[0;32mif\u001b[0m \u001b[0mhdu_in\u001b[0m \u001b[0;32mis\u001b[0m \u001b[0;32mNone\u001b[0m\u001b[0;34m:\u001b[0m\u001b[0;34m\u001b[0m\u001b[0;34m\u001b[0m\u001b[0m\n",
      "\u001b[0;32m~/Development/Astronomy/proposal/ENV/lib/python3.7/site-packages/reproject/utils.py\u001b[0m in \u001b[0;36mparse_input_data\u001b[0;34m(input_data, hdu_in)\u001b[0m\n\u001b[1;32m     17\u001b[0m         \u001b[0;32mif\u001b[0m \u001b[0mhdu_in\u001b[0m \u001b[0;32mis\u001b[0m \u001b[0;32mNone\u001b[0m\u001b[0;34m:\u001b[0m\u001b[0;34m\u001b[0m\u001b[0;34m\u001b[0m\u001b[0m\n\u001b[1;32m     18\u001b[0m             \u001b[0;32mif\u001b[0m \u001b[0mlen\u001b[0m\u001b[0;34m(\u001b[0m\u001b[0minput_data\u001b[0m\u001b[0;34m)\u001b[0m \u001b[0;34m>\u001b[0m \u001b[0;36m1\u001b[0m\u001b[0;34m:\u001b[0m\u001b[0;34m\u001b[0m\u001b[0;34m\u001b[0m\u001b[0m\n\u001b[0;32m---> 19\u001b[0;31m                 \u001b[0;32mraise\u001b[0m \u001b[0mValueError\u001b[0m\u001b[0;34m(\u001b[0m\u001b[0;34m\"More than one HDU is present, please specify HDU to use with ``hdu_in=`` option\"\u001b[0m\u001b[0;34m)\u001b[0m\u001b[0;34m\u001b[0m\u001b[0;34m\u001b[0m\u001b[0m\n\u001b[0m\u001b[1;32m     20\u001b[0m             \u001b[0;32melse\u001b[0m\u001b[0;34m:\u001b[0m\u001b[0;34m\u001b[0m\u001b[0;34m\u001b[0m\u001b[0m\n\u001b[1;32m     21\u001b[0m                 \u001b[0mhdu_in\u001b[0m \u001b[0;34m=\u001b[0m \u001b[0;36m0\u001b[0m\u001b[0;34m\u001b[0m\u001b[0;34m\u001b[0m\u001b[0m\n",
      "\u001b[0;31mValueError\u001b[0m: More than one HDU is present, please specify HDU to use with ``hdu_in=`` option"
     ]
    }
   ],
   "source": [
    "make_rgb_cube(fits_files, output)"
   ]
  },
  {
   "cell_type": "code",
   "execution_count": null,
   "metadata": {},
   "outputs": [],
   "source": [
    "# Make an RGB image\n",
    "aplpy.make_rgb_image('rgb-000756-2-0427.fits', 'rgb-000756-2-0427.png', stretch_r='arcsinh', stretch_g='arcsinh', stretch_b='arcsinh')\n",
    "\n",
    "# Plot the RGB image using the 2d image to indicate the projection\n",
    "f = aplpy.FITSFigure('rgb-000756-2-0427_2d.fits')\n",
    "f.show_rgb('rgb-000756-2-0427.png')"
   ]
  },
  {
   "cell_type": "code",
   "execution_count": null,
   "metadata": {},
   "outputs": [],
   "source": [
    "twod_fits = fits.open('rgb-000756-2-0427_2d.fits')"
   ]
  },
  {
   "cell_type": "code",
   "execution_count": null,
   "metadata": {},
   "outputs": [],
   "source": [
    "twod_fits[0].header"
   ]
  },
  {
   "cell_type": "code",
   "execution_count": null,
   "metadata": {},
   "outputs": [],
   "source": [
    "%ls -l"
   ]
  },
  {
   "cell_type": "code",
   "execution_count": null,
   "metadata": {},
   "outputs": [],
   "source": [
    "a = fits.open('rgb-000756-2-0427.fits')"
   ]
  },
  {
   "cell_type": "code",
   "execution_count": null,
   "metadata": {},
   "outputs": [],
   "source": [
    "a_hdu = a[0]\n",
    "a_header = a_hdu.header\n",
    "a_data = a_hdu.data"
   ]
  },
  {
   "cell_type": "code",
   "execution_count": null,
   "metadata": {},
   "outputs": [],
   "source": [
    "a_header"
   ]
  },
  {
   "cell_type": "code",
   "execution_count": null,
   "metadata": {},
   "outputs": [],
   "source": [
    "a_header['NAXIS'] = 2"
   ]
  },
  {
   "cell_type": "code",
   "execution_count": null,
   "metadata": {},
   "outputs": [],
   "source": []
  },
  {
   "cell_type": "code",
   "execution_count": null,
   "metadata": {},
   "outputs": [],
   "source": [
    "#a_data = np.nan_to_num(a_data + a_data.min()) - a_data.min()\n",
    "# a_data[0] = convolve(a_data[0], kernel)\n",
    "# a_data[1] = convolve(a_data[1], kernel)\n",
    "# a_data[2] = convolve(a_data[2], kernel)"
   ]
  },
  {
   "cell_type": "code",
   "execution_count": null,
   "metadata": {},
   "outputs": [],
   "source": [
    "n, x_shape, y_shape = a_data.shape"
   ]
  },
  {
   "cell_type": "code",
   "execution_count": null,
   "metadata": {},
   "outputs": [],
   "source": [
    "def modify_image(data, gains=[0.9,1.1,1.8], gamma=0.01):\n",
    "    R_IDX = 0\n",
    "    G_IDX = 1\n",
    "    B_IDX = 2\n",
    "\n",
    "    r = data[:,:,R_IDX].copy()\n",
    "    g = data[:,:,G_IDX].copy()\n",
    "    b = data[:,:,B_IDX].copy()\n",
    "\n",
    "    r = (r * gains[R_IDX]).astype(np.uint8)\n",
    "    g = (g * gains[G_IDX]).astype(np.uint8)\n",
    "    b = (b * gains[B_IDX]).astype(np.uint8)\n",
    "    \n",
    "    r += (gamma * (r - g)).astype(np.uint8)\n",
    "    b += (gamma * (b - g)).astype(np.uint8)\n",
    "\n",
    "    r[r < 0] = 0\n",
    "    r[r > 255] = 255\n",
    "    g[g < 0] = 0\n",
    "    g[g > 255] = 255\n",
    "    b[b < 0] = 0\n",
    "    b[b > 255] = 255\n",
    "    \n",
    "    result = np.empty(data.shape, dtype=np.uint8)\n",
    "    result[:,:,0] = r\n",
    "    result[:,:,1] = g\n",
    "    result[:,:,2] = b\n",
    "    \n",
    "    return result\n",
    "    \n",
    "def scale_rgb(data, sigma=10, min=0, max=1, gains=[0.9,1.1,1.8], gamma=0.1):\n",
    "    R_IDX = 0\n",
    "    G_IDX = 1\n",
    "    B_IDX = 2\n",
    "    \n",
    "    if min < 0:\n",
    "        data = data - min\n",
    "        max = max - min\n",
    "        min = 0\n",
    "\n",
    "    r = data[R_IDX].copy()\n",
    "    g = data[G_IDX].copy()\n",
    "    b = data[B_IDX].copy()\n",
    "\n",
    "    slope = 255 / arcsinh((max - min)/sigma)\n",
    "\n",
    "    mean = (r + g + b)/3\n",
    "    mean[mean < min] = 0\n",
    "    r[mean == 0] = 0\n",
    "    g[mean == 0] = 0\n",
    "    b[mean == 0] = 0\n",
    "    \n",
    "    scale = slope * arcsinh((mean - min) / sigma) / mean\n",
    "\n",
    "    r = (r * scale).astype(int)\n",
    "    g = (g * scale).astype(int)\n",
    "    b = (b * scale).astype(int)\n",
    "    \n",
    "    r = (r * gains[R_IDX]).astype(int)\n",
    "    g = (g * gains[G_IDX]).astype(int)\n",
    "    b = (b * gains[B_IDX]).astype(int)\n",
    "    \n",
    "    r += (gamma * (r - g)).astype(int)\n",
    "    b += (gamma * (b - g)).astype(int)\n",
    "\n",
    "    r[r < 0] = 0\n",
    "    r[r > 255] = 255\n",
    "    g[g < 0] = 0\n",
    "    g[g > 255] = 255\n",
    "    b[b < 0] = 0\n",
    "    b[b > 255] = 255\n",
    "    \n",
    "    result = np.empty(data.shape, dtype=np.uint8)\n",
    "    result[0] = r\n",
    "    result[1] = g\n",
    "    result[2] = b\n",
    "\n",
    "    return result"
   ]
  },
  {
   "cell_type": "code",
   "execution_count": null,
   "metadata": {},
   "outputs": [],
   "source": [
    "a_data.min()"
   ]
  },
  {
   "cell_type": "code",
   "execution_count": null,
   "metadata": {},
   "outputs": [],
   "source": [
    "a_data.max()"
   ]
  },
  {
   "cell_type": "code",
   "execution_count": null,
   "metadata": {},
   "outputs": [],
   "source": [
    "a_data.shape"
   ]
  },
  {
   "cell_type": "code",
   "execution_count": null,
   "metadata": {},
   "outputs": [],
   "source": [
    "nan_data = a_data.copy()\n",
    "nan_data[np.logical_not(np.isnan(nan_data))] = 0\n",
    "nan_data[np.isnan(nan_data)] = 1\n",
    "#print(nan_data.shape)\n",
    "\n",
    "output = np.empty((2050,1503,3))\n",
    "output[:,:,0] = nan_data[0]\n",
    "output[:,:,1] = nan_data[1]\n",
    "output[:,:,2] = nan_data[2]"
   ]
  },
  {
   "cell_type": "code",
   "execution_count": null,
   "metadata": {},
   "outputs": [],
   "source": [
    "#r, g, b = scale_rgb(a_data/a_data.max(), min=0, max=1)"
   ]
  },
  {
   "cell_type": "code",
   "execution_count": null,
   "metadata": {},
   "outputs": [],
   "source": [
    "r = a_data[0]\n",
    "g = a_data[1]\n",
    "b = a_data[2]"
   ]
  },
  {
   "cell_type": "code",
   "execution_count": null,
   "metadata": {},
   "outputs": [],
   "source": [
    "r.shape"
   ]
  },
  {
   "cell_type": "code",
   "execution_count": null,
   "metadata": {},
   "outputs": [],
   "source": [
    "rgb_default = make_lupton_rgb(r, g, b, filename='rgb-000756-2-0427.png', Q=8, stretch=0.4)\n",
    "plt.figure(figsize=(20,40))\n",
    "plt.grid()\n",
    "plt.imshow(rgb_default, origin='lower')\n"
   ]
  },
  {
   "cell_type": "code",
   "execution_count": null,
   "metadata": {},
   "outputs": [],
   "source": [
    "def cutout(data, wcs, ra, dec, x_size=100, y_size=100):\n",
    "    x_centre, y_centre = world2pix(ra, dec, wcs)\n",
    "    x_top = int(round(x_centre) - x_size/2)\n",
    "    y_top = int(round(y_centre) - y_size/2)\n",
    "    x_bottom = x_top + x_size\n",
    "    y_bottom = y_top + y_size\n",
    "    \n",
    "    return data[y_top:y_bottom, x_top:x_bottom]\n",
    "\n",
    "def world2pix(ra, dec, wcs):\n",
    "    coords = np.array([[ra, dec]])\n",
    "    location = wcs.wcs_world2pix(coords, 0, ra_dec_order=True)\n",
    "    return location[0][0], location[0][1]"
   ]
  },
  {
   "cell_type": "code",
   "execution_count": null,
   "metadata": {},
   "outputs": [],
   "source": [
    "r_cutout = cutout(r, WCS(a_header), 179.689293428, -0.454379058, x_size=224, y_size=224)\n",
    "g_cutout = cutout(g, WCS(a_header), 179.689293428, -0.454379058, x_size=224, y_size=224)\n",
    "b_cutout = cutout(b, WCS(a_header), 179.689293428, -0.454379058, x_size=224, y_size=224)\n",
    "\n",
    "r_cutout[r_cutout < 0] = 0\n",
    "g_cutout[g_cutout < 0] = 0\n",
    "b_cutout[b_cutout < 0] = 0\n",
    "\n",
    "vmax = max(r.max(), g.max(), b.max())"
   ]
  },
  {
   "cell_type": "code",
   "execution_count": null,
   "metadata": {},
   "outputs": [],
   "source": [
    "rgb_cutout = make_lupton_rgb(r_cutout, g_cutout, b_cutout, filename='rgb-cutout-000756-2-0427.png', Q=8, stretch=0.5)\n",
    "#plt.figure(figsize=(5,5))\n",
    "plt.grid(False)\n",
    "plt.imshow(rgb_cutout, origin='lower')"
   ]
  },
  {
   "cell_type": "code",
   "execution_count": null,
   "metadata": {},
   "outputs": [],
   "source": [
    "from astropy.convolution import Gaussian2DKernel\n",
    "from astropy.convolution import convolve\n",
    "\n",
    "kernel = Gaussian2DKernel(x_stddev=0.3)\n",
    "rgb_convoled = rgb_cutout.copy()\n",
    "\n",
    "rgb_convoled[:,:,0] = convolve(rgb_cutout[:,:,0], kernel)\n",
    "rgb_convoled[:,:,1] = convolve(rgb_cutout[:,:,1], kernel)\n",
    "rgb_convoled[:,:,2] = convolve(rgb_cutout[:,:,2], kernel)\n",
    "\n",
    "#plt.figure(figsize=(5,5))\n",
    "plt.grid(False)\n",
    "plt.imshow(rgb_convoled, origin='lower')"
   ]
  },
  {
   "cell_type": "code",
   "execution_count": null,
   "metadata": {},
   "outputs": [],
   "source": [
    "(rgb_cutout[:,:,1]).shape"
   ]
  },
  {
   "cell_type": "code",
   "execution_count": null,
   "metadata": {},
   "outputs": [],
   "source": [
    "from astropy.coordinates import SkyCoord\n",
    "import astropy.units as u\n",
    "from astropy.nddata import Cutout2D"
   ]
  },
  {
   "cell_type": "code",
   "execution_count": null,
   "metadata": {},
   "outputs": [],
   "source": [
    "position = SkyCoord(ra=179.689293428*u.deg, dec=-0.454379058*u.deg, frame='icrs')\n",
    "cutout_size = u.Quantity((25,25), u.arcsec)\n",
    "r_cutout_1 = Cutout2D(r,position=position,size=cutout_size, wcs=WCS(twod_fits[0].header))\n",
    "g_cutout_1 = Cutout2D(g,position=position,size=cutout_size, wcs=WCS(twod_fits[0].header))\n",
    "b_cutout_1 = Cutout2D(b,position=position,size=cutout_size, wcs=WCS(twod_fits[0].header))"
   ]
  },
  {
   "cell_type": "code",
   "execution_count": null,
   "metadata": {},
   "outputs": [],
   "source": [
    "# r_cutout_data = convolve(r_cutout_1.data, kernel)\n",
    "# g_cutout_data = convolve(g_cutout_1.data, kernel)\n",
    "# b_cutout_data = convolve(b_cutout_1.data, kernel)\n",
    "\n",
    "r_cutout_data = r_cutout_1.data\n",
    "g_cutout_data = g_cutout_1.data\n",
    "b_cutout_data = b_cutout_1.data\n",
    "\n",
    "r_cutout_data[r_cutout_data < 0] = 0\n",
    "g_cutout_data[g_cutout_data < 0] = 0\n",
    "b_cutout_data[b_cutout_data < 0] = 0\n",
    "\n",
    "rgb = np.empty((3, r_cutout_data.shape[0], r_cutout_data.shape[1]))\n",
    "print(rgb.shape)\n",
    "rgb[0] = r_cutout_data\n",
    "rgb[1] = g_cutout_data\n",
    "rgb[2] = b_cutout_data\n",
    "\n",
    "#vmax = rgb.max()\n",
    "\n",
    "#modified_cutout = scale_rgb(rgb,sigma=1/10,max=vmax)\n",
    "\n",
    "modified_cutout = make_lupton_rgb(rgb[0]/vmax,rgb[1]/vmax,rgb[2]/vmax, filename='rgb-cutout-000756-2-0427.png', Q=0.00001, stretch=0.2)\n",
    "\n",
    "# rgb_cutout = make_lupton_rgb(r_cutout_data/vmax, g_cutout_data/vmax, b_cutout_data/vmax, filename='rgb-cutout-000756-2-0427.png', Q=10, stretch=0.2)\n",
    "\n",
    "# modified_cutout[:,:,0] = convolve(modified_cutout[:,:,0], kernel)\n",
    "# modified_cutout[:,:,1] = convolve(modified_cutout[:,:,1], kernel)\n",
    "# modified_cutout[:,:,2] = convolve(modified_cutout[:,:,2], kernel)\n",
    "\n",
    "plt.figure(figsize=(5,5))\n",
    "plt.grid(False)\n",
    "plt.imshow(modified_cutout, origin='lower')"
   ]
  },
  {
   "cell_type": "code",
   "execution_count": null,
   "metadata": {},
   "outputs": [],
   "source": [
    "from PIL import Image\n",
    "from PIL import ImageFilter\n",
    "\n",
    "#modified_cutout.dtype\n",
    "\n",
    "rescaled_image = Image.fromarray(modified_cutout).resize((512,512), Image.BICUBIC).transpose(Image.FLIP_TOP_BOTTOM)\n",
    "rescaled_image = rescaled_image.filter(ImageFilter.GaussianBlur())\n",
    "plt.figure(figsize=(10,10))\n",
    "plt.grid(False)\n",
    "plt.imshow(rescaled_image)"
   ]
  },
  {
   "cell_type": "code",
   "execution_count": null,
   "metadata": {},
   "outputs": [],
   "source": [
    "rescaled_image.save('rescaled_cutout.jpeg')"
   ]
  },
  {
   "cell_type": "code",
   "execution_count": null,
   "metadata": {},
   "outputs": [],
   "source": [
    "vmax"
   ]
  },
  {
   "cell_type": "code",
   "execution_count": null,
   "metadata": {},
   "outputs": [],
   "source": [
    "wcs = WCS(a_header)\n",
    "ra, dec, petroRad = (179.686410, -0.602918, 3.719159)"
   ]
  },
  {
   "cell_type": "code",
   "execution_count": 2,
   "metadata": {},
   "outputs": [
    {
     "data": {
      "text/plain": [
       "29.220472769010875"
      ]
     },
     "execution_count": 2,
     "metadata": {},
     "output_type": "execute_result"
    }
   ],
   "source": [
    "import numpy as np\n",
    "petroRad = 3.719159\n",
    "nRp = 5 # 2 x 3Rp. 2Rp can still miss some of elliptical galaxies\n",
    "minScaling = 0.9\n",
    "rotationFactor = np.sqrt(2)\n",
    "\n",
    "angularsize = nRp * rotationFactor / minScaling * petroRad\n",
    "angularsize"
   ]
  },
  {
   "cell_type": "code",
   "execution_count": null,
   "metadata": {},
   "outputs": [],
   "source": [
    "from astropy.nddata import Cutout2D\n",
    "from astropy.coordinates import SkyCoord, ICRS\n",
    "import astropy.units as u\n",
    "from astropy.units import Quantity"
   ]
  },
  {
   "cell_type": "code",
   "execution_count": null,
   "metadata": {},
   "outputs": [],
   "source": [
    "coords = SkyCoord(ra=ra, dec=dec, frame=ICRS, unit=u.deg)"
   ]
  },
  {
   "cell_type": "code",
   "execution_count": null,
   "metadata": {},
   "outputs": [],
   "source": [
    "size = Quantity(angularsize, unit=u.arcsec)"
   ]
  },
  {
   "cell_type": "code",
   "execution_count": null,
   "metadata": {},
   "outputs": [],
   "source": [
    "cutout_r = Cutout2D(r, position=coords, size=size, wcs=wcs).data\n",
    "cutout_g = Cutout2D(g, position=coords, size=size, wcs=wcs).data\n",
    "cutout_b = Cutout2D(b, position=coords, size=size, wcs=wcs).data"
   ]
  },
  {
   "cell_type": "code",
   "execution_count": null,
   "metadata": {},
   "outputs": [],
   "source": [
    "cutout = np.empty((3, cutout_r.shape[0], cutout_r.shape[1]))\n",
    "cutout[0] = cutout_r\n",
    "cutout[1] = cutout_g\n",
    "cutout[2] = cutout_b"
   ]
  },
  {
   "cell_type": "code",
   "execution_count": null,
   "metadata": {},
   "outputs": [],
   "source": [
    "scaled_data = scale_rgb(cutout, max=np.max(cutout), sigma=1/2.5)\n",
    "\n",
    "plt.imshow(np.moveaxis(scaled_data, 0, -1), interpolation='bicubic', origin='lower')"
   ]
  },
  {
   "cell_type": "code",
   "execution_count": null,
   "metadata": {},
   "outputs": [],
   "source": [
    "def resize(data, size):\n",
    "    output = np.empty((3, size, size))\n",
    "    output[0] = np.array(Image.fromarray(data[0]).resize((size, size), Image.BICUBIC))\n",
    "    output[1] = np.array(Image.fromarray(data[1]).resize((size, size), Image.BICUBIC))\n",
    "    output[2] = np.array(Image.fromarray(data[2]).resize((size, size), Image.BICUBIC))\n",
    "    return output"
   ]
  },
  {
   "cell_type": "code",
   "execution_count": null,
   "metadata": {},
   "outputs": [],
   "source": [
    "img64 = resize(cutout, 64)\n",
    "img64.shape"
   ]
  },
  {
   "cell_type": "code",
   "execution_count": null,
   "metadata": {},
   "outputs": [],
   "source": [
    "scaled_img64 = scale_rgb(img64, max=np.max(img64), sigma=1/2.5)\n",
    "\n",
    "plt.imshow(np.moveaxis(scaled_img64, 0, -1), interpolation='bicubic', origin='lower')"
   ]
  },
  {
   "cell_type": "code",
   "execution_count": null,
   "metadata": {},
   "outputs": [],
   "source": [
    "resultant_cutoutsize = int(cutout_b.shape[0] / rotationFactor)\n",
    "resultant_cutoutsize"
   ]
  },
  {
   "cell_type": "code",
   "execution_count": null,
   "metadata": {},
   "outputs": [],
   "source": [
    "cutout.shape"
   ]
  },
  {
   "cell_type": "code",
   "execution_count": null,
   "metadata": {},
   "outputs": [],
   "source": [
    "cutout_size = cutout_b.shape[0]\n",
    "start = int((cutout_size - resultant_cutoutsize) / 2)\n",
    "end = start + resultant_cutoutsize\n",
    "\n",
    "imgRes = cutout[:,start:end,start:end]\n",
    "#imgRes = resize(cutout, resultant_cutoutsize)\n",
    "# scale_rgb(cutout, min=np.min(cutout), max=np.max(cutout), sigma=1/2.5)\n",
    "scaled_imgRes = scale_rgb(imgRes, max=np.max(imgRes), sigma=1/2.5)\n",
    "print(np.max(scaled_imgRes))\n",
    "resized_imgRes = resize(scaled_imgRes/255.0, 224)\n",
    "\n",
    "plt.imshow(np.moveaxis(resized_imgRes, 0, -1), interpolation='bicubic', origin='lower')"
   ]
  },
  {
   "cell_type": "code",
   "execution_count": null,
   "metadata": {},
   "outputs": [],
   "source": []
  }
 ],
 "metadata": {
  "kernelspec": {
   "display_name": "Python 3",
   "language": "python",
   "name": "python3"
  },
  "language_info": {
   "codemirror_mode": {
    "name": "ipython",
    "version": 3
   },
   "file_extension": ".py",
   "mimetype": "text/x-python",
   "name": "python",
   "nbconvert_exporter": "python",
   "pygments_lexer": "ipython3",
   "version": "3.7.1"
  }
 },
 "nbformat": 4,
 "nbformat_minor": 2
}
