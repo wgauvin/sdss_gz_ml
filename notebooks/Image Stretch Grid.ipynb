{
 "cells": [
  {
   "cell_type": "code",
   "execution_count": null,
   "metadata": {},
   "outputs": [],
   "source": [
    "# Numpy imports\n",
    "import numpy as np\n",
    "from numpy import arcsinh\n",
    "\n",
    "# Matplotlib imports\n",
    "import matplotlib.pyplot as plt\n",
    "\n",
    "# Non-astro imports\n",
    "from PIL import Image\n",
    "from PIL import ImageFilter\n",
    "\n",
    "# Astropy imports\n",
    "from astropy.convolution import Gaussian2DKernel\n",
    "from astropy.convolution import convolve\n",
    "from astropy.coordinates import SkyCoord\n",
    "from astropy.io import fits\n",
    "from astropy.io.fits import HDUList\n",
    "from astropy.nddata import Cutout2D\n",
    "from astropy import units as u\n",
    "from astropy.visualization import make_lupton_rgb\n",
    "from astropy.wcs import WCS\n",
    "\n",
    "# Other astro imports\n",
    "import aplpy\n",
    "from aplpy.rgb import make_rgb_cube\n",
    "from reproject import reproject_interp"
   ]
  },
  {
   "cell_type": "code",
   "execution_count": null,
   "metadata": {},
   "outputs": [],
   "source": [
    "%matplotlib inline"
   ]
  },
  {
   "cell_type": "code",
   "execution_count": null,
   "metadata": {},
   "outputs": [],
   "source": [
    "%ls -l"
   ]
  },
  {
   "cell_type": "code",
   "execution_count": null,
   "metadata": {},
   "outputs": [],
   "source": [
    "fits_files = ['frame-i-000756-2-0427.fits', 'frame-r-000756-2-0427.fits', 'frame-g-000756-2-0427.fits']"
   ]
  },
  {
   "cell_type": "code",
   "execution_count": null,
   "metadata": {},
   "outputs": [],
   "source": [
    "output = 'rgb-000756-2-0427.fits'"
   ]
  },
  {
   "cell_type": "code",
   "execution_count": null,
   "metadata": {},
   "outputs": [],
   "source": [
    "make_rgb_cube(fits_files, output)"
   ]
  },
  {
   "cell_type": "code",
   "execution_count": null,
   "metadata": {},
   "outputs": [],
   "source": [
    "# Make an RGB image\n",
    "aplpy.make_rgb_image('rgb-000756-2-0427.fits', 'rgb-000756-2-0427.png', stretch_r='arcsinh', stretch_g='arcsinh', stretch_b='arcsinh')\n",
    "\n",
    "# Plot the RGB image using the 2d image to indicate the projection\n",
    "f = aplpy.FITSFigure('rgb-000756-2-0427_2d.fits')\n",
    "f.show_rgb('rgb-000756-2-0427.png')"
   ]
  },
  {
   "cell_type": "code",
   "execution_count": null,
   "metadata": {},
   "outputs": [],
   "source": [
    "fitsimage = fits.open('rgb-000756-2-0427.fits')\n",
    "hdu = fitsimage[0]\n",
    "header = hdu.header\n",
    "data = hdu.data\n",
    "wcs = WCS(header, naxis=2)"
   ]
  },
  {
   "cell_type": "code",
   "execution_count": null,
   "metadata": {},
   "outputs": [],
   "source": [
    "data[np.isnan(data)] = -100"
   ]
  },
  {
   "cell_type": "code",
   "execution_count": null,
   "metadata": {},
   "outputs": [],
   "source": [
    "n, x_shape, y_shape = data.shape"
   ]
  },
  {
   "cell_type": "code",
   "execution_count": null,
   "metadata": {},
   "outputs": [],
   "source": [
    "def scale_rgb(data, sigma=6, vmin=0.0, vmax=255.0, gains=[0.9,1.1,1.8], gamma=0.1):\n",
    "    slope = 255.0 /np.sqrt(arcsinh((vmax - vmin)/sigma))\n",
    "    R_IDX = 0\n",
    "    G_IDX = 1\n",
    "    B_IDX = 2\n",
    "\n",
    "    r = data[R_IDX].copy()\n",
    "    g = data[G_IDX].copy()\n",
    "    b = data[B_IDX].copy()\n",
    "\n",
    "    i = (r + g + b) / 3\n",
    "    min_mask = (i <= vmin)\n",
    "    \n",
    "    scale = slope * np.sqrt(arcsinh((i - vmin)/sigma)) / i\n",
    "    scale[min_mask] = 0\n",
    "\n",
    "    r = (r * scale).astype(int)\n",
    "    g = (g * scale).astype(int)\n",
    "    b = (b * scale).astype(int)\n",
    "    \n",
    "    r = (r * gains[R_IDX]).astype(int)\n",
    "    g = (g * gains[G_IDX]).astype(int)\n",
    "    b = (b * gains[B_IDX]).astype(int)\n",
    "    \n",
    "    r = (r + gamma * (r - g)).astype(int)\n",
    "    b = (b + gamma * (b - g)).astype(int)\n",
    "\n",
    "    r[r < 0] = 0\n",
    "    g[g < 0] = 0\n",
    "    b[b < 0] = 0\n",
    "\n",
    "    r[r > 255] = 255\n",
    "    g[g > 255] = 255\n",
    "    b[b > 255] = 255\n",
    "    \n",
    "    result = np.empty((r.shape[0],r.shape[1],3), dtype=np.uint8)\n",
    "    result[:,:,0] = r\n",
    "    result[:,:,1] = g\n",
    "    result[:,:,2] = b\n",
    "\n",
    "    return result"
   ]
  },
  {
   "cell_type": "code",
   "execution_count": null,
   "metadata": {},
   "outputs": [],
   "source": [
    "r = data[0]\n",
    "g = data[1]\n",
    "b = data[2]"
   ]
  },
  {
   "cell_type": "code",
   "execution_count": null,
   "metadata": {},
   "outputs": [],
   "source": [
    "rgb_default = make_lupton_rgb(r, g, b, filename='rgb-000756-2-0427.png', Q=8, stretch=0.4)\n",
    "plt.figure(figsize=(20,40))\n",
    "plt.imshow(rgb_default, origin='lower')"
   ]
  },
  {
   "cell_type": "code",
   "execution_count": null,
   "metadata": {},
   "outputs": [],
   "source": [
    "scaled_rgb = scale_rgb(data, sigma=6)\n",
    "print(scaled_rgb.max())\n",
    "plt.figure(figsize=(20,40))\n",
    "plt.imshow(scaled_rgb, origin='lower')"
   ]
  },
  {
   "cell_type": "code",
   "execution_count": null,
   "metadata": {},
   "outputs": [],
   "source": [
    "def world2pix(ra, dec, wcs):\n",
    "    coords = np.array([[ra, dec]])\n",
    "    location = wcs.wcs_world2pix(coords, 0, ra_dec_order=True)\n",
    "    return location[0][0], location[0][1]\n",
    "\n",
    "def cutout(data, wcs, ra, dec, x_size=100, y_size=100):\n",
    "    x_centre, y_centre = world2pix(ra, dec, wcs)\n",
    "    x_top = int(round(x_centre) - x_size/2)\n",
    "    y_top = int(round(y_centre) - y_size/2)\n",
    "    x_bottom = x_top + x_size\n",
    "    y_bottom = y_top + y_size\n",
    "    \n",
    "    return data[y_top:y_bottom, x_top:x_bottom]"
   ]
  },
  {
   "cell_type": "code",
   "execution_count": null,
   "metadata": {},
   "outputs": [],
   "source": [
    "r_cutout = cutout(r, wcs, 179.689293428, -0.454379058, x_size=224, y_size=224)\n",
    "g_cutout = cutout(g, wcs, 179.689293428, -0.454379058, x_size=224, y_size=224)\n",
    "b_cutout = cutout(b, wcs, 179.689293428, -0.454379058, x_size=224, y_size=224)\n",
    "\n",
    "r_cutout[r_cutout < 0] = 0\n",
    "g_cutout[g_cutout < 0] = 0\n",
    "b_cutout[b_cutout < 0] = 0\n",
    "\n",
    "vmax = max(r.max(), g.max(), b.max())"
   ]
  },
  {
   "cell_type": "code",
   "execution_count": null,
   "metadata": {},
   "outputs": [],
   "source": [
    "rgb_cutout = make_lupton_rgb(r_cutout, g_cutout, b_cutout, filename='rgb-cutout-000756-2-0427.png', Q=8, stretch=0.5)\n",
    "plt.figure(figsize=(10,10))\n",
    "plt.imshow(rgb_cutout, origin='lower')"
   ]
  },
  {
   "cell_type": "code",
   "execution_count": null,
   "metadata": {},
   "outputs": [],
   "source": [
    "kernel = Gaussian2DKernel(x_stddev=0.3)\n",
    "rgb_convoled = rgb_cutout.copy()\n",
    "\n",
    "rgb_convoled[:,:,0] = convolve(rgb_cutout[:,:,0], kernel)\n",
    "rgb_convoled[:,:,1] = convolve(rgb_cutout[:,:,1], kernel)\n",
    "rgb_convoled[:,:,2] = convolve(rgb_cutout[:,:,2], kernel)\n",
    "\n",
    "plt.figure(figsize=(10,10))\n",
    "plt.imshow(rgb_convoled, origin='lower')"
   ]
  },
  {
   "cell_type": "code",
   "execution_count": null,
   "metadata": {},
   "outputs": [],
   "source": [
    "%matplotlib inline\n",
    "\n",
    "def plot_rgb(image_r, image_g, image_b, image,\n",
    "             rtitle='', gtitle='', btitle=''):\n",
    "    fig = plt.figure(figsize=(16, 4))\n",
    "    ax1 = fig.add_subplot(142)\n",
    "    ax2 = fig.add_subplot(143)\n",
    "    ax3 = fig.add_subplot(144)\n",
    "    ax4 = fig.add_subplot(141)\n",
    "\n",
    "    ax1.imshow(image_r, cmap='Reds')\n",
    "    ax1.axes.get_xaxis().set_visible(False)\n",
    "    ax1.axes.get_yaxis().set_visible(False)\n",
    "    ax1.set_title(rtitle)\n",
    "\n",
    "    ax2.imshow(image_g, cmap='Greens')\n",
    "    ax2.axes.get_xaxis().set_visible(False)\n",
    "    ax2.axes.get_yaxis().set_visible(False)\n",
    "    ax2.set_title(gtitle)\n",
    "\n",
    "    ax3.imshow(image_b, cmap='Blues')\n",
    "    ax3.axes.get_xaxis().set_visible(False)\n",
    "    ax3.axes.get_yaxis().set_visible(False)\n",
    "    ax3.set_title(btitle)\n",
    "\n",
    "    ax4.imshow(image)\n",
    "    ax4.axes.get_xaxis().set_visible(False)\n",
    "    ax4.axes.get_yaxis().set_visible(False)"
   ]
  },
  {
   "cell_type": "code",
   "execution_count": null,
   "metadata": {},
   "outputs": [],
   "source": [
    "position = SkyCoord(ra=179.689293428*u.deg, dec=-0.454379058*u.deg, frame='icrs')\n",
    "cutout_size = u.Quantity((25,25), u.arcsec)\n",
    "r_cutout = Cutout2D(r,position=position,size=cutout_size, wcs=wcs)\n",
    "g_cutout = Cutout2D(g,position=position,size=cutout_size, wcs=wcs)\n",
    "b_cutout = Cutout2D(b,position=position,size=cutout_size, wcs=wcs)"
   ]
  },
  {
   "cell_type": "code",
   "execution_count": null,
   "metadata": {},
   "outputs": [],
   "source": [
    "# r_cutout_data = convolve(r_cutout_1.data, kernel)\n",
    "# g_cutout_data = convolve(g_cutout_1.data, kernel)\n",
    "# b_cutout_data = convolve(b_cutout_1.data, kernel)\n",
    "\n",
    "# r_cutout_data = r_cutout_1.data\n",
    "# g_cutout_data = g_cutout_1.data\n",
    "# b_cutout_data = b_cutout_1.data\n",
    "\n",
    "# r_cutout_data[r_cutout_data < 0] = 0\n",
    "# g_cutout_data[g_cutout_data < 0] = 0\n",
    "# b_cutout_data[b_cutout_data < 0] = 0\n",
    "\n",
    "rgb = np.empty((3, r_cutout.shape[0], r_cutout.shape[1]))\n",
    "print(rgb.shape)\n",
    "rgb[0] = r_cutout.data\n",
    "rgb[1] = g_cutout.data\n",
    "rgb[2] = b_cutout.data\n",
    "\n",
    "rgb[rgb < 0] = 0\n",
    "#rgb /= rgb.max()\n",
    "#rgb /= rgb/vmax\n",
    "#print(rgb.max())\n",
    "#print((rgb/vmax).max())\n",
    "\n",
    "modified_cutout = scale_rgb(rgb, sigma=2)\n",
    "\n",
    "#modified_cutout = make_lupton_rgb(rgb[0]/vmax,rgb[1]/vmax,rgb[2]/vmax, filename='rgb-cutout-000756-2-0427.png', Q=0.00001, stretch=0.2)\n",
    "\n",
    "# rgb_cutout = make_lupton_rgb(r_cutout_data/vmax, g_cutout_data/vmax, b_cutout_data/vmax, filename='rgb-cutout-000756-2-0427.png', Q=10, stretch=0.2)\n",
    "\n",
    "# modified_cutout[:,:,0] = convolve(modified_cutout[:,:,0], kernel)\n",
    "# modified_cutout[:,:,1] = convolve(modified_cutout[:,:,1], kernel)\n",
    "# modified_cutout[:,:,2] = convolve(modified_cutout[:,:,2], kernel)\n",
    "\n",
    "plt.figure(figsize=(5,5))\n",
    "plt.imshow(modified_cutout, origin='lower')"
   ]
  },
  {
   "cell_type": "code",
   "execution_count": null,
   "metadata": {},
   "outputs": [],
   "source": [
    "rescaled_image = Image.fromarray(modified_cutout).resize((512,512), Image.BILINEAR).transpose(Image.FLIP_TOP_BOTTOM)\n",
    "rescaled_image = rescaled_image.filter(ImageFilter.GaussianBlur(radius=4))\n",
    "plt.figure(figsize=(10,10))\n",
    "plt.imshow(rescaled_image)"
   ]
  },
  {
   "cell_type": "code",
   "execution_count": null,
   "metadata": {},
   "outputs": [],
   "source": [
    "rescaled_image.save('rescaled_cutout.jpeg')"
   ]
  },
  {
   "cell_type": "code",
   "execution_count": null,
   "metadata": {},
   "outputs": [],
   "source": [
    "vmax"
   ]
  },
  {
   "cell_type": "code",
   "execution_count": null,
   "metadata": {},
   "outputs": [],
   "source": [
    "r > 0"
   ]
  },
  {
   "cell_type": "code",
   "execution_count": null,
   "metadata": {},
   "outputs": [],
   "source": []
  }
 ],
 "metadata": {
  "kernelspec": {
   "display_name": "Python 3",
   "language": "python",
   "name": "python3"
  },
  "language_info": {
   "codemirror_mode": {
    "name": "ipython",
    "version": 3
   },
   "file_extension": ".py",
   "mimetype": "text/x-python",
   "name": "python",
   "nbconvert_exporter": "python",
   "pygments_lexer": "ipython3",
   "version": "3.7.1"
  }
 },
 "nbformat": 4,
 "nbformat_minor": 2
}
