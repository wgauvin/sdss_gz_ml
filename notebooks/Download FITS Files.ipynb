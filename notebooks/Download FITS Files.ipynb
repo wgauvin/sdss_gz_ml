{
 "cells": [
  {
   "cell_type": "code",
   "execution_count": null,
   "metadata": {},
   "outputs": [],
   "source": [
    "import numpy as np\n",
    "import pandas as pd\n",
    "import csv\n",
    "import logging"
   ]
  },
  {
   "cell_type": "code",
   "execution_count": null,
   "metadata": {},
   "outputs": [],
   "source": [
    "%ls -l data/"
   ]
  },
  {
   "cell_type": "code",
   "execution_count": null,
   "metadata": {},
   "outputs": [],
   "source": [
    "input_data = pd.read_csv('data/input.csv')"
   ]
  },
  {
   "cell_type": "code",
   "execution_count": null,
   "metadata": {},
   "outputs": [],
   "source": [
    "fields = input_data[['run', 'rerun', 'camcol', 'field']].drop_duplicates().reset_index(drop=True)\n",
    "fields"
   ]
  },
  {
   "cell_type": "code",
   "execution_count": null,
   "metadata": {},
   "outputs": [],
   "source": [
    "fields.itertuples()"
   ]
  },
  {
   "cell_type": "code",
   "execution_count": null,
   "metadata": {},
   "outputs": [],
   "source": [
    "bands = ['u', 'g', 'r', 'i', 'z']\n",
    "base_url = 'http://dr15.sdss.org/sas/dr15/eboss'\n",
    "# photoObj/frames/<rerun>/<run>/<camcol>/frame-{band}-<run-06d}-<camcol>-<field-04d}.fits.bz\n",
    "url_format = '{}/photoObj/frames/{}/{}/{}/frame-{}-{:06d}-{}-{:04d}.fits.bz2'\n",
    "\n",
    "urls = []\n",
    "for index, row in fields[0:5].iterrows():\n",
    "    for band in bands:\n",
    "        run = row.run\n",
    "        rerun = row.rerun\n",
    "        camcol = row.camcol\n",
    "        field = row.field\n",
    "        \n",
    "        url = url_format.format(base_url, rerun, run, camcol, band, run, camcol, field)\n",
    "        urls.append(url)"
   ]
  },
  {
   "cell_type": "code",
   "execution_count": null,
   "metadata": {},
   "outputs": [],
   "source": [
    "import asyncio\n",
    "import aiohttp\n",
    "import aiofiles\n",
    "import random\n",
    "import async_timeout\n",
    "import os\n",
    "from aiostream import stream, pipe"
   ]
  },
  {
   "cell_type": "code",
   "execution_count": null,
   "metadata": {},
   "outputs": [],
   "source": [
    "urls"
   ]
  },
  {
   "cell_type": "code",
   "execution_count": null,
   "metadata": {},
   "outputs": [],
   "source": [
    "async def ensure_dir(file_path):\n",
    "    directory = os.path.dirname(file_path)\n",
    "    if not os.path.exists(directory):\n",
    "        os.makedirs(directory)\n",
    "\n",
    "async def generate_urls(record):\n",
    "    (session, row) = record\n",
    "    items = []\n",
    "    for band in bands:\n",
    "        run = row.run\n",
    "        rerun = row.rerun\n",
    "        camcol = row.camcol\n",
    "        field = row.field\n",
    "        \n",
    "        url = url_format.format(base_url, rerun, run, camcol, band, run, camcol, field)\n",
    "        out_dir = 'fits/{}/{}/{}'.format(run, camcol, field)\n",
    "        out_filename = '{}/frame-{}-{:06d}-{}-{:04d}.fits.bz2'.format(out_dir, band, run, camcol, field)\n",
    "        yield { 'session': session, 'url': url, 'row': row, 'out_filename': out_filename }\n",
    "\n",
    "async def handle_exception(url, e):\n",
    "    print('Error retrieving {}'.format(url), e)\n",
    "    return { 'error': e, 'url': url }\n",
    "\n",
    "async def handle_http_error(url, response):\n",
    "    print('Received error code {} while retrieving {}'.format(response.status, url))\n",
    "    return { 'error': remotefile.status, 'url': url }\n",
    "\n",
    "async def ignore_existing_file(record):\n",
    "    return not os.path.exists(record['out_filename'])\n",
    "\n",
    "async def retrieve_file(record):\n",
    "    session = record['session']\n",
    "    url = record['url']\n",
    "    out_filename = record['out_filename']\n",
    "    await ensure_dir(out_filename)\n",
    "\n",
    "    print('Retriving url {}'.format(url))\n",
    "    f = await aiofiles.open(out_filename, mode='wb')\n",
    "    try:\n",
    "        with async_timeout.timeout(120):\n",
    "            async with session.get(url) as response:\n",
    "                if response.status == 200:\n",
    "                    async for data in response.content.iter_any():\n",
    "                        await f.write(data)\n",
    "\n",
    "                    print('Finished retriving {}'.format(out_filename))\n",
    "                    return record\n",
    "                else:\n",
    "                    return await handle_http_error(url, response)\n",
    "    except Exception as e:\n",
    "        logging.exception(e)\n",
    "        return await handle_exception(url, e)\n",
    "    finally:\n",
    "        await f.close()\n",
    "\n",
    "async def download_files(urls):\n",
    "    async with aiohttp.ClientSession() as session:\n",
    "        await (stream.repeat(session)\n",
    "           | pipe.zip(stream.iterate(fields.itertuples()))\n",
    "           | pipe.flatmap(generate_urls)\n",
    "           | pipe.filter(ignore_existing_file)\n",
    "           | pipe.take(1000)\n",
    "           | pipe.map(retrieve_file, ordered=False, task_limit=10))\n",
    "\n",
    "def finished_downloading(_):\n",
    "    end = time.time()\n",
    "    print('Process took {:0.3f} seconds'.format(end - start))\n"
   ]
  },
  {
   "cell_type": "code",
   "execution_count": null,
   "metadata": {},
   "outputs": [],
   "source": [
    "import time\n",
    "\n",
    "start = time.time()\n",
    "\n",
    "loop = asyncio.get_event_loop()\n",
    "future = loop.create_task(download_files(urls))\n",
    "future.add_done_callback(finished_downloading)"
   ]
  },
  {
   "cell_type": "code",
   "execution_count": null,
   "metadata": {},
   "outputs": [],
   "source": []
  }
 ],
 "metadata": {
  "kernelspec": {
   "display_name": "Python 3",
   "language": "python",
   "name": "python3"
  },
  "language_info": {
   "codemirror_mode": {
    "name": "ipython",
    "version": 3
   },
   "file_extension": ".py",
   "mimetype": "text/x-python",
   "name": "python",
   "nbconvert_exporter": "python",
   "pygments_lexer": "ipython3",
   "version": "3.7.1"
  }
 },
 "nbformat": 4,
 "nbformat_minor": 2
}
