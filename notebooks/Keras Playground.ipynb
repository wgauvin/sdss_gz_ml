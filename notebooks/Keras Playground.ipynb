{
 "cells": [
  {
   "cell_type": "code",
   "execution_count": 1,
   "metadata": {},
   "outputs": [
    {
     "name": "stderr",
     "output_type": "stream",
     "text": [
      "Using TensorFlow backend.\n"
     ]
    }
   ],
   "source": [
    "from __future__ import print_function\n",
    "\n",
    "import keras\n",
    "from keras.layers import Dense, Conv2D, BatchNormalization, Activation\n",
    "from keras.layers import AveragePooling2D, Input, GlobalAveragePooling2D, Flatten, Dropout\n",
    "from keras.optimizers import Adam, SGD, Adagrad, Adamax, RMSprop\n",
    "#from keras.callbacks import ModelCheckpoint, LearningRateScheduler\n",
    "#from keras.callbacks import ReduceLROnPlateau\n",
    "from keras.preprocessing.image import ImageDataGenerator\n",
    "from keras.callbacks import EarlyStopping, ModelCheckpoint\n",
    "from keras.regularizers import l1, l2\n",
    "from keras import backend as K\n",
    "from keras.models import Model\n",
    "from keras.datasets import cifar10\n"
   ]
  },
  {
   "cell_type": "code",
   "execution_count": 9,
   "metadata": {},
   "outputs": [],
   "source": [
    "input_1 = Input(shape=(10,), name=\"input_1\")\n",
    "dense_1 = Dense(512, name=\"dense_1\", use_bias=False)(input_1)\n",
    "activation_1 = Activation('relu', name=\"activation_1\")(dense_1)\n",
    "dropout_1 = Dropout(0.1, name=\"dropout_1\")(activation_1)\n",
    "dense_2 = Dense(512, name=\"dense_2\", use_bias=False)(dropout_1)\n",
    "added_layers = keras.layers.add([dense_1, dense_2])\n",
    "\n",
    "input_2 = Input(shape=(5,), name=\"input_2\")\n",
    "appended_layers = keras.layers.concatenate([added_layers, input_2])\n",
    "output_1 = Dense(2, name=\"output_1\", use_bias=False)(appended_layers)\n",
    "output_2 = Dense(1, name=\"output_2\", use_bias=False)(dense_2)"
   ]
  },
  {
   "cell_type": "code",
   "execution_count": 10,
   "metadata": {},
   "outputs": [
    {
     "name": "stdout",
     "output_type": "stream",
     "text": [
      "__________________________________________________________________________________________________\n",
      "Layer (type)                    Output Shape         Param #     Connected to                     \n",
      "==================================================================================================\n",
      "input_1 (InputLayer)            (None, 10)           0                                            \n",
      "__________________________________________________________________________________________________\n",
      "dense_1 (Dense)                 (None, 512)          5120        input_1[0][0]                    \n",
      "__________________________________________________________________________________________________\n",
      "activation_1 (Activation)       (None, 512)          0           dense_1[0][0]                    \n",
      "__________________________________________________________________________________________________\n",
      "dropout_1 (Dropout)             (None, 512)          0           activation_1[0][0]               \n",
      "__________________________________________________________________________________________________\n",
      "dense_2 (Dense)                 (None, 512)          262144      dropout_1[0][0]                  \n",
      "__________________________________________________________________________________________________\n",
      "add_3 (Add)                     (None, 512)          0           dense_1[0][0]                    \n",
      "                                                                 dense_2[0][0]                    \n",
      "__________________________________________________________________________________________________\n",
      "input_2 (InputLayer)            (None, 5)            0                                            \n",
      "__________________________________________________________________________________________________\n",
      "concatenate_3 (Concatenate)     (None, 517)          0           add_3[0][0]                      \n",
      "                                                                 input_2[0][0]                    \n",
      "__________________________________________________________________________________________________\n",
      "output_1 (Dense)                (None, 2)            1034        concatenate_3[0][0]              \n",
      "__________________________________________________________________________________________________\n",
      "output_2 (Dense)                (None, 1)            512         dense_2[0][0]                    \n",
      "==================================================================================================\n",
      "Total params: 268,810\n",
      "Trainable params: 268,810\n",
      "Non-trainable params: 0\n",
      "__________________________________________________________________________________________________\n"
     ]
    }
   ],
   "source": [
    "model = Model(inputs=[input_1, input_2], outputs=[output_1, output_2])\n",
    "model.compile(loss={'output_1': 'categorical_crossentropy', 'output_2': 'mae' },\n",
    "              optimizer=Adam(lr=0.001),\n",
    "              metrics=['accuracy'], loss_weights = [1., 0.01])\n",
    "model.summary()"
   ]
  },
  {
   "cell_type": "code",
   "execution_count": null,
   "metadata": {},
   "outputs": [],
   "source": []
  }
 ],
 "metadata": {
  "kernelspec": {
   "display_name": "Python 3",
   "language": "python",
   "name": "python3"
  },
  "language_info": {
   "codemirror_mode": {
    "name": "ipython",
    "version": 3
   },
   "file_extension": ".py",
   "mimetype": "text/x-python",
   "name": "python",
   "nbconvert_exporter": "python",
   "pygments_lexer": "ipython3",
   "version": "3.7.1"
  }
 },
 "nbformat": 4,
 "nbformat_minor": 2
}
